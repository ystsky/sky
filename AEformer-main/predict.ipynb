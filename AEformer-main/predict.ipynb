{
 "cells": [
  {
   "cell_type": "code",
   "execution_count": 1,
   "metadata": {},
   "outputs": [
    {
     "name": "stdout",
     "output_type": "stream",
     "text": [
      "True\n",
      "1\n",
      "NVIDIA GeForce RTX 3090\n",
      "0\n",
      "Looking in indexes: https://pypi.tuna.tsinghua.edu.cn/simple\n",
      "Collecting reformer_pytorch\n",
      "  Downloading https://pypi.tuna.tsinghua.edu.cn/packages/42/15/80280e06afc2b8a1b1289a3bec91bea2ec9989a23e4dd36465a679f06ff2/reformer_pytorch-1.4.4-py3-none-any.whl (16 kB)\n",
      "Collecting einops\n",
      "  Downloading https://pypi.tuna.tsinghua.edu.cn/packages/df/bf/18c6c753fe699c44e3d6013d75074e15f139f9a9adbaeb108f61d73d18d1/einops-0.4.1-py3-none-any.whl (28 kB)\n",
      "Collecting axial-positional-embedding>=0.1.0\n",
      "  Downloading https://pypi.tuna.tsinghua.edu.cn/packages/7a/27/ad886f872b15153905d957a70670efe7521a07c70d324ff224f998e52492/axial_positional_embedding-0.2.1.tar.gz (2.6 kB)\n",
      "Requirement already satisfied: torch in /environment/miniconda3/lib/python3.7/site-packages (from reformer_pytorch) (1.10.0+cu113)\n",
      "Collecting local-attention\n",
      "  Downloading https://pypi.tuna.tsinghua.edu.cn/packages/c3/64/a555f10aa7258703235ac494448867b9be4048a452fe829840431bb64156/local_attention-1.4.3-py3-none-any.whl (5.0 kB)\n",
      "Collecting product-key-memory\n",
      "  Downloading https://pypi.tuna.tsinghua.edu.cn/packages/31/3b/c1f8977e4b04f047acc7b23c7424d1e2e624ed7031e699a2ac2287af4c1f/product_key_memory-0.1.10.tar.gz (3.5 kB)\n",
      "Requirement already satisfied: typing-extensions in /environment/miniconda3/lib/python3.7/site-packages (from torch->reformer_pytorch) (4.0.1)\n",
      "Building wheels for collected packages: axial-positional-embedding, product-key-memory\n",
      "  Building wheel for axial-positional-embedding (setup.py) ... \u001b[?25ldone\n",
      "\u001b[?25h  Created wheel for axial-positional-embedding: filename=axial_positional_embedding-0.2.1-py3-none-any.whl size=2902 sha256=aec3de12909080f11db291b306ec83035d9bb6f50e18d3c1b2f05639b8b2a5ba\n",
      "  Stored in directory: /home/featurize/.cache/pip/wheels/9b/6f/fc/e45bb60a9a2dedd9b25058419ecbd39fc2e4f422c3c42138de\n",
      "  Building wheel for product-key-memory (setup.py) ... \u001b[?25ldone\n",
      "\u001b[?25h  Created wheel for product-key-memory: filename=product_key_memory-0.1.10-py3-none-any.whl size=3069 sha256=a31784a7188d20581f0fd9fb6a16647fc76e72695e4c2036201d61f32db0b72c\n",
      "  Stored in directory: /home/featurize/.cache/pip/wheels/29/0a/ea/f3cad3dc60d83b2ebaca33ce19fc11ce9509eeb9f1a96417d4\n",
      "Successfully built axial-positional-embedding product-key-memory\n",
      "Installing collected packages: product-key-memory, local-attention, einops, axial-positional-embedding, reformer-pytorch\n",
      "Successfully installed axial-positional-embedding-0.2.1 einops-0.4.1 local-attention-1.4.3 product-key-memory-0.1.10 reformer-pytorch-1.4.4\n"
     ]
    }
   ],
   "source": [
    "import torch\n",
    "print(torch.cuda.is_available())\t\t # 查看GPu设备是否可用\n",
    "print(torch.cuda.device_count()) \t\t# 查看GPu设备数量\n",
    "print(torch.cuda.get_device_name())   \t# 查看当前GPu设备名称，默认设备id从0开始\n",
    "print(torch.cuda.current_device())\t\t# 查看当前GPu设备id\n",
    "!pip install reformer_pytorch"
   ]
  },
  {
   "cell_type": "code",
   "execution_count": 2,
   "metadata": {},
   "outputs": [],
   "source": [
    "torch.cuda.is_available() \n",
    "import torch\n",
    "torch.cuda.set_device(0)"
   ]
  },
  {
   "cell_type": "code",
   "execution_count": 3,
   "metadata": {},
   "outputs": [
    {
     "data": {
      "text/plain": [
       "_StoreAction(option_strings=['--devices'], dest='devices', nargs=None, const=None, default='0,1,2,3', type=<class 'str'>, choices=None, help='device ids of multile gpus', metavar=None)"
      ]
     },
     "execution_count": 3,
     "metadata": {},
     "output_type": "execute_result"
    }
   ],
   "source": [
    "import argparse\n",
    "import os\n",
    "import torch\n",
    "from exp.exp_main import Exp_Main#exp stands for experiments\n",
    "import random\n",
    "import numpy as np\n",
    "from utils.tools import dotdict\n",
    "\n",
    "fix_seed = 2021 \n",
    "random.seed(fix_seed)\n",
    "torch.manual_seed(fix_seed)\n",
    "np.random.seed(fix_seed)\n",
    "\n",
    "parser = argparse.ArgumentParser(description='Autoformer & Transformer family for Time Series Forecasting')\n",
    "\n",
    "# basic config\n",
    "parser.add_argument('--is_training', type=int, required=True, default=1, help='status')\n",
    "parser.add_argument('--model_id', type=str, required=True, default='test', help='model id')#模型id\n",
    "parser.add_argument('--model', type=str, required=True, default='Autoformer',#选择模型\n",
    "                    help='model name, options: [Autoformer, Informer, Transformer, AEformer]')\n",
    "\n",
    "# data loader\n",
    "parser.add_argument('--data', type=str, required=True, default='ETTm1', help='dataset type')#数据类型\n",
    "parser.add_argument('--root_path', type=str, default='./data/ETT/', help='root path of the data file')#数据文件夹路径\n",
    "parser.add_argument('--data_path', type=str, default='ETTh1.csv', help='data file')#具体文件\n",
    "parser.add_argument('--features', type=str, default='M',\n",
    "                    help='forecasting task, options:[M, S, MS]; M:multivariate predict multivariate, S:univariate predict univariate, MS:multivariate predict univariate')#预测类别\n",
    "parser.add_argument('--target', type=str, default='OT', help='target feature in S or MS task')#不太懂 OT好像代表Output Target,要预测的单变量\n",
    "parser.add_argument('--freq', type=str, default='h',\n",
    "                    help='freq for time features encoding, options:[s:secondly, t:minutely, h:hourly, d:daily, b:business days, w:weekly, m:monthly], you can also use more detailed freq like 15min or 3h')\n",
    "parser.add_argument('--checkpoints', type=str, default=r'/home/featurize/checkpoints', help='location of model checkpoints')#保存模型\n",
    "\n",
    "# forecasting task\n",
    "parser.add_argument('--seq_len', type=int, default=96, help='input sequence length')#输入序列长度\n",
    "parser.add_argument('--label_len', type=int, default=48, help='start token length')#这个label_len未完全搞懂\n",
    "parser.add_argument('--pred_len', type=int, default=24, help='prediction sequence length')#输出序列长度\n",
    "\n",
    "# model define\n",
    "parser.add_argument('--bucket_size', type=int, default=4, help='for Reformer')#Reformer专用属性\n",
    "parser.add_argument('--n_hashes', type=int, default=4, help='for Reformer')#Reformer专用属性\n",
    "parser.add_argument('--enc_in', type=int, default=7, help='encoder input size')#encoder input size\n",
    "parser.add_argument('--dec_in', type=int, default=7, help='decoder input size')#decoder input size\n",
    "parser.add_argument('--c_out', type=int, default=7, help='output size')#输出长度\n",
    "parser.add_argument('--d_model', type=int, default=512, help='dimension of model')#dimension of model\n",
    "parser.add_argument('--n_heads', type=int, default=8, help='num of heads')#num of heads \n",
    "parser.add_argument('--e_layers', type=int, default=2, help='num of encoder layers')#num of encoder layers\n",
    "parser.add_argument('--d_layers', type=int, default=1, help='num of decoder layers')#num of decoder layers\n",
    "parser.add_argument('--d_ff', type=int, default=2048, help='dimension of fcn')#dimension of fcn\n",
    "parser.add_argument('--moving_avg', type=int, default=25, help='window size of moving average')#窗口滑动平均数\n",
    "parser.add_argument('--factor', type=int, default=1, help='attn factor')#attn factor不太理解\n",
    "parser.add_argument('--distil', action='store_false',\n",
    "                    help='whether to use distilling in encoder, using this argument means not using distilling',\n",
    "                    default=True)#是否在encoder里面使用知识蒸馏\n",
    "parser.add_argument('--dropout', type=float, default=0.05, help='dropout')#dropout\n",
    "parser.add_argument('--embed', type=str, default='timeF',\n",
    "                    help='time features encoding, options:[timeF, fixed, learned]')#time features encoding不太能get到\n",
    "parser.add_argument('--activation', type=str, default='gelu', help='activation')#激活函数default=gelu\n",
    "parser.add_argument('--output_attention', action='store_true', help='whether to output attention in encoder')#encoder的output_attention是否输出\n",
    "parser.add_argument('--do_predict', action='store_true', help='whether to predict unseen future data')#是否预测未见的未来数据,也就是是否进行推理的意思\n",
    "\n",
    "# optimization\n",
    "parser.add_argument('--num_workers', type=int, default=10, help='data loader num workers')# num_workers是加载数据(batch)的线程数目\n",
    "parser.add_argument('--itr', type=int, default=2, help='experiments times')#实验次数\n",
    "parser.add_argument('--train_epochs', type=int, default=10, help='train epochs')#就是epoch\n",
    "parser.add_argument('--batch_size', type=int, default=32, help='batch size of train input data')#bathsize\n",
    "parser.add_argument('--patience', type=int, default=3, help='early stopping patience')#patience: 当early stop被激活(如发现loss相比上一个epoch训练没有下降)，则经过patience个epoch后停止训练\n",
    "parser.add_argument('--learning_rate', type=float, default=0.0001, help='optimizer learning rate')#lr\n",
    "parser.add_argument('--des', type=str, default='test', help='exp description')#test\n",
    "parser.add_argument('--loss', type=str, default='mse', help='loss function')#loss is mse\n",
    "parser.add_argument('--lradj', type=str, default='type1', help='adjust learning rate')#adjust learning-rate\n",
    "parser.add_argument('--use_amp', action='store_true', help='use automatic mixed precision training', default=False)#使用自动混合精度训练\n",
    "\n",
    "# GPU\n",
    "parser.add_argument('--use_gpu', type=bool, default=True, help='use gpu')\n",
    "parser.add_argument('--gpu', type=int, default=0, help='gpu')\n",
    "parser.add_argument('--use_multi_gpu', action='store_true', help='use multiple gpus', default=False)\n",
    "parser.add_argument('--devices', type=str, default='0,1,2,3', help='device ids of multile gpus')\n",
    "\n",
    "\n",
    "\n"
   ]
  },
  {
   "cell_type": "code",
   "execution_count": 4,
   "metadata": {},
   "outputs": [
    {
     "name": "stdout",
     "output_type": "stream",
     "text": [
      "Args in experiment:\n",
      "{'target': 'close', 'des': 'Exp', 'dropout': 0.05, 'num_workers': 10, 'gpu': 0, 'lradj': 'type1', 'devices': '0', 'use_gpu': True, 'use_multi_gpu': False, 'freq': 't', 'checkpoints': '/home/featurize/checkpoints', 'bucket_size': 4, 'n_hashes': 4, 'is_trainging': True, 'root_path': '/home/featurize/work/', 'data_path': '/home/featurize/work/data/stockdatagate.csv', 'model_id': 'ETTh1_96_24', 'model': 'Autoformer', 'data': 'custom', 'features': 'MS', 'seq_len': 1440, 'label_len': 720, 'pred_len': 720, 'e_layers': 2, 'd_layers': 1, 'n_heads': 8, 'factor': 1, 'enc_in': 7, 'dec_in': 7, 'c_out': 1, 'd_model': 512, 'itr': 1, 'd_ff': 2048, 'moving_avg': 25, 'distil': True, 'output_attention': False, 'patience': 3, 'learning_rate': 1e-05, 'batch_size': 32, 'embed': 'timeF', 'activation': 'gelu', 'use_amp': False, 'loss': 'mse', 'train_epochs': 10}\n"
     ]
    }
   ],
   "source": [
    "# args = parser.parse_args()\n",
    "args = dotdict()\n",
    "args.target = 'close'\n",
    "args.des = 'test'\n",
    "args.dropout = 0.05\n",
    "args.num_workers = 10\n",
    "args.gpu = 0\n",
    "args.lradj = 'type1'\n",
    "args.devices = '0'\n",
    "args.use_gpu = True\n",
    "args.use_multi_gpu = False\n",
    "# if args.use_gpu and args.use_multi_gpu: #是否使用多卡的判断\n",
    "#     args.dvices = args.devices.replace(' ', '')\n",
    "#     device_ids = args.devices.split(',')\n",
    "#     args.device_ids = [int(id_) for id_ in device_ids]\n",
    "#     args.gpu = args.device_ids[0]\n",
    "args.freq = 't'\n",
    "args.checkpoints = r'/home/featurize/checkpoints' # location of model checkpoints\n",
    "args.bucket_size = 4\n",
    "args.n_hashes = 4\n",
    "args.is_trainging = True\n",
    "args.root_path = r'/home/featurize/work/' # root path of data file\n",
    "args.data_path = r'/home/featurize/work/data/stockdatagate.csv' # data file\n",
    "#args.data_path = r'/home/featurize/work/data/stockdatahavecomment.csv' # data file\n",
    "\n",
    "args.model_id='ETTh1_96_24'\n",
    "args.model = 'Autoformer'\n",
    "args.data = 'custom'\n",
    "args.features = 'MS'\n",
    "args.seq_len = 1440 # input sequence length of Informer encoder\n",
    "args.label_len = 720 # start token length of Informer decoder\n",
    "args.pred_len = 720 # prediction sequence length\n",
    "args.e_layers = 2\n",
    "args.d_layers = 1\n",
    "args.n_heads = 8\n",
    "args.factor = 1\n",
    "args.enc_in = 7\n",
    "args.dec_in =7\n",
    "args.c_out = 1\n",
    "args.d_model = 512\n",
    "args.des = 'Exp'\n",
    "args.itr = 1\n",
    "args.d_ff = 2048\n",
    "args.moving_avg = 25\n",
    "args.factor = 1\n",
    "args.distil = True\n",
    "args.output_attention = False\n",
    "args.patience= 3\n",
    "args.learning_rate = 0.00001\n",
    "args.batch_size = 32 \n",
    "args.embed = 'timeF'\n",
    "args.activation = 'gelu'\n",
    "args.use_amp = False\n",
    "args.loss = 'mse'\n",
    "args.train_epochs = 10\n",
    "print('Args in experiment:')\n",
    "print(args)\n",
    "\n",
    "Exp = Exp_Main"
   ]
  },
  {
   "cell_type": "code",
   "execution_count": 5,
   "metadata": {},
   "outputs": [],
   "source": [
    "def trainthemedel():\n",
    "    os.environ[\"CUDA_VISIBLE_DEVICES\"] = '0'\n",
    "\n",
    "    for ii in range(args.itr):#itr就是实验次数可不是epoch，parser.add_argument('--itr', type=int, default=2, help='experiments times')\n",
    "        # setting record of experiments\n",
    "        setting = '{}_{}_{}_ft{}_sl{}_ll{}_pl{}_dm{}_nh{}_el{}_dl{}_df{}_fc{}_eb{}_dt{}_{}_{}'.format(\n",
    "            args.model_id,\n",
    "            args.model,\n",
    "            args.data,\n",
    "            args.features,\n",
    "            args.seq_len,\n",
    "            args.label_len,\n",
    "            args.pred_len,\n",
    "            args.d_model,\n",
    "            args.n_heads,\n",
    "            args.e_layers,\n",
    "            args.d_layers,\n",
    "            args.d_ff,\n",
    "            args.factor,\n",
    "            args.embed,\n",
    "            args.distil,\n",
    "            args.des, ii)\n",
    "    \n",
    "        exp = Exp(args)  # set experiments\n",
    "        print(1)\n",
    "        print('>>>>>>>start training : {}>>>>>>>>>>>>>>>>>>>>>>>>>>'.format(setting))\n",
    "        exp.train(setting)#setting是用来保存模型的名字用的，很细节\n",
    "        print(2)\n",
    "        print('>>>>>>>testing : {}<<<<<<<<<<<<<<<<<<<<<<<<<<<<<<<<<'.format(setting))\n",
    "        exp.test(setting)\n",
    "        torch.cuda.empty_cache()\n",
    "        print(3)\n",
    "\n"
   ]
  },
  {
   "cell_type": "code",
   "execution_count": 1,
   "metadata": {
    "tags": []
   },
   "outputs": [
    {
     "ename": "NameError",
     "evalue": "name 'args' is not defined",
     "output_type": "error",
     "traceback": [
      "\u001b[0;31m---------------------------------------------------------------------------\u001b[0m",
      "\u001b[0;31mNameError\u001b[0m                                 Traceback (most recent call last)",
      "\u001b[0;32m/tmp/ipykernel_19082/3767120853.py\u001b[0m in \u001b[0;36m<module>\u001b[0;34m\u001b[0m\n\u001b[0;32m----> 1\u001b[0;31m \u001b[0margs\u001b[0m\u001b[0;34m.\u001b[0m\u001b[0mmodel\u001b[0m \u001b[0;34m=\u001b[0m \u001b[0;34m'Autoformer'\u001b[0m\u001b[0;34m\u001b[0m\u001b[0;34m\u001b[0m\u001b[0m\n\u001b[0m\u001b[1;32m      2\u001b[0m \u001b[0margs\u001b[0m\u001b[0;34m.\u001b[0m\u001b[0mseq_len\u001b[0m \u001b[0;34m=\u001b[0m \u001b[0;36m1440\u001b[0m \u001b[0;31m# input sequence length of Informer encoder\u001b[0m\u001b[0;34m\u001b[0m\u001b[0;34m\u001b[0m\u001b[0m\n\u001b[1;32m      3\u001b[0m \u001b[0margs\u001b[0m\u001b[0;34m.\u001b[0m\u001b[0mlabel_len\u001b[0m \u001b[0;34m=\u001b[0m \u001b[0;36m720\u001b[0m \u001b[0;31m# start token length of Informer decoder\u001b[0m\u001b[0;34m\u001b[0m\u001b[0;34m\u001b[0m\u001b[0m\n\u001b[1;32m      4\u001b[0m \u001b[0margs\u001b[0m\u001b[0;34m.\u001b[0m\u001b[0mpred_len\u001b[0m \u001b[0;34m=\u001b[0m \u001b[0;36m720\u001b[0m \u001b[0;31m# prediction sequence length\u001b[0m\u001b[0;34m\u001b[0m\u001b[0;34m\u001b[0m\u001b[0m\n\u001b[1;32m      5\u001b[0m \u001b[0;34m\u001b[0m\u001b[0m\n",
      "\u001b[0;31mNameError\u001b[0m: name 'args' is not defined"
     ]
    }
   ],
   "source": [
    "args.model = 'Autoformer'\n",
    "args.seq_len = 1440 # input sequence length of Informer encoder\n",
    "args.label_len = 720 # start token length of Informer decoder\n",
    "args.pred_len = 720 # prediction sequence length\n",
    "\n",
    "trainthemedel()"
   ]
  },
  {
   "cell_type": "code",
   "execution_count": null,
   "metadata": {},
   "outputs": [],
   "source": []
  }
 ],
 "metadata": {
  "interpreter": {
   "hash": "f57785bf53e86c458d31dd8512073d1ac6cae98f342ec9a1a9a8506681d63dcb"
  },
  "kernelspec": {
   "display_name": "Python 3 (ipykernel)",
   "language": "python",
   "name": "python3"
  },
  "language_info": {
   "codemirror_mode": {
    "name": "ipython",
    "version": 3
   },
   "file_extension": ".py",
   "mimetype": "text/x-python",
   "name": "python",
   "nbconvert_exporter": "python",
   "pygments_lexer": "ipython3",
   "version": "3.7.10"
  }
 },
 "nbformat": 4,
 "nbformat_minor": 4
}
