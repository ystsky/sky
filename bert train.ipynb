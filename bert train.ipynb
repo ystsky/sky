{
 "cells": [
  {
   "cell_type": "code",
   "execution_count": 1,
   "metadata": {},
   "outputs": [
    {
     "name": "stderr",
     "output_type": "stream",
     "text": [
      "D:\\anaconda\\lib\\site-packages\\torchaudio\\backend\\utils.py:67: UserWarning: No audio backend is available.\n",
      "  warnings.warn('No audio backend is available.')\n"
     ]
    }
   ],
   "source": [
    "import os\n",
    "import csv\n",
    "import copy\n",
    "import random\n",
    "import numpy as np\n",
    "import pandas as pd\n",
    "import torch\n",
    "import torch.nn as nn\n",
    "import torch.utils.data as Data\n",
    "from sklearn.utils import shuffle as reset\n",
    "from tqdm import tqdm\n",
    "import transformers\n",
    "from transformers import *\n",
    "import visdom\n",
    "import matplotlib.pyplot as plt\n",
    "\n"
   ]
  },
  {
   "cell_type": "code",
   "execution_count": 2,
   "metadata": {},
   "outputs": [],
   "source": [
    "transformers.logging.set_verbosity_error()\n",
    "device = torch.device('cuda:0' if torch.cuda.is_available() else 'cpu')\n",
    "classes2idx = {'Neutral': 0, 'Negative': 1, 'Positive': 2}\n",
    "idx2classes = {0: 'Neutral', 1: 'Negative', 2: 'Positive'}\n"
   ]
  },
  {
   "cell_type": "code",
   "execution_count": 3,
   "metadata": {},
   "outputs": [],
   "source": [
    "model_name = 'bert-base-chinese'\n",
    "output_model = r\"model\\model.pth\"\n",
    "best_score = 0\n",
    "batch_size = 16"
   ]
  },
  {
   "cell_type": "code",
   "execution_count": 4,
   "metadata": {},
   "outputs": [],
   "source": [
    "class CustomDataset(Data.Dataset):\n",
    "    def __init__(self, data, maxlen, with_labels=True, model_name='bert-base-chinese'):\n",
    "        self.data = data  # pandas dataframe\n",
    "\n",
    "        # Initialize the tokenizer\n",
    "        self.tokenizer = AutoTokenizer.from_pretrained(model_name)\n",
    "        self.maxlen = maxlen\n",
    "        self.with_labels = with_labels\n",
    "\n",
    "    def __len__(self):\n",
    "        return len(self.data)\n",
    "\n",
    "    def __getitem__(self, index):\n",
    "\n",
    "        # Selecting sentence1 and sentence2 at the specified index in the data frame\n",
    "        sent = str(self.data.loc[index, 'content'])\n",
    "\n",
    "        # Tokenize the pair of sentences to get token ids, attention masks and token type ids\n",
    "        encoded_pair = self.tokenizer(sent,\n",
    "                                      padding='max_length',  # Pad to max_length\n",
    "                                      truncation=True,  # Truncate to max_length\n",
    "                                      max_length=self.maxlen,\n",
    "                                      return_tensors='pt')  # Return torch.Tensor objects\n",
    "\n",
    "        token_ids = encoded_pair['input_ids'].squeeze(0)  # tensor of token ids\n",
    "        attn_masks = encoded_pair['attention_mask'].squeeze(\n",
    "            0)  # binary tensor with \"0\" for padded values and \"1\" for the other values\n",
    "        token_type_ids = encoded_pair['token_type_ids'].squeeze(\n",
    "            0)  # binary tensor with \"0\" for the 1st sentence tokens & \"1\" for the 2nd sentence tokens\n",
    "        #制定了三个张量\n",
    "        if self.with_labels:  # True if the dataset has labels\n",
    "            label = self.data.loc[index, 'class_label']\n",
    "            return token_ids, attn_masks, token_type_ids, label\n",
    "        else:\n",
    "            return token_ids, attn_masks, token_type_ids"
   ]
  },
  {
   "cell_type": "code",
   "execution_count": 5,
   "metadata": {},
   "outputs": [],
   "source": [
    "class MyModel(nn.Module):\n",
    "    def __init__(self, freeze_bert=False, model_name='bert-base-chinese', hidden_size=768, num_classes=5):\n",
    "        super(MyModel, self).__init__()\n",
    "        self.bert = AutoModel.from_pretrained(model_name, output_hidden_states=True, return_dict=True)\n",
    "\n",
    "        if freeze_bert:\n",
    "            for p in self.bert.parameters():\n",
    "                p.requires_grad = False\n",
    "\n",
    "        self.fc = nn.Sequential(\n",
    "            nn.Dropout(p=0.2),\n",
    "            nn.Linear(hidden_size * 4, num_classes, bias=True),\n",
    "        )\n",
    "\n",
    "\n",
    "    def forward(self, input_ids, attn_masks, token_type_ids):\n",
    "        outputs = self.bert(input_ids, token_type_ids=token_type_ids, attention_mask=attn_masks)\n",
    "        hidden_states = torch.cat(tuple([outputs.hidden_states[i] for i in [-1, -2, -3, -4]]),\n",
    "                                  dim=-1)  # [bs, seq_len, hidden_dim*4]\n",
    "        first_hidden_states = hidden_states[:, 0, :]  # [bs, hidden_dim*4]\n",
    "        #print(first_hidden_states)\n",
    "        \n",
    "        \n",
    "        \n",
    "        \n",
    "        logits = self.fc(first_hidden_states)\n",
    "        #print(\"logits=\")\n",
    "        #print(logits)\n",
    "        return logits"
   ]
  },
  {
   "cell_type": "code",
   "execution_count": 6,
   "metadata": {},
   "outputs": [],
   "source": [
    "def set_seed(seed):\n",
    "    \"\"\" Set all seeds to make results reproducible \"\"\"\n",
    "    torch.manual_seed(seed)\n",
    "    torch.cuda.manual_seed_all(seed)\n",
    "    torch.backends.cudnn.deterministic = True\n",
    "    torch.backends.cudnn.benchmark = False\n",
    "    np.random.seed(seed)\n",
    "    random.seed(seed)\n",
    "    os.environ['PYTHONHASHSEED'] = str(seed)"
   ]
  },
  {
   "cell_type": "code",
   "execution_count": 7,
   "metadata": {},
   "outputs": [],
   "source": [
    "\n",
    "def process_data(filename, classes2idx, with_labels=True):\n",
    "    data = pd.read_csv(filename)\n",
    "    if with_labels:\n",
    "        data = data.replace({'class_label': classes2idx})\n",
    "    return data\n"
   ]
  },
  {
   "cell_type": "code",
   "execution_count": 8,
   "metadata": {},
   "outputs": [],
   "source": [
    "def flat_accuracy(preds, labels):\n",
    "    pred_flat = np.argmax(preds, axis=1).flatten()  # [3, 5, 8, 1, 2, ....]\n",
    "    labels_flat = labels.flatten()\n",
    "    return np.sum(pred_flat == labels_flat) / len(labels_flat)"
   ]
  },
  {
   "cell_type": "code",
   "execution_count": 9,
   "metadata": {},
   "outputs": [],
   "source": [
    "def save(model, optimizer):\n",
    "    # save\n",
    "    print('The best model has been saved')\n",
    "    torch.save({\n",
    "        'model_state_dict': model.state_dict(),\n",
    "        'optimizer_state_dict': optimizer.state_dict()\n",
    "    }, output_model)\n",
    "    "
   ]
  },
  {
   "cell_type": "code",
   "execution_count": 10,
   "metadata": {},
   "outputs": [],
   "source": [
    "def train_test_split(data_df, valid_size=0.1, test_size=0.1, shuffle=True, random_state=None):\n",
    "    if shuffle:\n",
    "        data_df = reset(data_df, random_state=random_state)\n",
    "    \n",
    "    \n",
    "    train = data_df[int(len(data_df) * (test_size+valid_size)):].reset_index(drop=True)\n",
    "    test = data_df[:int(len(data_df) * test_size)].reset_index(drop=True)\n",
    "    valid = data_df[int(len(data_df) * test_size):int(len(data_df) * (test_size+valid_size))].reset_index(drop=True)\n",
    "\n",
    "    return train, valid, test"
   ]
  },
  {
   "cell_type": "code",
   "execution_count": 11,
   "metadata": {},
   "outputs": [],
   "source": [
    "def train_eval(model, criterion, optimizer, train_loader, val_loader, test_loader, epochs=2):\n",
    "    checkpoint = torch.load(output_model, map_location='cpu')\n",
    "    \n",
    "    model.load_state_dict(checkpoint['model_state_dict'])\n",
    "    model.to(device)\n",
    "\n",
    "    optimizer.load_state_dict(checkpoint['optimizer_state_dict'])\n",
    "    \n",
    "\n",
    "    print('-----Training-----')\n",
    "    for epoch in range(epochs):\n",
    "        model.train()\n",
    "        print('Epoch', epoch)\n",
    "        for i, batch in enumerate(tqdm(train_loader)):\n",
    "            batch = tuple(t.to(device) for t in batch)\n",
    "            logits = model(batch[0], batch[1], batch[2])\n",
    "            loss = criterion(logits, batch[3])\n",
    "            times.append(i)\n",
    "            Loss_list.append(loss.item())\n",
    "            #print(i,\" loss=\",loss.item())\n",
    "\n",
    "            optimizer.zero_grad()\n",
    "            loss.backward()\n",
    "            optimizer.step()\n",
    "            if i % 8 == 0:\n",
    "                eval(model, optimizer, val_loader, train_loader,test_loader)"
   ]
  },
  {
   "cell_type": "code",
   "execution_count": 12,
   "metadata": {},
   "outputs": [],
   "source": [
    "def eval(model, optimizer, validation_dataloader, train_dataloader, test_dataloader):\n",
    "\n",
    "    model.eval()\n",
    "    eval_loss, eval_accuracy, nb_eval_steps = 0, 0, 0\n",
    "    for batch in validation_dataloader:\n",
    "        batch = tuple(t.to(device) for t in batch)\n",
    "        with torch.no_grad():\n",
    "            logits = model(batch[0], batch[1], batch[2])\n",
    "            logits = logits.detach().cpu().numpy()\n",
    "            label_ids = batch[3].cpu().numpy()\n",
    "            tmp_eval_accuracy = flat_accuracy(logits, label_ids)\n",
    "            eval_accuracy += tmp_eval_accuracy\n",
    "            nb_eval_steps += 1\n",
    "    Accuracy_list.append(eval_accuracy / nb_eval_steps)\n",
    "    print(\"Validation Accuracy: {}\".format(eval_accuracy / nb_eval_steps))\n",
    "    \n",
    "   # \n",
    "   # teval_loss, teval_accuracy, tnb_eval_steps = 0, 0, 0\n",
    "   # for tbatch in train_dataloader:\n",
    "   #     tbatch = tuple(t.to(device) for t in tbatch)\n",
    "   #     with torch.no_grad():\n",
    "   #         tlogits = model(tbatch[0], tbatch[1], tbatch[2])\n",
    "   #         tlogits = tlogits.detach().cpu().numpy()\n",
    "   #         tlabel_ids = tbatch[3].cpu().numpy()\n",
    "   #         ttmp_eval_accuracy = flat_accuracy(tlogits, tlabel_ids)\n",
    "   #         teval_accuracy += ttmp_eval_accuracy\n",
    "   #         tnb_eval_steps += 1\n",
    "   # print(\"Train Accuracy: {}\".format(teval_accuracy / tnb_eval_steps))\n",
    "   # Train_list.append(teval_accuracy / tnb_eval_steps)\n",
    "   # \n",
    "    teeval_loss, teeval_accuracy, tenb_eval_steps = 0, 0, 0\n",
    "    for tebatch in test_dataloader:\n",
    "        tebatch = tuple(t.to(device) for t in tebatch)\n",
    "        with torch.no_grad():\n",
    "            telogits = model(tebatch[0], tebatch[1], tebatch[2])\n",
    "            telogits = telogits.detach().cpu().numpy()\n",
    "            telabel_ids = tebatch[3].cpu().numpy()\n",
    "            tetmp_eval_accuracy = flat_accuracy(telogits, telabel_ids)\n",
    "            teeval_accuracy += tetmp_eval_accuracy\n",
    "            tenb_eval_steps += 1\n",
    "    print(\"Test Accuracy: {}\".format(teeval_accuracy / tenb_eval_steps))\n",
    "    Test_list.append(teeval_accuracy / tenb_eval_steps)  \n",
    "\n",
    "\n",
    "    \n",
    "    global best_score\n",
    "    if best_score < eval_accuracy / nb_eval_steps:\n",
    "        best_score = eval_accuracy / nb_eval_steps\n",
    "        save(model, optimizer)"
   ]
  },
  {
   "cell_type": "code",
   "execution_count": 13,
   "metadata": {},
   "outputs": [],
   "source": [
    "def test(model, dataloader, with_labels=False):\n",
    "    # load model\n",
    "    checkpoint = torch.load(output_model, map_location='cpu')\n",
    "\n",
    "    model.load_state_dict(checkpoint['model_state_dict'])\n",
    "    model.to(device)\n",
    "\n",
    "    print('-----Testing-----')\n",
    "\n",
    "    pred_label = []\n",
    "    model.eval()\n",
    "    for i, batch in enumerate(tqdm(classify_loader)):\n",
    "        batch = tuple(t.to(device) for t in batch)\n",
    "        with torch.no_grad():\n",
    "            logits = model(batch[0], batch[1], batch[2])\n",
    "            logits = logits.detach().cpu().numpy()\n",
    "            preds = np.argmax(logits, axis=1).flatten()\n",
    "            pred_label.extend(preds)\n",
    "\n",
    "    pd.DataFrame(data=pred_label, index=range(len(pred_label))).to_csv(r'data\\testpred.csv', index=False, header=['class_label'],\n",
    "                                                                       encoding='utf-8')\n",
    "\n",
    "    rel_dict = idx2classes\n",
    "    pred = pd.read_csv(r\"data\\testpred.csv\")\n",
    "    result = pd.read_csv(test_data)\n",
    "    result[\"pre_label\"]=pred[\"class_label\"]\n",
    "    result.to_csv(r\"data\\testresult.csv\",  index=False, encoding='utf-8-sig')\n",
    "    print('Classify Completed')"
   ]
  },
  {
   "cell_type": "code",
   "execution_count": 14,
   "metadata": {},
   "outputs": [],
   "source": [
    "def classify(model, dataloader, with_labels=False):\n",
    "    # load model\n",
    "    checkpoint = torch.load(output_model, map_location='cpu')\n",
    "\n",
    "    model.load_state_dict(checkpoint['model_state_dict'])\n",
    "    model.to(device)\n",
    "\n",
    "    print('-----Classify-----')\n",
    "\n",
    "    pred_label = []\n",
    "    model.eval()\n",
    "    for i, batch in enumerate(tqdm(classify_loader)):\n",
    "        batch = tuple(t.to(device) for t in batch)\n",
    "        with torch.no_grad():\n",
    "            logits = model(batch[0], batch[1], batch[2])\n",
    "            logits = logits.detach().cpu().numpy()\n",
    "            preds = np.argmax(logits, axis=1).flatten()\n",
    "            pred_label.extend(preds)\n",
    "\n",
    "    pd.DataFrame(data=pred_label, index=range(len(pred_label))).to_csv(r'data\\pred.csv', index=False, header=['class_label'],\n",
    "                                                                       encoding='utf-8')\n",
    "\n",
    "    rel_dict = idx2classes\n",
    "    pred = pd.read_csv(r\"data\\pred.csv\")\n",
    "    result = pd.read_csv(classify_data)\n",
    "    result[\"pre_label\"]=pred[\"class_label\"]\n",
    "    result = result.replace({'pre_label': idx2classes})\n",
    "    result.to_csv(r\"data\\2021classifyresult.csv\", index=False, encoding='utf-8-sig')\n",
    "    print('Classify Completed')"
   ]
  },
  {
   "cell_type": "code",
   "execution_count": 15,
   "metadata": {},
   "outputs": [],
   "source": [
    "def countdata():\n",
    "    print('-----count data-----')\n",
    "    stock = pd.read_csv(r\"data\\2021stock - 副本.csv\")\n",
    "    comment = pd.read_csv(r\"data\\2021classifyresult.csv\")\n",
    "    \n",
    "    time_list = []\n",
    "    for i in range(0,len(stock)):\n",
    "        riqi_nian = str(stock[\"date\"][i])\n",
    "        rizi = riqi_nian\n",
    "        time_list.append(rizi)\n",
    "        \n",
    "    Positive = comment[comment['pre_label'] == 'Positive']\n",
    "    Neutral = comment[comment['pre_label'] == 'Neutral']\n",
    "    Negative = comment[comment['pre_label'] == 'Negative']\n",
    "    Positive_list = []\n",
    "    Neutral_list = []\n",
    "    Negative_list = []\n",
    "    \n",
    "    for i in tqdm(range(0,len(stock))):\n",
    "        l = len(Negative[Negative['date'] == time_list[i]])\n",
    "        Negative_list.append(l)\n",
    "        \n",
    "\n",
    "        j = len(Neutral[Neutral['date'] == time_list[i]])\n",
    "        Neutral_list.append(j)\n",
    "        \n",
    "\n",
    "        k = len(Positive[Positive['date'] == time_list[i]])\n",
    "        Positive_list.append(k)   \n",
    "        \n",
    "    count =pd.DataFrame()\n",
    "    \n",
    "    count['Negative']=Negative_list\n",
    "    count['Neutral']=Neutral_list\n",
    "    count['Positive']=Positive_list\n",
    "    count = count+1\n",
    "    count.to_csv(r\"data\\2021count.csv\", encoding='utf-8-sig')\n",
    "    \n",
    "    \n",
    "    stock['Negative']=count['Negative']\n",
    "    stock['Neutral']=count['Neutral']\n",
    "    stock['Positive']=count['Positive']\n",
    "    stock.to_csv(r\"data\\2021stockdata.csv\", encoding='utf-8-sig',index = False)\n"
   ]
  },
  {
   "cell_type": "code",
   "execution_count": 16,
   "metadata": {
    "scrolled": true
   },
   "outputs": [
    {
     "name": "stdout",
     "output_type": "stream",
     "text": [
      "Reading training data...\n",
      "Reading validation data...\n",
      "Reading test data...\n",
      "save the first model\n"
     ]
    },
    {
     "name": "stderr",
     "output_type": "stream",
     "text": [
      "\r",
      "  0%|          | 0/750 [00:00<?, ?it/s]"
     ]
    },
    {
     "name": "stdout",
     "output_type": "stream",
     "text": [
      "-----Training-----\n",
      "Epoch 0\n",
      "Validation Accuracy: 0.31183510638297873\n",
      "Test Accuracy: 0.3184840425531915\n",
      "The best model has been saved\n"
     ]
    },
    {
     "name": "stderr",
     "output_type": "stream",
     "text": [
      "  1%|          | 8/750 [00:17<18:49,  1.52s/it]  "
     ]
    },
    {
     "name": "stdout",
     "output_type": "stream",
     "text": [
      "Validation Accuracy: 0.504654255319149\n",
      "Test Accuracy: 0.46232269503546103\n",
      "The best model has been saved\n"
     ]
    },
    {
     "name": "stderr",
     "output_type": "stream",
     "text": [
      "  2%|▏         | 16/750 [00:33<07:58,  1.53it/s] "
     ]
    },
    {
     "name": "stdout",
     "output_type": "stream",
     "text": [
      "Validation Accuracy: 0.5139627659574468\n",
      "Test Accuracy: 0.47052304964539005\n",
      "The best model has been saved\n"
     ]
    },
    {
     "name": "stderr",
     "output_type": "stream",
     "text": [
      "  3%|▎         | 24/750 [00:49<06:59,  1.73it/s]"
     ]
    },
    {
     "name": "stdout",
     "output_type": "stream",
     "text": [
      "Validation Accuracy: 0.5070921985815603\n"
     ]
    },
    {
     "name": "stderr",
     "output_type": "stream",
     "text": [
      "\r",
      "  3%|▎         | 25/750 [01:01<49:34,  4.10s/it]"
     ]
    },
    {
     "name": "stdout",
     "output_type": "stream",
     "text": [
      "Test Accuracy: 0.46165780141843976\n"
     ]
    },
    {
     "name": "stderr",
     "output_type": "stream",
     "text": [
      "  4%|▍         | 32/750 [01:02<08:02,  1.49it/s]"
     ]
    },
    {
     "name": "stdout",
     "output_type": "stream",
     "text": [
      "Validation Accuracy: 0.5356826241134751\n",
      "Test Accuracy: 0.49357269503546103\n",
      "The best model has been saved\n"
     ]
    },
    {
     "name": "stderr",
     "output_type": "stream",
     "text": [
      "  5%|▌         | 40/750 [01:18<06:58,  1.70it/s]"
     ]
    },
    {
     "name": "stdout",
     "output_type": "stream",
     "text": [
      "Validation Accuracy: 0.6128102836879432\n",
      "Test Accuracy: 0.5822251773049645\n",
      "The best model has been saved\n"
     ]
    },
    {
     "name": "stderr",
     "output_type": "stream",
     "text": [
      "  6%|▋         | 48/750 [01:34<08:57,  1.31it/s]"
     ]
    },
    {
     "name": "stdout",
     "output_type": "stream",
     "text": [
      "Validation Accuracy: 0.6110372340425532\n"
     ]
    },
    {
     "name": "stderr",
     "output_type": "stream",
     "text": [
      "\r",
      "  7%|▋         | 49/750 [01:46<49:29,  4.24s/it]"
     ]
    },
    {
     "name": "stdout",
     "output_type": "stream",
     "text": [
      "Test Accuracy: 0.5859929078014184\n"
     ]
    },
    {
     "name": "stderr",
     "output_type": "stream",
     "text": [
      "  7%|▋         | 56/750 [01:48<07:56,  1.46it/s]"
     ]
    },
    {
     "name": "stdout",
     "output_type": "stream",
     "text": [
      "Validation Accuracy: 0.6265514184397163\n",
      "Test Accuracy: 0.599290780141844\n",
      "The best model has been saved\n"
     ]
    },
    {
     "name": "stderr",
     "output_type": "stream",
     "text": [
      "  9%|▊         | 64/750 [02:03<08:32,  1.34it/s]"
     ]
    },
    {
     "name": "stdout",
     "output_type": "stream",
     "text": [
      "Validation Accuracy: 0.6300975177304964\n",
      "Test Accuracy: 0.6136968085106383\n",
      "The best model has been saved\n"
     ]
    },
    {
     "name": "stderr",
     "output_type": "stream",
     "text": [
      " 10%|▉         | 72/750 [02:20<08:59,  1.26it/s]"
     ]
    },
    {
     "name": "stdout",
     "output_type": "stream",
     "text": [
      "Validation Accuracy: 0.6376329787234043\n",
      "Test Accuracy: 0.6256648936170213\n",
      "The best model has been saved\n"
     ]
    },
    {
     "name": "stderr",
     "output_type": "stream",
     "text": [
      " 11%|█         | 80/750 [02:36<08:28,  1.32it/s]"
     ]
    },
    {
     "name": "stdout",
     "output_type": "stream",
     "text": [
      "Validation Accuracy: 0.699468085106383\n",
      "Test Accuracy: 0.6839539007092199\n",
      "The best model has been saved\n"
     ]
    },
    {
     "name": "stderr",
     "output_type": "stream",
     "text": [
      " 12%|█▏        | 88/750 [02:51<08:39,  1.28it/s]"
     ]
    },
    {
     "name": "stdout",
     "output_type": "stream",
     "text": [
      "Validation Accuracy: 0.7169769503546098\n",
      "Test Accuracy: 0.7005762411347518\n",
      "The best model has been saved\n"
     ]
    },
    {
     "name": "stderr",
     "output_type": "stream",
     "text": [
      " 13%|█▎        | 96/750 [03:08<08:45,  1.24it/s]"
     ]
    },
    {
     "name": "stdout",
     "output_type": "stream",
     "text": [
      "Validation Accuracy: 0.7005762411347518\n"
     ]
    },
    {
     "name": "stderr",
     "output_type": "stream",
     "text": [
      "\r",
      " 13%|█▎        | 97/750 [03:21<46:30,  4.27s/it]"
     ]
    },
    {
     "name": "stdout",
     "output_type": "stream",
     "text": [
      "Test Accuracy: 0.6819592198581561\n"
     ]
    },
    {
     "name": "stderr",
     "output_type": "stream",
     "text": [
      " 14%|█▍        | 104/750 [03:22<07:27,  1.44it/s]"
     ]
    },
    {
     "name": "stdout",
     "output_type": "stream",
     "text": [
      "Validation Accuracy: 0.742686170212766\n",
      "Test Accuracy: 0.7287234042553191\n",
      "The best model has been saved\n"
     ]
    },
    {
     "name": "stderr",
     "output_type": "stream",
     "text": [
      " 15%|█▍        | 112/750 [03:37<07:54,  1.35it/s]"
     ]
    },
    {
     "name": "stdout",
     "output_type": "stream",
     "text": [
      "Validation Accuracy: 0.7369237588652482\n"
     ]
    },
    {
     "name": "stderr",
     "output_type": "stream",
     "text": [
      "\r",
      " 15%|█▌        | 113/750 [03:50<44:43,  4.21s/it]"
     ]
    },
    {
     "name": "stdout",
     "output_type": "stream",
     "text": [
      "Test Accuracy: 0.7136524822695035\n"
     ]
    },
    {
     "name": "stderr",
     "output_type": "stream",
     "text": [
      " 16%|█▌        | 120/750 [03:51<07:10,  1.46it/s]"
     ]
    },
    {
     "name": "stdout",
     "output_type": "stream",
     "text": [
      "Validation Accuracy: 0.7506648936170213\n",
      "Test Accuracy: 0.7229609929078014\n",
      "The best model has been saved\n"
     ]
    },
    {
     "name": "stderr",
     "output_type": "stream",
     "text": [
      " 17%|█▋        | 128/750 [04:07<07:40,  1.35it/s]"
     ]
    },
    {
     "name": "stdout",
     "output_type": "stream",
     "text": [
      "Validation Accuracy: 0.7393617021276596\n"
     ]
    },
    {
     "name": "stderr",
     "output_type": "stream",
     "text": [
      "\r",
      " 17%|█▋        | 129/750 [04:20<47:15,  4.57s/it]"
     ]
    },
    {
     "name": "stdout",
     "output_type": "stream",
     "text": [
      "Test Accuracy: 0.7156471631205673\n"
     ]
    },
    {
     "name": "stderr",
     "output_type": "stream",
     "text": [
      " 18%|█▊        | 136/750 [04:22<07:39,  1.34it/s]"
     ]
    },
    {
     "name": "stdout",
     "output_type": "stream",
     "text": [
      "Validation Accuracy: 0.7728280141843971\n",
      "Test Accuracy: 0.749113475177305\n",
      "The best model has been saved\n"
     ]
    },
    {
     "name": "stderr",
     "output_type": "stream",
     "text": [
      " 19%|█▉        | 144/750 [04:39<06:31,  1.55it/s]"
     ]
    },
    {
     "name": "stdout",
     "output_type": "stream",
     "text": [
      "Validation Accuracy: 0.7865691489361702\n",
      "Test Accuracy: 0.7579787234042553\n",
      "The best model has been saved\n"
     ]
    },
    {
     "name": "stderr",
     "output_type": "stream",
     "text": [
      " 20%|██        | 152/750 [04:55<05:53,  1.69it/s]"
     ]
    },
    {
     "name": "stdout",
     "output_type": "stream",
     "text": [
      "Validation Accuracy: 0.7918882978723404\n",
      "Test Accuracy: 0.7845744680851063\n",
      "The best model has been saved\n"
     ]
    },
    {
     "name": "stderr",
     "output_type": "stream",
     "text": [
      " 21%|██▏       | 160/750 [05:11<07:22,  1.33it/s]"
     ]
    },
    {
     "name": "stdout",
     "output_type": "stream",
     "text": [
      "Validation Accuracy: 0.8027482269503545\n",
      "Test Accuracy: 0.7819148936170213\n",
      "The best model has been saved\n"
     ]
    },
    {
     "name": "stderr",
     "output_type": "stream",
     "text": [
      " 22%|██▏       | 168/750 [05:26<07:19,  1.32it/s]"
     ]
    },
    {
     "name": "stdout",
     "output_type": "stream",
     "text": [
      "Validation Accuracy: 0.785904255319149\n"
     ]
    },
    {
     "name": "stderr",
     "output_type": "stream",
     "text": [
      "\r",
      " 23%|██▎       | 169/750 [05:39<41:07,  4.25s/it]"
     ]
    },
    {
     "name": "stdout",
     "output_type": "stream",
     "text": [
      "Test Accuracy: 0.7688386524822695\n"
     ]
    },
    {
     "name": "stderr",
     "output_type": "stream",
     "text": [
      " 23%|██▎       | 176/750 [05:40<06:40,  1.43it/s]"
     ]
    },
    {
     "name": "stdout",
     "output_type": "stream",
     "text": [
      "Validation Accuracy: 0.8209219858156029\n",
      "Test Accuracy: 0.7983156028368795\n",
      "The best model has been saved\n"
     ]
    },
    {
     "name": "stderr",
     "output_type": "stream",
     "text": [
      " 25%|██▍       | 184/750 [05:56<07:02,  1.34it/s]"
     ]
    },
    {
     "name": "stdout",
     "output_type": "stream",
     "text": [
      "Validation Accuracy: 0.819813829787234\n"
     ]
    },
    {
     "name": "stderr",
     "output_type": "stream",
     "text": [
      " 25%|██▍       | 186/750 [06:09<30:00,  3.19s/it]"
     ]
    },
    {
     "name": "stdout",
     "output_type": "stream",
     "text": [
      "Test Accuracy: 0.7972074468085106\n"
     ]
    },
    {
     "name": "stderr",
     "output_type": "stream",
     "text": [
      " 26%|██▌       | 192/750 [06:11<05:31,  1.69it/s]"
     ]
    },
    {
     "name": "stdout",
     "output_type": "stream",
     "text": [
      "Validation Accuracy: 0.807845744680851\n"
     ]
    },
    {
     "name": "stderr",
     "output_type": "stream",
     "text": [
      "\r",
      " 26%|██▌       | 193/750 [06:24<40:22,  4.35s/it]"
     ]
    },
    {
     "name": "stdout",
     "output_type": "stream",
     "text": [
      "Test Accuracy: 0.7998670212765957\n"
     ]
    },
    {
     "name": "stderr",
     "output_type": "stream",
     "text": [
      " 27%|██▋       | 200/750 [06:25<06:32,  1.40it/s]"
     ]
    },
    {
     "name": "stdout",
     "output_type": "stream",
     "text": [
      "Validation Accuracy: 0.8151595744680851\n"
     ]
    },
    {
     "name": "stderr",
     "output_type": "stream",
     "text": [
      "\r",
      " 27%|██▋       | 201/750 [06:38<39:05,  4.27s/it]"
     ]
    },
    {
     "name": "stdout",
     "output_type": "stream",
     "text": [
      "Test Accuracy: 0.7914450354609929\n"
     ]
    },
    {
     "name": "stderr",
     "output_type": "stream",
     "text": [
      " 28%|██▊       | 208/750 [06:39<06:14,  1.45it/s]"
     ]
    },
    {
     "name": "stdout",
     "output_type": "stream",
     "text": [
      "Validation Accuracy: 0.8246897163120567\n",
      "Test Accuracy: 0.8102836879432624\n",
      "The best model has been saved\n"
     ]
    },
    {
     "name": "stderr",
     "output_type": "stream",
     "text": [
      " 29%|██▉       | 216/750 [06:55<06:46,  1.31it/s]"
     ]
    },
    {
     "name": "stdout",
     "output_type": "stream",
     "text": [
      "Validation Accuracy: 0.8266843971631205\n",
      "Test Accuracy: 0.8036347517730497\n",
      "The best model has been saved\n"
     ]
    },
    {
     "name": "stderr",
     "output_type": "stream",
     "text": [
      " 30%|██▉       | 224/750 [07:12<05:25,  1.62it/s]"
     ]
    },
    {
     "name": "stdout",
     "output_type": "stream",
     "text": [
      "Validation Accuracy: 0.8246897163120567\n"
     ]
    },
    {
     "name": "stderr",
     "output_type": "stream",
     "text": [
      "\r",
      " 30%|███       | 225/750 [07:24<36:58,  4.23s/it]"
     ]
    },
    {
     "name": "stdout",
     "output_type": "stream",
     "text": [
      "Test Accuracy: 0.8058510638297872\n"
     ]
    },
    {
     "name": "stderr",
     "output_type": "stream",
     "text": [
      " 31%|███       | 232/750 [07:26<05:55,  1.46it/s]"
     ]
    },
    {
     "name": "stdout",
     "output_type": "stream",
     "text": [
      "Validation Accuracy: 0.8337765957446809\n",
      "Test Accuracy: 0.8011968085106383\n",
      "The best model has been saved\n"
     ]
    },
    {
     "name": "stderr",
     "output_type": "stream",
     "text": [
      " 32%|███▏      | 240/750 [07:41<05:00,  1.70it/s]"
     ]
    },
    {
     "name": "stdout",
     "output_type": "stream",
     "text": [
      "Validation Accuracy: 0.8293439716312057\n"
     ]
    },
    {
     "name": "stderr",
     "output_type": "stream",
     "text": [
      "\r",
      " 32%|███▏      | 241/750 [07:54<35:06,  4.14s/it]"
     ]
    },
    {
     "name": "stdout",
     "output_type": "stream",
     "text": [
      "Test Accuracy: 0.8093971631205673\n"
     ]
    },
    {
     "name": "stderr",
     "output_type": "stream",
     "text": [
      " 33%|███▎      | 248/750 [07:55<05:39,  1.48it/s]"
     ]
    },
    {
     "name": "stdout",
     "output_type": "stream",
     "text": [
      "Validation Accuracy: 0.8255762411347518\n"
     ]
    },
    {
     "name": "stderr",
     "output_type": "stream",
     "text": [
      "\r",
      " 33%|███▎      | 249/750 [08:08<34:57,  4.19s/it]"
     ]
    },
    {
     "name": "stdout",
     "output_type": "stream",
     "text": [
      "Test Accuracy: 0.7972074468085106\n"
     ]
    },
    {
     "name": "stderr",
     "output_type": "stream",
     "text": [
      " 34%|███▍      | 256/750 [08:09<05:39,  1.45it/s]"
     ]
    },
    {
     "name": "stdout",
     "output_type": "stream",
     "text": [
      "Validation Accuracy: 0.8421985815602837\n",
      "Test Accuracy: 0.8076241134751774\n",
      "The best model has been saved\n"
     ]
    },
    {
     "name": "stderr",
     "output_type": "stream",
     "text": [
      " 35%|███▌      | 264/750 [08:25<04:48,  1.68it/s]"
     ]
    },
    {
     "name": "stdout",
     "output_type": "stream",
     "text": [
      "Validation Accuracy: 0.8262411347517731\n"
     ]
    },
    {
     "name": "stderr",
     "output_type": "stream",
     "text": [
      "\r",
      " 35%|███▌      | 265/750 [08:37<33:49,  4.18s/it]"
     ]
    },
    {
     "name": "stdout",
     "output_type": "stream",
     "text": [
      "Test Accuracy: 0.8160460992907801\n"
     ]
    },
    {
     "name": "stderr",
     "output_type": "stream",
     "text": [
      " 36%|███▋      | 272/750 [08:39<05:28,  1.45it/s]"
     ]
    },
    {
     "name": "stdout",
     "output_type": "stream",
     "text": [
      "Validation Accuracy: 0.851063829787234\n",
      "Test Accuracy: 0.8207003546099291\n",
      "The best model has been saved\n"
     ]
    },
    {
     "name": "stderr",
     "output_type": "stream",
     "text": [
      " 37%|███▋      | 280/750 [08:55<05:57,  1.32it/s]"
     ]
    },
    {
     "name": "stdout",
     "output_type": "stream",
     "text": [
      "Validation Accuracy: 0.8506205673758864\n"
     ]
    },
    {
     "name": "stderr",
     "output_type": "stream",
     "text": [
      "\r",
      " 37%|███▋      | 281/750 [09:07<33:45,  4.32s/it]"
     ]
    },
    {
     "name": "stdout",
     "output_type": "stream",
     "text": [
      "Test Accuracy: 0.8280141843971631\n"
     ]
    },
    {
     "name": "stderr",
     "output_type": "stream",
     "text": [
      " 38%|███▊      | 288/750 [09:09<05:21,  1.44it/s]"
     ]
    },
    {
     "name": "stdout",
     "output_type": "stream",
     "text": [
      "Validation Accuracy: 0.832668439716312\n"
     ]
    },
    {
     "name": "stderr",
     "output_type": "stream",
     "text": [
      "\r",
      " 39%|███▊      | 289/750 [09:21<32:25,  4.22s/it]"
     ]
    },
    {
     "name": "stdout",
     "output_type": "stream",
     "text": [
      "Test Accuracy: 0.8169326241134752\n"
     ]
    },
    {
     "name": "stderr",
     "output_type": "stream",
     "text": [
      " 39%|███▉      | 296/750 [09:22<05:11,  1.46it/s]"
     ]
    },
    {
     "name": "stdout",
     "output_type": "stream",
     "text": [
      "Validation Accuracy: 0.839982269503546\n"
     ]
    },
    {
     "name": "stderr",
     "output_type": "stream",
     "text": [
      "\r",
      " 40%|███▉      | 297/750 [09:35<31:44,  4.20s/it]"
     ]
    },
    {
     "name": "stdout",
     "output_type": "stream",
     "text": [
      "Test Accuracy: 0.8164893617021277\n"
     ]
    },
    {
     "name": "stderr",
     "output_type": "stream",
     "text": [
      " 41%|████      | 304/750 [09:36<05:04,  1.47it/s]"
     ]
    },
    {
     "name": "stdout",
     "output_type": "stream",
     "text": [
      "Validation Accuracy: 0.8479609929078014\n"
     ]
    },
    {
     "name": "stderr",
     "output_type": "stream",
     "text": [
      "\r",
      " 41%|████      | 305/750 [09:49<31:32,  4.25s/it]"
     ]
    },
    {
     "name": "stdout",
     "output_type": "stream",
     "text": [
      "Test Accuracy: 0.8295656028368795\n"
     ]
    },
    {
     "name": "stderr",
     "output_type": "stream",
     "text": [
      " 42%|████▏     | 312/750 [09:50<05:02,  1.45it/s]"
     ]
    },
    {
     "name": "stdout",
     "output_type": "stream",
     "text": [
      "Validation Accuracy: 0.8537234042553191\n",
      "Test Accuracy: 0.8355496453900709\n",
      "The best model has been saved\n"
     ]
    },
    {
     "name": "stderr",
     "output_type": "stream",
     "text": [
      " 43%|████▎     | 320/750 [10:06<04:16,  1.68it/s]"
     ]
    },
    {
     "name": "stdout",
     "output_type": "stream",
     "text": [
      "Validation Accuracy: 0.8526152482269503\n"
     ]
    },
    {
     "name": "stderr",
     "output_type": "stream",
     "text": [
      "\r",
      " 43%|████▎     | 321/750 [10:19<30:04,  4.21s/it]"
     ]
    },
    {
     "name": "stdout",
     "output_type": "stream",
     "text": [
      "Test Accuracy: 0.8386524822695035\n"
     ]
    },
    {
     "name": "stderr",
     "output_type": "stream",
     "text": [
      " 44%|████▎     | 328/750 [10:20<04:48,  1.46it/s]"
     ]
    },
    {
     "name": "stdout",
     "output_type": "stream",
     "text": [
      "Validation Accuracy: 0.8563829787234043\n",
      "Test Accuracy: 0.8419769503546098\n",
      "The best model has been saved\n"
     ]
    },
    {
     "name": "stderr",
     "output_type": "stream",
     "text": [
      " 45%|████▍     | 336/750 [10:36<05:09,  1.34it/s]"
     ]
    },
    {
     "name": "stdout",
     "output_type": "stream",
     "text": [
      "Validation Accuracy: 0.8535017730496455\n"
     ]
    },
    {
     "name": "stderr",
     "output_type": "stream",
     "text": [
      "\r",
      " 45%|████▍     | 337/750 [10:48<29:24,  4.27s/it]"
     ]
    },
    {
     "name": "stdout",
     "output_type": "stream",
     "text": [
      "Test Accuracy: 0.8481826241134752\n"
     ]
    },
    {
     "name": "stderr",
     "output_type": "stream",
     "text": [
      " 46%|████▌     | 344/750 [10:50<04:43,  1.43it/s]"
     ]
    },
    {
     "name": "stdout",
     "output_type": "stream",
     "text": [
      "Validation Accuracy: 0.8537234042553191\n"
     ]
    },
    {
     "name": "stderr",
     "output_type": "stream",
     "text": [
      "\r",
      " 46%|████▌     | 345/750 [11:02<28:43,  4.25s/it]"
     ]
    },
    {
     "name": "stdout",
     "output_type": "stream",
     "text": [
      "Test Accuracy: 0.8466312056737588\n"
     ]
    },
    {
     "name": "stderr",
     "output_type": "stream",
     "text": [
      " 47%|████▋     | 352/750 [11:04<04:33,  1.45it/s]"
     ]
    },
    {
     "name": "stdout",
     "output_type": "stream",
     "text": [
      "Validation Accuracy: 0.870345744680851\n",
      "Test Accuracy: 0.8583776595744681\n",
      "The best model has been saved\n"
     ]
    },
    {
     "name": "stderr",
     "output_type": "stream",
     "text": [
      " 48%|████▊     | 360/750 [11:19<04:51,  1.34it/s]"
     ]
    },
    {
     "name": "stdout",
     "output_type": "stream",
     "text": [
      "Validation Accuracy: 0.8714539007092199\n",
      "Test Accuracy: 0.8439716312056738\n",
      "The best model has been saved\n"
     ]
    },
    {
     "name": "stderr",
     "output_type": "stream",
     "text": [
      " 49%|████▉     | 368/750 [11:35<04:46,  1.33it/s]"
     ]
    },
    {
     "name": "stdout",
     "output_type": "stream",
     "text": [
      "Validation Accuracy: 0.8732269503546098\n",
      "Test Accuracy: 0.8530585106382979\n",
      "The best model has been saved\n"
     ]
    },
    {
     "name": "stderr",
     "output_type": "stream",
     "text": [
      " 50%|█████     | 376/750 [11:51<03:40,  1.69it/s]"
     ]
    },
    {
     "name": "stdout",
     "output_type": "stream",
     "text": [
      "Validation Accuracy: 0.8654698581560284\n"
     ]
    },
    {
     "name": "stderr",
     "output_type": "stream",
     "text": [
      "\r",
      " 50%|█████     | 377/750 [12:03<25:44,  4.14s/it]"
     ]
    },
    {
     "name": "stdout",
     "output_type": "stream",
     "text": [
      "Test Accuracy: 0.8528368794326242\n"
     ]
    },
    {
     "name": "stderr",
     "output_type": "stream",
     "text": [
      " 51%|█████     | 384/750 [12:04<04:09,  1.47it/s]"
     ]
    },
    {
     "name": "stdout",
     "output_type": "stream",
     "text": [
      "Validation Accuracy: 0.8772163120567376\n",
      "Test Accuracy: 0.8581560283687943\n",
      "The best model has been saved\n"
     ]
    },
    {
     "name": "stderr",
     "output_type": "stream",
     "text": [
      " 52%|█████▏    | 392/750 [12:20<04:27,  1.34it/s]"
     ]
    },
    {
     "name": "stdout",
     "output_type": "stream",
     "text": [
      "Validation Accuracy: 0.8707890070921986\n"
     ]
    },
    {
     "name": "stderr",
     "output_type": "stream",
     "text": [
      "\r",
      " 52%|█████▏    | 393/750 [12:32<25:22,  4.26s/it]"
     ]
    },
    {
     "name": "stdout",
     "output_type": "stream",
     "text": [
      "Test Accuracy: 0.8599290780141844\n"
     ]
    },
    {
     "name": "stderr",
     "output_type": "stream",
     "text": [
      " 53%|█████▎    | 400/750 [12:34<04:02,  1.44it/s]"
     ]
    },
    {
     "name": "stdout",
     "output_type": "stream",
     "text": [
      "Validation Accuracy: 0.875\n"
     ]
    },
    {
     "name": "stderr",
     "output_type": "stream",
     "text": [
      "\r",
      " 53%|█████▎    | 401/750 [12:46<24:39,  4.24s/it]"
     ]
    },
    {
     "name": "stdout",
     "output_type": "stream",
     "text": [
      "Test Accuracy: 0.8601507092198583\n"
     ]
    },
    {
     "name": "stderr",
     "output_type": "stream",
     "text": [
      " 54%|█████▍    | 408/750 [12:48<03:56,  1.45it/s]"
     ]
    },
    {
     "name": "stdout",
     "output_type": "stream",
     "text": [
      "Validation Accuracy: 0.874113475177305\n"
     ]
    },
    {
     "name": "stderr",
     "output_type": "stream",
     "text": [
      "\r",
      " 55%|█████▍    | 409/750 [13:00<23:40,  4.17s/it]"
     ]
    },
    {
     "name": "stdout",
     "output_type": "stream",
     "text": [
      "Test Accuracy: 0.8648049645390071\n"
     ]
    },
    {
     "name": "stderr",
     "output_type": "stream",
     "text": [
      " 55%|█████▌    | 416/750 [13:02<03:46,  1.47it/s]"
     ]
    },
    {
     "name": "stdout",
     "output_type": "stream",
     "text": [
      "Validation Accuracy: 0.8730053191489362\n"
     ]
    },
    {
     "name": "stderr",
     "output_type": "stream",
     "text": [
      "\r",
      " 56%|█████▌    | 417/750 [13:14<23:20,  4.21s/it]"
     ]
    },
    {
     "name": "stdout",
     "output_type": "stream",
     "text": [
      "Test Accuracy: 0.8663563829787234\n"
     ]
    },
    {
     "name": "stderr",
     "output_type": "stream",
     "text": [
      " 57%|█████▋    | 424/750 [13:15<03:43,  1.46it/s]"
     ]
    },
    {
     "name": "stdout",
     "output_type": "stream",
     "text": [
      "Validation Accuracy: 0.8696808510638298\n"
     ]
    },
    {
     "name": "stderr",
     "output_type": "stream",
     "text": [
      "\r",
      " 57%|█████▋    | 425/750 [13:28<22:49,  4.21s/it]"
     ]
    },
    {
     "name": "stdout",
     "output_type": "stream",
     "text": [
      "Test Accuracy: 0.8535017730496455\n"
     ]
    },
    {
     "name": "stderr",
     "output_type": "stream",
     "text": [
      " 58%|█████▊    | 432/750 [13:29<03:40,  1.44it/s]"
     ]
    },
    {
     "name": "stdout",
     "output_type": "stream",
     "text": [
      "Validation Accuracy: 0.8643617021276596\n"
     ]
    },
    {
     "name": "stderr",
     "output_type": "stream",
     "text": [
      "\r",
      " 58%|█████▊    | 433/750 [13:42<22:17,  4.22s/it]"
     ]
    },
    {
     "name": "stdout",
     "output_type": "stream",
     "text": [
      "Test Accuracy: 0.8543882978723404\n"
     ]
    },
    {
     "name": "stderr",
     "output_type": "stream",
     "text": [
      " 59%|█████▊    | 440/750 [13:43<03:32,  1.46it/s]"
     ]
    },
    {
     "name": "stdout",
     "output_type": "stream",
     "text": [
      "Validation Accuracy: 0.8807624113475178\n",
      "Test Accuracy: 0.8672429078014184\n",
      "The best model has been saved\n"
     ]
    },
    {
     "name": "stderr",
     "output_type": "stream",
     "text": [
      " 60%|█████▉    | 448/750 [13:59<02:58,  1.69it/s]"
     ]
    },
    {
     "name": "stdout",
     "output_type": "stream",
     "text": [
      "Validation Accuracy: 0.847517730496454\n"
     ]
    },
    {
     "name": "stderr",
     "output_type": "stream",
     "text": [
      "\r",
      " 60%|█████▉    | 449/750 [14:11<20:58,  4.18s/it]"
     ]
    },
    {
     "name": "stdout",
     "output_type": "stream",
     "text": [
      "Test Accuracy: 0.8359929078014184\n"
     ]
    },
    {
     "name": "stderr",
     "output_type": "stream",
     "text": [
      " 61%|██████    | 456/750 [14:13<03:20,  1.47it/s]"
     ]
    },
    {
     "name": "stdout",
     "output_type": "stream",
     "text": [
      "Validation Accuracy: 0.875\n"
     ]
    },
    {
     "name": "stderr",
     "output_type": "stream",
     "text": [
      "\r",
      " 61%|██████    | 457/750 [14:25<20:31,  4.20s/it]"
     ]
    },
    {
     "name": "stdout",
     "output_type": "stream",
     "text": [
      "Test Accuracy: 0.8654698581560284\n"
     ]
    },
    {
     "name": "stderr",
     "output_type": "stream",
     "text": [
      " 62%|██████▏   | 464/750 [14:27<03:15,  1.46it/s]"
     ]
    },
    {
     "name": "stdout",
     "output_type": "stream",
     "text": [
      "Validation Accuracy: 0.868572695035461\n"
     ]
    },
    {
     "name": "stderr",
     "output_type": "stream",
     "text": [
      "\r",
      " 62%|██████▏   | 465/750 [14:39<19:59,  4.21s/it]"
     ]
    },
    {
     "name": "stdout",
     "output_type": "stream",
     "text": [
      "Test Accuracy: 0.8623670212765957\n"
     ]
    },
    {
     "name": "stderr",
     "output_type": "stream",
     "text": [
      " 63%|██████▎   | 472/750 [14:41<03:10,  1.46it/s]"
     ]
    },
    {
     "name": "stdout",
     "output_type": "stream",
     "text": [
      "Validation Accuracy: 0.8805407801418439\n"
     ]
    },
    {
     "name": "stderr",
     "output_type": "stream",
     "text": [
      "\r",
      " 63%|██████▎   | 473/750 [14:53<19:24,  4.21s/it]"
     ]
    },
    {
     "name": "stdout",
     "output_type": "stream",
     "text": [
      "Test Accuracy: 0.8636968085106383\n"
     ]
    },
    {
     "name": "stderr",
     "output_type": "stream",
     "text": [
      " 64%|██████▍   | 480/750 [14:54<03:05,  1.46it/s]"
     ]
    },
    {
     "name": "stdout",
     "output_type": "stream",
     "text": [
      "Validation Accuracy: 0.8820921985815603\n",
      "Test Accuracy: 0.8663563829787234\n",
      "The best model has been saved\n"
     ]
    },
    {
     "name": "stderr",
     "output_type": "stream",
     "text": [
      " 65%|██████▌   | 488/750 [15:10<02:35,  1.69it/s]"
     ]
    },
    {
     "name": "stdout",
     "output_type": "stream",
     "text": [
      "Validation Accuracy: 0.8845301418439716\n",
      "Test Accuracy: 0.868572695035461\n",
      "The best model has been saved\n"
     ]
    },
    {
     "name": "stderr",
     "output_type": "stream",
     "text": [
      " 66%|██████▌   | 496/750 [15:26<02:30,  1.68it/s]"
     ]
    },
    {
     "name": "stdout",
     "output_type": "stream",
     "text": [
      "Validation Accuracy: 0.8856382978723404\n",
      "Test Accuracy: 0.8727836879432624\n",
      "The best model has been saved\n"
     ]
    },
    {
     "name": "stderr",
     "output_type": "stream",
     "text": [
      " 67%|██████▋   | 504/750 [15:42<02:23,  1.71it/s]"
     ]
    },
    {
     "name": "stdout",
     "output_type": "stream",
     "text": [
      "Validation Accuracy: 0.8579343971631205\n"
     ]
    },
    {
     "name": "stderr",
     "output_type": "stream",
     "text": [
      "\r",
      " 67%|██████▋   | 505/750 [15:54<16:54,  4.14s/it]"
     ]
    },
    {
     "name": "stdout",
     "output_type": "stream",
     "text": [
      "Test Accuracy: 0.8495124113475178\n"
     ]
    },
    {
     "name": "stderr",
     "output_type": "stream",
     "text": [
      " 68%|██████▊   | 512/750 [15:56<02:40,  1.48it/s]"
     ]
    },
    {
     "name": "stdout",
     "output_type": "stream",
     "text": [
      "Validation Accuracy: 0.8794326241134752\n"
     ]
    },
    {
     "name": "stderr",
     "output_type": "stream",
     "text": [
      "\r",
      " 68%|██████▊   | 513/750 [16:08<16:37,  4.21s/it]"
     ]
    },
    {
     "name": "stdout",
     "output_type": "stream",
     "text": [
      "Test Accuracy: 0.8641400709219859\n"
     ]
    },
    {
     "name": "stderr",
     "output_type": "stream",
     "text": [
      " 69%|██████▉   | 520/750 [16:09<02:37,  1.46it/s]"
     ]
    },
    {
     "name": "stdout",
     "output_type": "stream",
     "text": [
      "Validation Accuracy: 0.8803191489361702\n"
     ]
    },
    {
     "name": "stderr",
     "output_type": "stream",
     "text": [
      "\r",
      " 69%|██████▉   | 521/750 [16:22<16:07,  4.23s/it]"
     ]
    },
    {
     "name": "stdout",
     "output_type": "stream",
     "text": [
      "Test Accuracy: 0.8597074468085106\n"
     ]
    },
    {
     "name": "stderr",
     "output_type": "stream",
     "text": [
      " 70%|███████   | 528/750 [16:23<02:35,  1.43it/s]"
     ]
    },
    {
     "name": "stdout",
     "output_type": "stream",
     "text": [
      "Validation Accuracy: 0.881427304964539\n"
     ]
    },
    {
     "name": "stderr",
     "output_type": "stream",
     "text": [
      "\r",
      " 71%|███████   | 529/750 [16:36<15:38,  4.25s/it]"
     ]
    },
    {
     "name": "stdout",
     "output_type": "stream",
     "text": [
      "Test Accuracy: 0.863918439716312\n"
     ]
    },
    {
     "name": "stderr",
     "output_type": "stream",
     "text": [
      " 71%|███████▏  | 536/750 [16:37<02:27,  1.45it/s]"
     ]
    },
    {
     "name": "stdout",
     "output_type": "stream",
     "text": [
      "Validation Accuracy: 0.8896276595744681\n",
      "Test Accuracy: 0.8652482269503545\n",
      "The best model has been saved\n"
     ]
    },
    {
     "name": "stderr",
     "output_type": "stream",
     "text": [
      " 73%|███████▎  | 544/750 [16:53<02:33,  1.34it/s]"
     ]
    },
    {
     "name": "stdout",
     "output_type": "stream",
     "text": [
      "Validation Accuracy: 0.875\n"
     ]
    },
    {
     "name": "stderr",
     "output_type": "stream",
     "text": [
      "\r",
      " 73%|███████▎  | 545/750 [17:05<14:30,  4.25s/it]"
     ]
    },
    {
     "name": "stdout",
     "output_type": "stream",
     "text": [
      "Test Accuracy: 0.8690159574468085\n"
     ]
    },
    {
     "name": "stderr",
     "output_type": "stream",
     "text": [
      " 74%|███████▎  | 552/750 [17:07<02:18,  1.43it/s]"
     ]
    },
    {
     "name": "stdout",
     "output_type": "stream",
     "text": [
      "Validation Accuracy: 0.8721187943262412\n"
     ]
    },
    {
     "name": "stderr",
     "output_type": "stream",
     "text": [
      "\r",
      " 74%|███████▎  | 553/750 [17:19<14:01,  4.27s/it]"
     ]
    },
    {
     "name": "stdout",
     "output_type": "stream",
     "text": [
      "Test Accuracy: 0.863031914893617\n"
     ]
    },
    {
     "name": "stderr",
     "output_type": "stream",
     "text": [
      " 75%|███████▍  | 560/750 [17:21<02:11,  1.44it/s]"
     ]
    },
    {
     "name": "stdout",
     "output_type": "stream",
     "text": [
      "Validation Accuracy: 0.8807624113475178\n"
     ]
    },
    {
     "name": "stderr",
     "output_type": "stream",
     "text": [
      "\r",
      " 75%|███████▍  | 561/750 [17:33<13:16,  4.21s/it]"
     ]
    },
    {
     "name": "stdout",
     "output_type": "stream",
     "text": [
      "Test Accuracy: 0.8756648936170213\n"
     ]
    },
    {
     "name": "stderr",
     "output_type": "stream",
     "text": [
      " 76%|███████▌  | 568/750 [17:35<02:04,  1.46it/s]"
     ]
    },
    {
     "name": "stdout",
     "output_type": "stream",
     "text": [
      "Validation Accuracy: 0.8800975177304965\n"
     ]
    },
    {
     "name": "stderr",
     "output_type": "stream",
     "text": [
      " 76%|███████▌  | 570/750 [17:47<08:54,  2.97s/it]"
     ]
    },
    {
     "name": "stdout",
     "output_type": "stream",
     "text": [
      "Test Accuracy: 0.8714539007092199\n"
     ]
    },
    {
     "name": "stderr",
     "output_type": "stream",
     "text": [
      " 77%|███████▋  | 576/750 [17:48<01:34,  1.85it/s]"
     ]
    },
    {
     "name": "stdout",
     "output_type": "stream",
     "text": [
      "Validation Accuracy: 0.8623670212765957\n"
     ]
    },
    {
     "name": "stderr",
     "output_type": "stream",
     "text": [
      "\r",
      " 77%|███████▋  | 577/750 [18:01<11:54,  4.13s/it]"
     ]
    },
    {
     "name": "stdout",
     "output_type": "stream",
     "text": [
      "Test Accuracy: 0.8470744680851063\n"
     ]
    },
    {
     "name": "stderr",
     "output_type": "stream",
     "text": [
      " 78%|███████▊  | 584/750 [18:02<01:52,  1.47it/s]"
     ]
    },
    {
     "name": "stdout",
     "output_type": "stream",
     "text": [
      "Validation Accuracy: 0.8785460992907801\n"
     ]
    },
    {
     "name": "stderr",
     "output_type": "stream",
     "text": [
      "\r",
      " 78%|███████▊  | 585/750 [18:15<11:50,  4.31s/it]"
     ]
    },
    {
     "name": "stdout",
     "output_type": "stream",
     "text": [
      "Test Accuracy: 0.8707890070921986\n"
     ]
    },
    {
     "name": "stderr",
     "output_type": "stream",
     "text": [
      " 79%|███████▉  | 592/750 [18:17<01:50,  1.44it/s]"
     ]
    },
    {
     "name": "stdout",
     "output_type": "stream",
     "text": [
      "Validation Accuracy: 0.8845301418439716\n"
     ]
    },
    {
     "name": "stderr",
     "output_type": "stream",
     "text": [
      "\r",
      " 79%|███████▉  | 593/750 [18:29<11:08,  4.26s/it]"
     ]
    },
    {
     "name": "stdout",
     "output_type": "stream",
     "text": [
      "Test Accuracy: 0.8807624113475178\n"
     ]
    },
    {
     "name": "stderr",
     "output_type": "stream",
     "text": [
      " 80%|████████  | 600/750 [18:31<01:45,  1.43it/s]"
     ]
    },
    {
     "name": "stdout",
     "output_type": "stream",
     "text": [
      "Validation Accuracy: 0.8871897163120567\n"
     ]
    },
    {
     "name": "stderr",
     "output_type": "stream",
     "text": [
      "\r",
      " 80%|████████  | 601/750 [18:43<10:32,  4.24s/it]"
     ]
    },
    {
     "name": "stdout",
     "output_type": "stream",
     "text": [
      "Test Accuracy: 0.8694592198581561\n"
     ]
    },
    {
     "name": "stderr",
     "output_type": "stream",
     "text": [
      " 81%|████████  | 608/750 [18:44<01:37,  1.45it/s]"
     ]
    },
    {
     "name": "stdout",
     "output_type": "stream",
     "text": [
      "Validation Accuracy: 0.8772163120567376\n"
     ]
    },
    {
     "name": "stderr",
     "output_type": "stream",
     "text": [
      "\r",
      " 81%|████████  | 609/750 [18:57<09:52,  4.20s/it]"
     ]
    },
    {
     "name": "stdout",
     "output_type": "stream",
     "text": [
      "Test Accuracy: 0.8574911347517731\n"
     ]
    },
    {
     "name": "stderr",
     "output_type": "stream",
     "text": [
      " 82%|████████▏ | 616/750 [18:58<01:31,  1.46it/s]"
     ]
    },
    {
     "name": "stdout",
     "output_type": "stream",
     "text": [
      "Validation Accuracy: 0.8772163120567376\n"
     ]
    },
    {
     "name": "stderr",
     "output_type": "stream",
     "text": [
      "\r",
      " 82%|████████▏ | 617/750 [19:11<09:20,  4.21s/it]"
     ]
    },
    {
     "name": "stdout",
     "output_type": "stream",
     "text": [
      "Test Accuracy: 0.8781028368794327\n"
     ]
    },
    {
     "name": "stderr",
     "output_type": "stream",
     "text": [
      " 83%|████████▎ | 624/750 [19:12<01:26,  1.46it/s]"
     ]
    },
    {
     "name": "stdout",
     "output_type": "stream",
     "text": [
      "Validation Accuracy: 0.863918439716312\n"
     ]
    },
    {
     "name": "stderr",
     "output_type": "stream",
     "text": [
      "\r",
      " 83%|████████▎ | 625/750 [19:25<08:57,  4.30s/it]"
     ]
    },
    {
     "name": "stdout",
     "output_type": "stream",
     "text": [
      "Test Accuracy: 0.8643617021276596\n"
     ]
    },
    {
     "name": "stderr",
     "output_type": "stream",
     "text": [
      " 84%|████████▍ | 632/750 [19:26<01:22,  1.44it/s]"
     ]
    },
    {
     "name": "stdout",
     "output_type": "stream",
     "text": [
      "Validation Accuracy: 0.8836436170212766\n"
     ]
    },
    {
     "name": "stderr",
     "output_type": "stream",
     "text": [
      "\r",
      " 84%|████████▍ | 633/750 [19:39<08:10,  4.20s/it]"
     ]
    },
    {
     "name": "stdout",
     "output_type": "stream",
     "text": [
      "Test Accuracy: 0.8718971631205673\n"
     ]
    },
    {
     "name": "stderr",
     "output_type": "stream",
     "text": [
      " 85%|████████▌ | 640/750 [19:40<01:16,  1.45it/s]"
     ]
    },
    {
     "name": "stdout",
     "output_type": "stream",
     "text": [
      "Validation Accuracy: 0.8754432624113476\n"
     ]
    },
    {
     "name": "stderr",
     "output_type": "stream",
     "text": [
      "\r",
      " 85%|████████▌ | 641/750 [19:52<07:38,  4.21s/it]"
     ]
    },
    {
     "name": "stdout",
     "output_type": "stream",
     "text": [
      "Test Accuracy: 0.8648049645390071\n"
     ]
    },
    {
     "name": "stderr",
     "output_type": "stream",
     "text": [
      " 86%|████████▋ | 648/750 [19:54<01:09,  1.46it/s]"
     ]
    },
    {
     "name": "stdout",
     "output_type": "stream",
     "text": [
      "Validation Accuracy: 0.8812056737588652\n"
     ]
    },
    {
     "name": "stderr",
     "output_type": "stream",
     "text": [
      "\r",
      " 87%|████████▋ | 649/750 [20:06<07:04,  4.21s/it]"
     ]
    },
    {
     "name": "stdout",
     "output_type": "stream",
     "text": [
      "Test Accuracy: 0.8699024822695035\n"
     ]
    },
    {
     "name": "stderr",
     "output_type": "stream",
     "text": [
      " 87%|████████▋ | 656/750 [20:08<01:04,  1.46it/s]"
     ]
    },
    {
     "name": "stdout",
     "output_type": "stream",
     "text": [
      "Validation Accuracy: 0.8687943262411348\n"
     ]
    },
    {
     "name": "stderr",
     "output_type": "stream",
     "text": [
      "\r",
      " 88%|████████▊ | 657/750 [20:20<06:32,  4.23s/it]"
     ]
    },
    {
     "name": "stdout",
     "output_type": "stream",
     "text": [
      "Test Accuracy: 0.8732269503546098\n"
     ]
    },
    {
     "name": "stderr",
     "output_type": "stream",
     "text": [
      " 89%|████████▊ | 664/750 [20:22<01:00,  1.43it/s]"
     ]
    },
    {
     "name": "stdout",
     "output_type": "stream",
     "text": [
      "Validation Accuracy: 0.8854166666666667\n"
     ]
    },
    {
     "name": "stderr",
     "output_type": "stream",
     "text": [
      "\r",
      " 89%|████████▊ | 665/750 [20:34<05:58,  4.22s/it]"
     ]
    },
    {
     "name": "stdout",
     "output_type": "stream",
     "text": [
      "Test Accuracy: 0.867686170212766\n"
     ]
    },
    {
     "name": "stderr",
     "output_type": "stream",
     "text": [
      " 90%|████████▉ | 672/750 [20:36<00:53,  1.46it/s]"
     ]
    },
    {
     "name": "stdout",
     "output_type": "stream",
     "text": [
      "Validation Accuracy: 0.8832003546099291\n"
     ]
    },
    {
     "name": "stderr",
     "output_type": "stream",
     "text": [
      "\r",
      " 90%|████████▉ | 673/750 [20:48<05:23,  4.21s/it]"
     ]
    },
    {
     "name": "stdout",
     "output_type": "stream",
     "text": [
      "Test Accuracy: 0.867686170212766\n"
     ]
    },
    {
     "name": "stderr",
     "output_type": "stream",
     "text": [
      " 91%|█████████ | 680/750 [20:49<00:47,  1.46it/s]"
     ]
    },
    {
     "name": "stdout",
     "output_type": "stream",
     "text": [
      "Validation Accuracy: 0.8882978723404256\n"
     ]
    },
    {
     "name": "stderr",
     "output_type": "stream",
     "text": [
      "\r",
      " 91%|█████████ | 681/750 [21:02<04:49,  4.20s/it]"
     ]
    },
    {
     "name": "stdout",
     "output_type": "stream",
     "text": [
      "Test Accuracy: 0.878767730496454\n"
     ]
    },
    {
     "name": "stderr",
     "output_type": "stream",
     "text": [
      " 92%|█████████▏| 688/750 [21:03<00:42,  1.46it/s]"
     ]
    },
    {
     "name": "stdout",
     "output_type": "stream",
     "text": [
      "Validation Accuracy: 0.8898492907801417\n",
      "Test Accuracy: 0.8845301418439716\n",
      "The best model has been saved\n"
     ]
    },
    {
     "name": "stderr",
     "output_type": "stream",
     "text": [
      " 93%|█████████▎| 696/750 [21:19<00:40,  1.34it/s]"
     ]
    },
    {
     "name": "stdout",
     "output_type": "stream",
     "text": [
      "Validation Accuracy: 0.8867464539007093\n"
     ]
    },
    {
     "name": "stderr",
     "output_type": "stream",
     "text": [
      "\r",
      " 93%|█████████▎| 697/750 [21:31<03:45,  4.25s/it]"
     ]
    },
    {
     "name": "stdout",
     "output_type": "stream",
     "text": [
      "Test Accuracy: 0.8834219858156029\n"
     ]
    },
    {
     "name": "stderr",
     "output_type": "stream",
     "text": [
      " 94%|█████████▍| 704/750 [21:33<00:31,  1.45it/s]"
     ]
    },
    {
     "name": "stdout",
     "output_type": "stream",
     "text": [
      "Validation Accuracy: 0.8880762411347518\n"
     ]
    },
    {
     "name": "stderr",
     "output_type": "stream",
     "text": [
      "\r",
      " 94%|█████████▍| 705/750 [21:45<03:09,  4.21s/it]"
     ]
    },
    {
     "name": "stdout",
     "output_type": "stream",
     "text": [
      "Test Accuracy: 0.8851950354609929\n"
     ]
    },
    {
     "name": "stderr",
     "output_type": "stream",
     "text": [
      " 95%|█████████▍| 712/750 [21:46<00:25,  1.46it/s]"
     ]
    },
    {
     "name": "stdout",
     "output_type": "stream",
     "text": [
      "Validation Accuracy: 0.8812056737588652\n"
     ]
    },
    {
     "name": "stderr",
     "output_type": "stream",
     "text": [
      "\r",
      " 95%|█████████▌| 713/750 [21:59<02:35,  4.21s/it]"
     ]
    },
    {
     "name": "stdout",
     "output_type": "stream",
     "text": [
      "Test Accuracy: 0.8772163120567376\n"
     ]
    },
    {
     "name": "stderr",
     "output_type": "stream",
     "text": [
      " 96%|█████████▌| 720/750 [22:00<00:20,  1.46it/s]"
     ]
    },
    {
     "name": "stdout",
     "output_type": "stream",
     "text": [
      "Validation Accuracy: 0.8871897163120567\n"
     ]
    },
    {
     "name": "stderr",
     "output_type": "stream",
     "text": [
      " 96%|█████████▋| 722/750 [22:13<01:24,  3.00s/it]"
     ]
    },
    {
     "name": "stdout",
     "output_type": "stream",
     "text": [
      "Test Accuracy: 0.881427304964539\n"
     ]
    },
    {
     "name": "stderr",
     "output_type": "stream",
     "text": [
      " 97%|█████████▋| 728/750 [22:14<00:12,  1.82it/s]"
     ]
    },
    {
     "name": "stdout",
     "output_type": "stream",
     "text": [
      "Validation Accuracy: 0.8732269503546098\n"
     ]
    },
    {
     "name": "stderr",
     "output_type": "stream",
     "text": [
      "\r",
      " 97%|█████████▋| 729/750 [22:27<01:28,  4.21s/it]"
     ]
    },
    {
     "name": "stdout",
     "output_type": "stream",
     "text": [
      "Test Accuracy: 0.8656914893617021\n"
     ]
    },
    {
     "name": "stderr",
     "output_type": "stream",
     "text": [
      " 98%|█████████▊| 736/750 [22:28<00:09,  1.45it/s]"
     ]
    },
    {
     "name": "stdout",
     "output_type": "stream",
     "text": [
      "Validation Accuracy: 0.8914007092198583\n",
      "Test Accuracy: 0.8900709219858156\n",
      "The best model has been saved\n"
     ]
    },
    {
     "name": "stderr",
     "output_type": "stream",
     "text": [
      " 99%|█████████▉| 744/750 [22:44<00:04,  1.31it/s]"
     ]
    },
    {
     "name": "stdout",
     "output_type": "stream",
     "text": [
      "Validation Accuracy: 0.8730053191489362\n"
     ]
    },
    {
     "name": "stderr",
     "output_type": "stream",
     "text": [
      "\r",
      " 99%|█████████▉| 745/750 [22:57<00:21,  4.28s/it]"
     ]
    },
    {
     "name": "stdout",
     "output_type": "stream",
     "text": [
      "Test Accuracy: 0.8667996453900709\n"
     ]
    },
    {
     "name": "stderr",
     "output_type": "stream",
     "text": [
      "100%|██████████| 750/750 [22:58<00:00,  1.84s/it]\n",
      "  0%|          | 0/750 [00:00<?, ?it/s]"
     ]
    },
    {
     "name": "stdout",
     "output_type": "stream",
     "text": [
      "Epoch 1\n",
      "Validation Accuracy: 0.8623670212765957\n"
     ]
    },
    {
     "name": "stderr",
     "output_type": "stream",
     "text": [
      "\r",
      "  0%|          | 1/750 [00:12<2:37:06, 12.59s/it]"
     ]
    },
    {
     "name": "stdout",
     "output_type": "stream",
     "text": [
      "Test Accuracy: 0.8521719858156029\n"
     ]
    },
    {
     "name": "stderr",
     "output_type": "stream",
     "text": [
      "  1%|          | 8/750 [00:13<20:38,  1.67s/it]  "
     ]
    },
    {
     "name": "stdout",
     "output_type": "stream",
     "text": [
      "Validation Accuracy: 0.8880762411347518\n"
     ]
    },
    {
     "name": "stderr",
     "output_type": "stream",
     "text": [
      "\r",
      "  1%|          | 9/750 [00:26<1:00:26,  4.89s/it]"
     ]
    },
    {
     "name": "stdout",
     "output_type": "stream",
     "text": [
      "Test Accuracy: 0.8947251773049646\n"
     ]
    },
    {
     "name": "stderr",
     "output_type": "stream",
     "text": [
      "  2%|▏         | 16/750 [00:27<09:23,  1.30it/s] "
     ]
    },
    {
     "name": "stdout",
     "output_type": "stream",
     "text": [
      "Validation Accuracy: 0.8694592198581561\n"
     ]
    },
    {
     "name": "stderr",
     "output_type": "stream",
     "text": [
      "\r",
      "  2%|▏         | 17/750 [00:40<52:38,  4.31s/it]"
     ]
    },
    {
     "name": "stdout",
     "output_type": "stream",
     "text": [
      "Test Accuracy: 0.8845301418439716\n"
     ]
    },
    {
     "name": "stderr",
     "output_type": "stream",
     "text": [
      "  3%|▎         | 24/750 [00:41<08:26,  1.43it/s]"
     ]
    },
    {
     "name": "stdout",
     "output_type": "stream",
     "text": [
      "Validation Accuracy: 0.8909574468085106\n"
     ]
    },
    {
     "name": "stderr",
     "output_type": "stream",
     "text": [
      "\r",
      "  3%|▎         | 25/750 [00:54<51:31,  4.26s/it]"
     ]
    },
    {
     "name": "stdout",
     "output_type": "stream",
     "text": [
      "Test Accuracy: 0.8922872340425532\n"
     ]
    },
    {
     "name": "stderr",
     "output_type": "stream",
     "text": [
      "  4%|▍         | 32/750 [00:55<08:15,  1.45it/s]"
     ]
    },
    {
     "name": "stdout",
     "output_type": "stream",
     "text": [
      "Validation Accuracy: 0.8882978723404256\n"
     ]
    },
    {
     "name": "stderr",
     "output_type": "stream",
     "text": [
      "  5%|▍         | 34/750 [01:08<35:45,  3.00s/it]"
     ]
    },
    {
     "name": "stdout",
     "output_type": "stream",
     "text": [
      "Test Accuracy: 0.8896276595744681\n"
     ]
    },
    {
     "name": "stderr",
     "output_type": "stream",
     "text": [
      "  5%|▌         | 40/750 [01:09<06:28,  1.83it/s]"
     ]
    },
    {
     "name": "stdout",
     "output_type": "stream",
     "text": [
      "Validation Accuracy: 0.8818705673758864\n"
     ]
    },
    {
     "name": "stderr",
     "output_type": "stream",
     "text": [
      "\r",
      "  5%|▌         | 41/750 [01:22<48:43,  4.12s/it]"
     ]
    },
    {
     "name": "stdout",
     "output_type": "stream",
     "text": [
      "Test Accuracy: 0.881427304964539\n"
     ]
    },
    {
     "name": "stderr",
     "output_type": "stream",
     "text": [
      "  6%|▋         | 48/750 [01:23<07:53,  1.48it/s]"
     ]
    },
    {
     "name": "stdout",
     "output_type": "stream",
     "text": [
      "Validation Accuracy: 0.8867464539007093\n"
     ]
    },
    {
     "name": "stderr",
     "output_type": "stream",
     "text": [
      "\r",
      "  7%|▋         | 49/750 [01:36<49:05,  4.20s/it]"
     ]
    },
    {
     "name": "stdout",
     "output_type": "stream",
     "text": [
      "Test Accuracy: 0.8865248226950354\n"
     ]
    },
    {
     "name": "stderr",
     "output_type": "stream",
     "text": [
      "  7%|▋         | 56/750 [01:37<07:56,  1.46it/s]"
     ]
    },
    {
     "name": "stdout",
     "output_type": "stream",
     "text": [
      "Validation Accuracy: 0.8911790780141844\n"
     ]
    },
    {
     "name": "stderr",
     "output_type": "stream",
     "text": [
      "\r",
      "  8%|▊         | 57/750 [01:49<48:53,  4.23s/it]"
     ]
    },
    {
     "name": "stdout",
     "output_type": "stream",
     "text": [
      "Test Accuracy: 0.8874113475177305\n"
     ]
    },
    {
     "name": "stderr",
     "output_type": "stream",
     "text": [
      "  9%|▊         | 64/750 [01:51<07:51,  1.45it/s]"
     ]
    },
    {
     "name": "stdout",
     "output_type": "stream",
     "text": [
      "Validation Accuracy: 0.886081560283688\n"
     ]
    },
    {
     "name": "stderr",
     "output_type": "stream",
     "text": [
      "\r",
      "  9%|▊         | 65/750 [02:03<48:01,  4.21s/it]"
     ]
    },
    {
     "name": "stdout",
     "output_type": "stream",
     "text": [
      "Test Accuracy: 0.8887411347517731\n"
     ]
    },
    {
     "name": "stderr",
     "output_type": "stream",
     "text": [
      " 10%|▉         | 72/750 [02:05<07:45,  1.46it/s]"
     ]
    },
    {
     "name": "stdout",
     "output_type": "stream",
     "text": [
      "Validation Accuracy: 0.8840868794326242\n"
     ]
    },
    {
     "name": "stderr",
     "output_type": "stream",
     "text": [
      "\r",
      " 10%|▉         | 73/750 [02:17<47:50,  4.24s/it]"
     ]
    },
    {
     "name": "stdout",
     "output_type": "stream",
     "text": [
      "Test Accuracy: 0.8887411347517731\n"
     ]
    },
    {
     "name": "stderr",
     "output_type": "stream",
     "text": [
      " 11%|█         | 80/750 [02:19<07:41,  1.45it/s]"
     ]
    },
    {
     "name": "stdout",
     "output_type": "stream",
     "text": [
      "Validation Accuracy: 0.8867464539007093\n"
     ]
    },
    {
     "name": "stderr",
     "output_type": "stream",
     "text": [
      "\r",
      " 11%|█         | 81/750 [02:31<46:34,  4.18s/it]"
     ]
    },
    {
     "name": "stdout",
     "output_type": "stream",
     "text": [
      "Test Accuracy: 0.8898492907801417\n"
     ]
    },
    {
     "name": "stderr",
     "output_type": "stream",
     "text": [
      " 12%|█▏        | 88/750 [02:32<07:32,  1.46it/s]"
     ]
    },
    {
     "name": "stdout",
     "output_type": "stream",
     "text": [
      "Validation Accuracy: 0.8827570921985816\n"
     ]
    },
    {
     "name": "stderr",
     "output_type": "stream",
     "text": [
      "\r",
      " 12%|█▏        | 89/750 [02:45<46:10,  4.19s/it]"
     ]
    },
    {
     "name": "stdout",
     "output_type": "stream",
     "text": [
      "Test Accuracy: 0.8900709219858156\n"
     ]
    },
    {
     "name": "stderr",
     "output_type": "stream",
     "text": [
      " 13%|█▎        | 96/750 [02:46<07:29,  1.46it/s]"
     ]
    },
    {
     "name": "stdout",
     "output_type": "stream",
     "text": [
      "Validation Accuracy: 0.8874113475177305\n"
     ]
    },
    {
     "name": "stderr",
     "output_type": "stream",
     "text": [
      "\r",
      " 13%|█▎        | 97/750 [02:59<46:00,  4.23s/it]"
     ]
    },
    {
     "name": "stdout",
     "output_type": "stream",
     "text": [
      "Test Accuracy: 0.8812056737588652\n"
     ]
    },
    {
     "name": "stderr",
     "output_type": "stream",
     "text": [
      " 14%|█▍        | 104/750 [03:00<07:25,  1.45it/s]"
     ]
    },
    {
     "name": "stdout",
     "output_type": "stream",
     "text": [
      "Validation Accuracy: 0.8854166666666667\n"
     ]
    },
    {
     "name": "stderr",
     "output_type": "stream",
     "text": [
      "\r",
      " 14%|█▍        | 105/750 [03:13<45:55,  4.27s/it]"
     ]
    },
    {
     "name": "stdout",
     "output_type": "stream",
     "text": [
      "Test Accuracy: 0.8754432624113476\n"
     ]
    },
    {
     "name": "stderr",
     "output_type": "stream",
     "text": [
      " 15%|█▍        | 112/750 [03:14<07:21,  1.45it/s]"
     ]
    },
    {
     "name": "stdout",
     "output_type": "stream",
     "text": [
      "Validation Accuracy: 0.8794326241134752\n"
     ]
    },
    {
     "name": "stderr",
     "output_type": "stream",
     "text": [
      "\r",
      " 15%|█▌        | 113/750 [03:27<45:10,  4.25s/it]"
     ]
    },
    {
     "name": "stdout",
     "output_type": "stream",
     "text": [
      "Test Accuracy: 0.8692375886524822\n"
     ]
    },
    {
     "name": "stderr",
     "output_type": "stream",
     "text": [
      " 16%|█▌        | 120/750 [03:28<07:17,  1.44it/s]"
     ]
    },
    {
     "name": "stdout",
     "output_type": "stream",
     "text": [
      "Validation Accuracy: 0.8785460992907801\n"
     ]
    },
    {
     "name": "stderr",
     "output_type": "stream",
     "text": [
      "\r",
      " 16%|█▌        | 121/750 [03:41<44:33,  4.25s/it]"
     ]
    },
    {
     "name": "stdout",
     "output_type": "stream",
     "text": [
      "Test Accuracy: 0.875\n"
     ]
    },
    {
     "name": "stderr",
     "output_type": "stream",
     "text": [
      " 17%|█▋        | 128/750 [03:42<07:08,  1.45it/s]"
     ]
    },
    {
     "name": "stdout",
     "output_type": "stream",
     "text": [
      "Validation Accuracy: 0.8803191489361702\n"
     ]
    },
    {
     "name": "stderr",
     "output_type": "stream",
     "text": [
      "\r",
      " 17%|█▋        | 129/750 [03:55<43:54,  4.24s/it]"
     ]
    },
    {
     "name": "stdout",
     "output_type": "stream",
     "text": [
      "Test Accuracy: 0.8832003546099291\n"
     ]
    },
    {
     "name": "stderr",
     "output_type": "stream",
     "text": [
      " 18%|█▊        | 136/750 [03:56<07:06,  1.44it/s]"
     ]
    },
    {
     "name": "stdout",
     "output_type": "stream",
     "text": [
      "Validation Accuracy: 0.8863031914893617\n"
     ]
    },
    {
     "name": "stderr",
     "output_type": "stream",
     "text": [
      "\r",
      " 18%|█▊        | 137/750 [04:09<43:32,  4.26s/it]"
     ]
    },
    {
     "name": "stdout",
     "output_type": "stream",
     "text": [
      "Test Accuracy: 0.886081560283688\n"
     ]
    },
    {
     "name": "stderr",
     "output_type": "stream",
     "text": [
      " 19%|█▉        | 144/750 [04:10<06:58,  1.45it/s]"
     ]
    },
    {
     "name": "stdout",
     "output_type": "stream",
     "text": [
      "Validation Accuracy: 0.8909574468085106\n"
     ]
    },
    {
     "name": "stderr",
     "output_type": "stream",
     "text": [
      "\r",
      " 19%|█▉        | 145/750 [04:23<42:52,  4.25s/it]"
     ]
    },
    {
     "name": "stdout",
     "output_type": "stream",
     "text": [
      "Test Accuracy: 0.8854166666666667\n"
     ]
    },
    {
     "name": "stderr",
     "output_type": "stream",
     "text": [
      " 20%|██        | 152/750 [04:24<06:52,  1.45it/s]"
     ]
    },
    {
     "name": "stdout",
     "output_type": "stream",
     "text": [
      "Validation Accuracy: 0.8800975177304965\n"
     ]
    },
    {
     "name": "stderr",
     "output_type": "stream",
     "text": [
      "\r",
      " 20%|██        | 153/750 [04:36<41:59,  4.22s/it]"
     ]
    },
    {
     "name": "stdout",
     "output_type": "stream",
     "text": [
      "Test Accuracy: 0.8851950354609929\n"
     ]
    },
    {
     "name": "stderr",
     "output_type": "stream",
     "text": [
      " 21%|██▏       | 160/750 [04:38<06:55,  1.42it/s]"
     ]
    },
    {
     "name": "stdout",
     "output_type": "stream",
     "text": [
      "Validation Accuracy: 0.8829787234042553\n"
     ]
    },
    {
     "name": "stderr",
     "output_type": "stream",
     "text": [
      "\r",
      " 21%|██▏       | 161/750 [04:50<41:44,  4.25s/it]"
     ]
    },
    {
     "name": "stdout",
     "output_type": "stream",
     "text": [
      "Test Accuracy: 0.8854166666666667\n"
     ]
    },
    {
     "name": "stderr",
     "output_type": "stream",
     "text": [
      " 22%|██▏       | 168/750 [04:52<06:45,  1.44it/s]"
     ]
    },
    {
     "name": "stdout",
     "output_type": "stream",
     "text": [
      "Validation Accuracy: 0.8809840425531915\n"
     ]
    },
    {
     "name": "stderr",
     "output_type": "stream",
     "text": [
      " 23%|██▎       | 170/750 [05:05<29:19,  3.03s/it]"
     ]
    },
    {
     "name": "stdout",
     "output_type": "stream",
     "text": [
      "Test Accuracy: 0.870345744680851\n"
     ]
    },
    {
     "name": "stderr",
     "output_type": "stream",
     "text": [
      " 23%|██▎       | 176/750 [05:06<05:15,  1.82it/s]"
     ]
    },
    {
     "name": "stdout",
     "output_type": "stream",
     "text": [
      "Validation Accuracy: 0.8876329787234043\n"
     ]
    },
    {
     "name": "stderr",
     "output_type": "stream",
     "text": [
      "\r",
      " 24%|██▎       | 177/750 [05:19<40:03,  4.19s/it]"
     ]
    },
    {
     "name": "stdout",
     "output_type": "stream",
     "text": [
      "Test Accuracy: 0.8838652482269503\n"
     ]
    },
    {
     "name": "stderr",
     "output_type": "stream",
     "text": [
      " 25%|██▍       | 184/750 [05:20<06:31,  1.45it/s]"
     ]
    },
    {
     "name": "stdout",
     "output_type": "stream",
     "text": [
      "Validation Accuracy: 0.894281914893617\n",
      "Test Accuracy: 0.8914007092198583\n",
      "The best model has been saved\n"
     ]
    },
    {
     "name": "stderr",
     "output_type": "stream",
     "text": [
      " 26%|██▌       | 192/750 [05:36<05:30,  1.69it/s]"
     ]
    },
    {
     "name": "stdout",
     "output_type": "stream",
     "text": [
      "Validation Accuracy: 0.8918439716312057\n"
     ]
    },
    {
     "name": "stderr",
     "output_type": "stream",
     "text": [
      "\r",
      " 26%|██▌       | 193/750 [05:48<38:28,  4.14s/it]"
     ]
    },
    {
     "name": "stdout",
     "output_type": "stream",
     "text": [
      "Test Accuracy: 0.8898492907801417\n"
     ]
    },
    {
     "name": "stderr",
     "output_type": "stream",
     "text": [
      " 27%|██▋       | 200/750 [05:50<06:13,  1.47it/s]"
     ]
    },
    {
     "name": "stdout",
     "output_type": "stream",
     "text": [
      "Validation Accuracy: 0.8891843971631205\n"
     ]
    },
    {
     "name": "stderr",
     "output_type": "stream",
     "text": [
      "\r",
      " 27%|██▋       | 201/750 [06:02<38:59,  4.26s/it]"
     ]
    },
    {
     "name": "stdout",
     "output_type": "stream",
     "text": [
      "Test Accuracy: 0.8836436170212766\n"
     ]
    },
    {
     "name": "stderr",
     "output_type": "stream",
     "text": [
      " 28%|██▊       | 208/750 [06:04<06:14,  1.45it/s]"
     ]
    },
    {
     "name": "stdout",
     "output_type": "stream",
     "text": [
      "Validation Accuracy: 0.8927304964539008\n"
     ]
    },
    {
     "name": "stderr",
     "output_type": "stream",
     "text": [
      "\r",
      " 28%|██▊       | 209/750 [06:16<38:47,  4.30s/it]"
     ]
    },
    {
     "name": "stdout",
     "output_type": "stream",
     "text": [
      "Test Accuracy: 0.8945035460992907\n"
     ]
    },
    {
     "name": "stderr",
     "output_type": "stream",
     "text": [
      " 29%|██▉       | 216/750 [06:18<06:12,  1.43it/s]"
     ]
    },
    {
     "name": "stdout",
     "output_type": "stream",
     "text": [
      "Validation Accuracy: 0.8927304964539008\n"
     ]
    },
    {
     "name": "stderr",
     "output_type": "stream",
     "text": [
      "\r",
      " 29%|██▉       | 217/750 [06:30<37:29,  4.22s/it]"
     ]
    },
    {
     "name": "stdout",
     "output_type": "stream",
     "text": [
      "Test Accuracy: 0.8907358156028369\n"
     ]
    },
    {
     "name": "stderr",
     "output_type": "stream",
     "text": [
      " 30%|██▉       | 224/750 [06:32<06:02,  1.45it/s]"
     ]
    },
    {
     "name": "stdout",
     "output_type": "stream",
     "text": [
      "Validation Accuracy: 0.8936170212765957\n"
     ]
    },
    {
     "name": "stderr",
     "output_type": "stream",
     "text": [
      "\r",
      " 30%|███       | 225/750 [06:44<37:02,  4.23s/it]"
     ]
    },
    {
     "name": "stdout",
     "output_type": "stream",
     "text": [
      "Test Accuracy: 0.8940602836879433\n"
     ]
    },
    {
     "name": "stderr",
     "output_type": "stream",
     "text": [
      " 31%|███       | 232/750 [06:46<05:55,  1.46it/s]"
     ]
    },
    {
     "name": "stdout",
     "output_type": "stream",
     "text": [
      "Validation Accuracy: 0.8871897163120567\n"
     ]
    },
    {
     "name": "stderr",
     "output_type": "stream",
     "text": [
      "\r",
      " 31%|███       | 233/750 [06:58<36:40,  4.26s/it]"
     ]
    },
    {
     "name": "stdout",
     "output_type": "stream",
     "text": [
      "Test Accuracy: 0.8887411347517731\n"
     ]
    },
    {
     "name": "stderr",
     "output_type": "stream",
     "text": [
      " 32%|███▏      | 240/750 [07:00<05:55,  1.44it/s]"
     ]
    },
    {
     "name": "stdout",
     "output_type": "stream",
     "text": [
      "Validation Accuracy: 0.8878546099290779\n"
     ]
    },
    {
     "name": "stderr",
     "output_type": "stream",
     "text": [
      "\r",
      " 32%|███▏      | 241/750 [07:13<37:15,  4.39s/it]"
     ]
    },
    {
     "name": "stdout",
     "output_type": "stream",
     "text": [
      "Test Accuracy: 0.8838652482269503\n"
     ]
    },
    {
     "name": "stderr",
     "output_type": "stream",
     "text": [
      " 33%|███▎      | 248/750 [07:14<05:58,  1.40it/s]"
     ]
    },
    {
     "name": "stdout",
     "output_type": "stream",
     "text": [
      "Validation Accuracy: 0.8900709219858156\n"
     ]
    },
    {
     "name": "stderr",
     "output_type": "stream",
     "text": [
      "\r",
      " 33%|███▎      | 249/750 [07:28<38:18,  4.59s/it]"
     ]
    },
    {
     "name": "stdout",
     "output_type": "stream",
     "text": [
      "Test Accuracy: 0.8854166666666667\n"
     ]
    },
    {
     "name": "stderr",
     "output_type": "stream",
     "text": [
      " 34%|███▍      | 256/750 [07:29<06:00,  1.37it/s]"
     ]
    },
    {
     "name": "stdout",
     "output_type": "stream",
     "text": [
      "Validation Accuracy: 0.8847517730496455\n"
     ]
    },
    {
     "name": "stderr",
     "output_type": "stream",
     "text": [
      "\r",
      " 34%|███▍      | 257/750 [07:42<34:43,  4.23s/it]"
     ]
    },
    {
     "name": "stdout",
     "output_type": "stream",
     "text": [
      "Test Accuracy: 0.8887411347517731\n"
     ]
    },
    {
     "name": "stderr",
     "output_type": "stream",
     "text": [
      " 35%|███▌      | 264/750 [07:43<05:33,  1.46it/s]"
     ]
    },
    {
     "name": "stdout",
     "output_type": "stream",
     "text": [
      "Validation Accuracy: 0.8840868794326242\n"
     ]
    },
    {
     "name": "stderr",
     "output_type": "stream",
     "text": [
      "\r",
      " 35%|███▌      | 265/750 [07:56<34:42,  4.29s/it]"
     ]
    },
    {
     "name": "stdout",
     "output_type": "stream",
     "text": [
      "Test Accuracy: 0.8882978723404256\n"
     ]
    },
    {
     "name": "stderr",
     "output_type": "stream",
     "text": [
      " 36%|███▋      | 272/750 [07:57<05:32,  1.44it/s]"
     ]
    },
    {
     "name": "stdout",
     "output_type": "stream",
     "text": [
      "Validation Accuracy: 0.8905141843971631\n"
     ]
    },
    {
     "name": "stderr",
     "output_type": "stream",
     "text": [
      "\r",
      " 36%|███▋      | 273/750 [08:10<33:39,  4.23s/it]"
     ]
    },
    {
     "name": "stdout",
     "output_type": "stream",
     "text": [
      "Test Accuracy: 0.8916223404255319\n"
     ]
    },
    {
     "name": "stderr",
     "output_type": "stream",
     "text": [
      " 37%|███▋      | 280/750 [08:11<05:23,  1.45it/s]"
     ]
    },
    {
     "name": "stdout",
     "output_type": "stream",
     "text": [
      "Validation Accuracy: 0.8825354609929078\n"
     ]
    },
    {
     "name": "stderr",
     "output_type": "stream",
     "text": [
      "\r",
      " 37%|███▋      | 281/750 [08:23<32:58,  4.22s/it]"
     ]
    },
    {
     "name": "stdout",
     "output_type": "stream",
     "text": [
      "Test Accuracy: 0.8916223404255319\n"
     ]
    },
    {
     "name": "stderr",
     "output_type": "stream",
     "text": [
      " 38%|███▊      | 288/750 [08:25<05:16,  1.46it/s]"
     ]
    },
    {
     "name": "stdout",
     "output_type": "stream",
     "text": [
      "Validation Accuracy: 0.8718971631205673\n"
     ]
    },
    {
     "name": "stderr",
     "output_type": "stream",
     "text": [
      "\r",
      " 39%|███▊      | 289/750 [08:37<32:14,  4.20s/it]"
     ]
    },
    {
     "name": "stdout",
     "output_type": "stream",
     "text": [
      "Test Accuracy: 0.8710106382978723\n"
     ]
    },
    {
     "name": "stderr",
     "output_type": "stream",
     "text": [
      " 39%|███▉      | 296/750 [08:39<05:10,  1.46it/s]"
     ]
    },
    {
     "name": "stdout",
     "output_type": "stream",
     "text": [
      "Validation Accuracy: 0.8851950354609929\n"
     ]
    },
    {
     "name": "stderr",
     "output_type": "stream",
     "text": [
      "\r",
      " 40%|███▉      | 297/750 [08:51<32:13,  4.27s/it]"
     ]
    },
    {
     "name": "stdout",
     "output_type": "stream",
     "text": [
      "Test Accuracy: 0.8843085106382979\n"
     ]
    },
    {
     "name": "stderr",
     "output_type": "stream",
     "text": [
      " 41%|████      | 304/750 [08:53<05:08,  1.45it/s]"
     ]
    },
    {
     "name": "stdout",
     "output_type": "stream",
     "text": [
      "Validation Accuracy: 0.8832003546099291\n"
     ]
    },
    {
     "name": "stderr",
     "output_type": "stream",
     "text": [
      " 41%|████      | 306/750 [09:05<22:04,  2.98s/it]"
     ]
    },
    {
     "name": "stdout",
     "output_type": "stream",
     "text": [
      "Test Accuracy: 0.8871897163120567\n"
     ]
    },
    {
     "name": "stderr",
     "output_type": "stream",
     "text": [
      " 42%|████▏     | 312/750 [09:07<03:57,  1.85it/s]"
     ]
    },
    {
     "name": "stdout",
     "output_type": "stream",
     "text": [
      "Validation Accuracy: 0.8871897163120567\n"
     ]
    },
    {
     "name": "stderr",
     "output_type": "stream",
     "text": [
      "\r",
      " 42%|████▏     | 313/750 [09:19<29:48,  4.09s/it]"
     ]
    },
    {
     "name": "stdout",
     "output_type": "stream",
     "text": [
      "Test Accuracy: 0.8927304964539008\n"
     ]
    },
    {
     "name": "stderr",
     "output_type": "stream",
     "text": [
      " 43%|████▎     | 320/750 [09:20<04:48,  1.49it/s]"
     ]
    },
    {
     "name": "stdout",
     "output_type": "stream",
     "text": [
      "Validation Accuracy: 0.8940602836879433\n"
     ]
    },
    {
     "name": "stderr",
     "output_type": "stream",
     "text": [
      "\r",
      " 43%|████▎     | 321/750 [09:33<29:54,  4.18s/it]"
     ]
    },
    {
     "name": "stdout",
     "output_type": "stream",
     "text": [
      "Test Accuracy: 0.8918439716312057\n"
     ]
    },
    {
     "name": "stderr",
     "output_type": "stream",
     "text": [
      " 44%|████▎     | 328/750 [09:34<04:47,  1.47it/s]"
     ]
    },
    {
     "name": "stdout",
     "output_type": "stream",
     "text": [
      "Validation Accuracy: 0.8889627659574468\n"
     ]
    },
    {
     "name": "stderr",
     "output_type": "stream",
     "text": [
      "\r",
      " 44%|████▍     | 329/750 [09:47<29:32,  4.21s/it]"
     ]
    },
    {
     "name": "stdout",
     "output_type": "stream",
     "text": [
      "Test Accuracy: 0.8809840425531915\n"
     ]
    },
    {
     "name": "stderr",
     "output_type": "stream",
     "text": [
      " 45%|████▍     | 336/750 [09:48<04:43,  1.46it/s]"
     ]
    },
    {
     "name": "stdout",
     "output_type": "stream",
     "text": [
      "Validation Accuracy: 0.8851950354609929\n"
     ]
    },
    {
     "name": "stderr",
     "output_type": "stream",
     "text": [
      "\r",
      " 45%|████▍     | 337/750 [10:00<28:57,  4.21s/it]"
     ]
    },
    {
     "name": "stdout",
     "output_type": "stream",
     "text": [
      "Test Accuracy: 0.8774379432624114\n"
     ]
    },
    {
     "name": "stderr",
     "output_type": "stream",
     "text": [
      " 46%|████▌     | 344/750 [10:02<04:37,  1.46it/s]"
     ]
    },
    {
     "name": "stdout",
     "output_type": "stream",
     "text": [
      "Validation Accuracy: 0.8659131205673758\n"
     ]
    },
    {
     "name": "stderr",
     "output_type": "stream",
     "text": [
      "\r",
      " 46%|████▌     | 345/750 [10:14<28:23,  4.21s/it]"
     ]
    },
    {
     "name": "stdout",
     "output_type": "stream",
     "text": [
      "Test Accuracy: 0.8818705673758864\n"
     ]
    },
    {
     "name": "stderr",
     "output_type": "stream",
     "text": [
      " 47%|████▋     | 352/750 [10:16<04:32,  1.46it/s]"
     ]
    },
    {
     "name": "stdout",
     "output_type": "stream",
     "text": [
      "Validation Accuracy: 0.8902925531914894\n"
     ]
    },
    {
     "name": "stderr",
     "output_type": "stream",
     "text": [
      "\r",
      " 47%|████▋     | 353/750 [10:28<27:50,  4.21s/it]"
     ]
    },
    {
     "name": "stdout",
     "output_type": "stream",
     "text": [
      "Test Accuracy: 0.8885195035460992\n"
     ]
    },
    {
     "name": "stderr",
     "output_type": "stream",
     "text": [
      " 48%|████▊     | 360/750 [10:29<04:27,  1.46it/s]"
     ]
    },
    {
     "name": "stdout",
     "output_type": "stream",
     "text": [
      "Validation Accuracy: 0.8880762411347518\n"
     ]
    },
    {
     "name": "stderr",
     "output_type": "stream",
     "text": [
      "\r",
      " 48%|████▊     | 361/750 [10:42<27:16,  4.21s/it]"
     ]
    },
    {
     "name": "stdout",
     "output_type": "stream",
     "text": [
      "Test Accuracy: 0.8805407801418439\n"
     ]
    },
    {
     "name": "stderr",
     "output_type": "stream",
     "text": [
      " 49%|████▉     | 368/750 [10:43<04:21,  1.46it/s]"
     ]
    },
    {
     "name": "stdout",
     "output_type": "stream",
     "text": [
      "Validation Accuracy: 0.882313829787234\n"
     ]
    },
    {
     "name": "stderr",
     "output_type": "stream",
     "text": [
      " 49%|████▉     | 370/750 [10:56<19:01,  3.00s/it]"
     ]
    },
    {
     "name": "stdout",
     "output_type": "stream",
     "text": [
      "Test Accuracy: 0.8894060283687943\n"
     ]
    },
    {
     "name": "stderr",
     "output_type": "stream",
     "text": [
      " 50%|█████     | 376/750 [10:57<03:31,  1.76it/s]"
     ]
    },
    {
     "name": "stdout",
     "output_type": "stream",
     "text": [
      "Validation Accuracy: 0.8820921985815603\n"
     ]
    },
    {
     "name": "stderr",
     "output_type": "stream",
     "text": [
      "\r",
      " 50%|█████     | 377/750 [11:11<28:39,  4.61s/it]"
     ]
    },
    {
     "name": "stdout",
     "output_type": "stream",
     "text": [
      "Test Accuracy: 0.8909574468085106\n"
     ]
    },
    {
     "name": "stderr",
     "output_type": "stream",
     "text": [
      " 51%|█████     | 384/750 [11:13<04:37,  1.32it/s]"
     ]
    },
    {
     "name": "stdout",
     "output_type": "stream",
     "text": [
      "Validation Accuracy: 0.8927304964539008\n"
     ]
    },
    {
     "name": "stderr",
     "output_type": "stream",
     "text": [
      "\r",
      " 51%|█████▏    | 385/750 [11:27<29:07,  4.79s/it]"
     ]
    },
    {
     "name": "stdout",
     "output_type": "stream",
     "text": [
      "Test Accuracy: 0.8894060283687943\n"
     ]
    },
    {
     "name": "stderr",
     "output_type": "stream",
     "text": [
      " 52%|█████▏    | 392/750 [11:29<04:38,  1.28it/s]"
     ]
    },
    {
     "name": "stdout",
     "output_type": "stream",
     "text": [
      "Validation Accuracy: 0.8845301418439716\n"
     ]
    },
    {
     "name": "stderr",
     "output_type": "stream",
     "text": [
      "\r",
      " 52%|█████▏    | 393/750 [11:43<27:40,  4.65s/it]"
     ]
    },
    {
     "name": "stdout",
     "output_type": "stream",
     "text": [
      "Test Accuracy: 0.8794326241134752\n"
     ]
    },
    {
     "name": "stderr",
     "output_type": "stream",
     "text": [
      " 53%|█████▎    | 400/750 [11:44<04:18,  1.35it/s]"
     ]
    },
    {
     "name": "stdout",
     "output_type": "stream",
     "text": [
      "Validation Accuracy: 0.8947251773049646\n",
      "Test Accuracy: 0.8871897163120567\n",
      "The best model has been saved\n"
     ]
    },
    {
     "name": "stderr",
     "output_type": "stream",
     "text": [
      " 54%|█████▍    | 408/750 [12:00<03:22,  1.69it/s]"
     ]
    },
    {
     "name": "stdout",
     "output_type": "stream",
     "text": [
      "Validation Accuracy: 0.899822695035461\n",
      "Test Accuracy: 0.9007092198581561\n",
      "The best model has been saved\n"
     ]
    },
    {
     "name": "stderr",
     "output_type": "stream",
     "text": [
      " 55%|█████▌    | 416/750 [12:15<03:13,  1.73it/s]"
     ]
    },
    {
     "name": "stdout",
     "output_type": "stream",
     "text": [
      "Validation Accuracy: 0.8710106382978723\n"
     ]
    },
    {
     "name": "stderr",
     "output_type": "stream",
     "text": [
      "\r",
      " 56%|█████▌    | 417/750 [12:28<23:08,  4.17s/it]"
     ]
    },
    {
     "name": "stdout",
     "output_type": "stream",
     "text": [
      "Test Accuracy: 0.8723404255319149\n"
     ]
    },
    {
     "name": "stderr",
     "output_type": "stream",
     "text": [
      " 57%|█████▋    | 424/750 [12:29<03:41,  1.47it/s]"
     ]
    },
    {
     "name": "stdout",
     "output_type": "stream",
     "text": [
      "Validation Accuracy: 0.8947251773049646\n"
     ]
    },
    {
     "name": "stderr",
     "output_type": "stream",
     "text": [
      "\r",
      " 57%|█████▋    | 425/750 [12:42<22:48,  4.21s/it]"
     ]
    },
    {
     "name": "stdout",
     "output_type": "stream",
     "text": [
      "Test Accuracy: 0.8996010638297872\n"
     ]
    },
    {
     "name": "stderr",
     "output_type": "stream",
     "text": [
      " 58%|█████▊    | 432/750 [12:43<03:37,  1.46it/s]"
     ]
    },
    {
     "name": "stdout",
     "output_type": "stream",
     "text": [
      "Validation Accuracy: 0.8925088652482269\n"
     ]
    },
    {
     "name": "stderr",
     "output_type": "stream",
     "text": [
      " 58%|█████▊    | 434/750 [12:57<16:47,  3.19s/it]"
     ]
    },
    {
     "name": "stdout",
     "output_type": "stream",
     "text": [
      "Test Accuracy: 0.8973847517730497\n"
     ]
    },
    {
     "name": "stderr",
     "output_type": "stream",
     "text": [
      " 59%|█████▊    | 440/750 [12:58<03:04,  1.68it/s]"
     ]
    },
    {
     "name": "stdout",
     "output_type": "stream",
     "text": [
      "Validation Accuracy: 0.8840868794326242\n"
     ]
    },
    {
     "name": "stderr",
     "output_type": "stream",
     "text": [
      " 59%|█████▉    | 442/750 [13:12<16:42,  3.25s/it]"
     ]
    },
    {
     "name": "stdout",
     "output_type": "stream",
     "text": [
      "Test Accuracy: 0.8964982269503545\n"
     ]
    },
    {
     "name": "stderr",
     "output_type": "stream",
     "text": [
      " 60%|█████▉    | 448/750 [13:14<03:01,  1.66it/s]"
     ]
    },
    {
     "name": "stdout",
     "output_type": "stream",
     "text": [
      "Validation Accuracy: 0.8805407801418439\n"
     ]
    },
    {
     "name": "stderr",
     "output_type": "stream",
     "text": [
      " 60%|██████    | 450/750 [13:28<16:09,  3.23s/it]"
     ]
    },
    {
     "name": "stdout",
     "output_type": "stream",
     "text": [
      "Test Accuracy: 0.8914007092198583\n"
     ]
    },
    {
     "name": "stderr",
     "output_type": "stream",
     "text": [
      " 61%|██████    | 456/750 [13:29<02:55,  1.68it/s]"
     ]
    },
    {
     "name": "stdout",
     "output_type": "stream",
     "text": [
      "Validation Accuracy: 0.879654255319149\n"
     ]
    },
    {
     "name": "stderr",
     "output_type": "stream",
     "text": [
      "\r",
      " 61%|██████    | 457/750 [13:43<22:13,  4.55s/it]"
     ]
    },
    {
     "name": "stdout",
     "output_type": "stream",
     "text": [
      "Test Accuracy: 0.8854166666666667\n"
     ]
    },
    {
     "name": "stderr",
     "output_type": "stream",
     "text": [
      " 62%|██████▏   | 464/750 [13:44<03:27,  1.38it/s]"
     ]
    },
    {
     "name": "stdout",
     "output_type": "stream",
     "text": [
      "Validation Accuracy: 0.8867464539007093\n"
     ]
    },
    {
     "name": "stderr",
     "output_type": "stream",
     "text": [
      "\r",
      " 62%|██████▏   | 465/750 [13:57<20:24,  4.30s/it]"
     ]
    },
    {
     "name": "stdout",
     "output_type": "stream",
     "text": [
      "Test Accuracy: 0.8929521276595744\n"
     ]
    },
    {
     "name": "stderr",
     "output_type": "stream",
     "text": [
      " 63%|██████▎   | 472/750 [13:58<03:13,  1.43it/s]"
     ]
    },
    {
     "name": "stdout",
     "output_type": "stream",
     "text": [
      "Validation Accuracy: 0.8840868794326242\n"
     ]
    },
    {
     "name": "stderr",
     "output_type": "stream",
     "text": [
      "\r",
      " 63%|██████▎   | 473/750 [14:11<19:33,  4.24s/it]"
     ]
    },
    {
     "name": "stdout",
     "output_type": "stream",
     "text": [
      "Test Accuracy: 0.8920656028368795\n"
     ]
    },
    {
     "name": "stderr",
     "output_type": "stream",
     "text": [
      " 64%|██████▍   | 480/750 [14:12<03:05,  1.45it/s]"
     ]
    },
    {
     "name": "stdout",
     "output_type": "stream",
     "text": [
      "Validation Accuracy: 0.8925088652482269\n"
     ]
    },
    {
     "name": "stderr",
     "output_type": "stream",
     "text": [
      "\r",
      " 64%|██████▍   | 481/750 [14:24<18:47,  4.19s/it]"
     ]
    },
    {
     "name": "stdout",
     "output_type": "stream",
     "text": [
      "Test Accuracy: 0.8900709219858156\n"
     ]
    },
    {
     "name": "stderr",
     "output_type": "stream",
     "text": [
      " 65%|██████▌   | 488/750 [14:26<02:58,  1.47it/s]"
     ]
    },
    {
     "name": "stdout",
     "output_type": "stream",
     "text": [
      "Validation Accuracy: 0.8776595744680851\n"
     ]
    },
    {
     "name": "stderr",
     "output_type": "stream",
     "text": [
      "\r",
      " 65%|██████▌   | 489/750 [14:38<18:13,  4.19s/it]"
     ]
    },
    {
     "name": "stdout",
     "output_type": "stream",
     "text": [
      "Test Accuracy: 0.8683510638297872\n"
     ]
    },
    {
     "name": "stderr",
     "output_type": "stream",
     "text": [
      " 66%|██████▌   | 496/750 [14:40<02:53,  1.47it/s]"
     ]
    },
    {
     "name": "stdout",
     "output_type": "stream",
     "text": [
      "Validation Accuracy: 0.8865248226950354\n"
     ]
    },
    {
     "name": "stderr",
     "output_type": "stream",
     "text": [
      " 66%|██████▋   | 498/750 [14:52<12:42,  3.03s/it]"
     ]
    },
    {
     "name": "stdout",
     "output_type": "stream",
     "text": [
      "Test Accuracy: 0.8789893617021277\n"
     ]
    },
    {
     "name": "stderr",
     "output_type": "stream",
     "text": [
      " 67%|██████▋   | 504/750 [14:54<02:21,  1.74it/s]"
     ]
    },
    {
     "name": "stdout",
     "output_type": "stream",
     "text": [
      "Validation Accuracy: 0.8898492907801417\n"
     ]
    },
    {
     "name": "stderr",
     "output_type": "stream",
     "text": [
      "\r",
      " 67%|██████▋   | 505/750 [15:07<17:46,  4.35s/it]"
     ]
    },
    {
     "name": "stdout",
     "output_type": "stream",
     "text": [
      "Test Accuracy: 0.8820921985815603\n"
     ]
    },
    {
     "name": "stderr",
     "output_type": "stream",
     "text": [
      " 68%|██████▊   | 512/750 [15:09<02:48,  1.41it/s]"
     ]
    },
    {
     "name": "stdout",
     "output_type": "stream",
     "text": [
      "Validation Accuracy: 0.8882978723404256\n"
     ]
    },
    {
     "name": "stderr",
     "output_type": "stream",
     "text": [
      "\r",
      " 68%|██████▊   | 513/750 [15:21<16:51,  4.27s/it]"
     ]
    },
    {
     "name": "stdout",
     "output_type": "stream",
     "text": [
      "Test Accuracy: 0.8805407801418439\n"
     ]
    },
    {
     "name": "stderr",
     "output_type": "stream",
     "text": [
      " 69%|██████▉   | 520/750 [15:23<02:39,  1.45it/s]"
     ]
    },
    {
     "name": "stdout",
     "output_type": "stream",
     "text": [
      "Validation Accuracy: 0.8856382978723404\n"
     ]
    },
    {
     "name": "stderr",
     "output_type": "stream",
     "text": [
      "\r",
      " 69%|██████▉   | 521/750 [15:35<16:10,  4.24s/it]"
     ]
    },
    {
     "name": "stdout",
     "output_type": "stream",
     "text": [
      "Test Accuracy: 0.8847517730496455\n"
     ]
    },
    {
     "name": "stderr",
     "output_type": "stream",
     "text": [
      " 70%|███████   | 528/750 [15:36<02:32,  1.46it/s]"
     ]
    },
    {
     "name": "stdout",
     "output_type": "stream",
     "text": [
      "Validation Accuracy: 0.8918439716312057\n"
     ]
    },
    {
     "name": "stderr",
     "output_type": "stream",
     "text": [
      "\r",
      " 71%|███████   | 529/750 [15:49<15:32,  4.22s/it]"
     ]
    },
    {
     "name": "stdout",
     "output_type": "stream",
     "text": [
      "Test Accuracy: 0.8827570921985816\n"
     ]
    },
    {
     "name": "stderr",
     "output_type": "stream",
     "text": [
      " 71%|███████▏  | 536/750 [15:50<02:26,  1.46it/s]"
     ]
    },
    {
     "name": "stdout",
     "output_type": "stream",
     "text": [
      "Validation Accuracy: 0.8889627659574468\n"
     ]
    },
    {
     "name": "stderr",
     "output_type": "stream",
     "text": [
      " 72%|███████▏  | 538/750 [16:03<10:37,  3.01s/it]"
     ]
    },
    {
     "name": "stdout",
     "output_type": "stream",
     "text": [
      "Test Accuracy: 0.8778812056737588\n"
     ]
    },
    {
     "name": "stderr",
     "output_type": "stream",
     "text": [
      " 73%|███████▎  | 544/750 [16:04<01:52,  1.82it/s]"
     ]
    },
    {
     "name": "stdout",
     "output_type": "stream",
     "text": [
      "Validation Accuracy: 0.8909574468085106\n"
     ]
    },
    {
     "name": "stderr",
     "output_type": "stream",
     "text": [
      "\r",
      " 73%|███████▎  | 545/750 [16:17<14:07,  4.13s/it]"
     ]
    },
    {
     "name": "stdout",
     "output_type": "stream",
     "text": [
      "Test Accuracy: 0.8902925531914894\n"
     ]
    },
    {
     "name": "stderr",
     "output_type": "stream",
     "text": [
      " 74%|███████▎  | 552/750 [16:18<02:13,  1.48it/s]"
     ]
    },
    {
     "name": "stdout",
     "output_type": "stream",
     "text": [
      "Validation Accuracy: 0.8987145390070922\n"
     ]
    },
    {
     "name": "stderr",
     "output_type": "stream",
     "text": [
      "\r",
      " 74%|███████▎  | 553/750 [16:31<13:53,  4.23s/it]"
     ]
    },
    {
     "name": "stdout",
     "output_type": "stream",
     "text": [
      "Test Accuracy: 0.8947251773049646\n"
     ]
    },
    {
     "name": "stderr",
     "output_type": "stream",
     "text": [
      " 75%|███████▍  | 560/750 [16:32<02:10,  1.45it/s]"
     ]
    },
    {
     "name": "stdout",
     "output_type": "stream",
     "text": [
      "Validation Accuracy: 0.894281914893617\n"
     ]
    },
    {
     "name": "stderr",
     "output_type": "stream",
     "text": [
      "\r",
      " 75%|███████▍  | 561/750 [16:45<13:26,  4.27s/it]"
     ]
    },
    {
     "name": "stdout",
     "output_type": "stream",
     "text": [
      "Test Accuracy: 0.8902925531914894\n"
     ]
    },
    {
     "name": "stderr",
     "output_type": "stream",
     "text": [
      " 76%|███████▌  | 568/750 [16:46<02:06,  1.44it/s]"
     ]
    },
    {
     "name": "stdout",
     "output_type": "stream",
     "text": [
      "Validation Accuracy: 0.8945035460992907\n"
     ]
    },
    {
     "name": "stderr",
     "output_type": "stream",
     "text": [
      "\r",
      " 76%|███████▌  | 569/750 [16:59<12:45,  4.23s/it]"
     ]
    },
    {
     "name": "stdout",
     "output_type": "stream",
     "text": [
      "Test Accuracy: 0.902482269503546\n"
     ]
    },
    {
     "name": "stderr",
     "output_type": "stream",
     "text": [
      " 77%|███████▋  | 576/750 [17:00<01:59,  1.45it/s]"
     ]
    },
    {
     "name": "stdout",
     "output_type": "stream",
     "text": [
      "Validation Accuracy: 0.8874113475177305\n"
     ]
    },
    {
     "name": "stderr",
     "output_type": "stream",
     "text": [
      "\r",
      " 77%|███████▋  | 577/750 [17:12<12:09,  4.22s/it]"
     ]
    },
    {
     "name": "stdout",
     "output_type": "stream",
     "text": [
      "Test Accuracy: 0.8949468085106383\n"
     ]
    },
    {
     "name": "stderr",
     "output_type": "stream",
     "text": [
      " 78%|███████▊  | 584/750 [17:14<01:54,  1.45it/s]"
     ]
    },
    {
     "name": "stdout",
     "output_type": "stream",
     "text": [
      "Validation Accuracy: 0.8905141843971631\n"
     ]
    },
    {
     "name": "stderr",
     "output_type": "stream",
     "text": [
      "\r",
      " 78%|███████▊  | 585/750 [17:27<11:55,  4.33s/it]"
     ]
    },
    {
     "name": "stdout",
     "output_type": "stream",
     "text": [
      "Test Accuracy: 0.8969414893617021\n"
     ]
    },
    {
     "name": "stderr",
     "output_type": "stream",
     "text": [
      " 79%|███████▉  | 592/750 [17:28<01:50,  1.42it/s]"
     ]
    },
    {
     "name": "stdout",
     "output_type": "stream",
     "text": [
      "Validation Accuracy: 0.8907358156028369\n"
     ]
    },
    {
     "name": "stderr",
     "output_type": "stream",
     "text": [
      "\r",
      " 79%|███████▉  | 593/750 [17:41<11:04,  4.23s/it]"
     ]
    },
    {
     "name": "stdout",
     "output_type": "stream",
     "text": [
      "Test Accuracy: 0.9007092198581561\n"
     ]
    },
    {
     "name": "stderr",
     "output_type": "stream",
     "text": [
      " 80%|████████  | 600/750 [17:42<01:44,  1.43it/s]"
     ]
    },
    {
     "name": "stdout",
     "output_type": "stream",
     "text": [
      "Validation Accuracy: 0.8849734042553191\n"
     ]
    },
    {
     "name": "stderr",
     "output_type": "stream",
     "text": [
      " 80%|████████  | 602/750 [17:56<07:58,  3.23s/it]"
     ]
    },
    {
     "name": "stdout",
     "output_type": "stream",
     "text": [
      "Test Accuracy: 0.8940602836879433\n"
     ]
    },
    {
     "name": "stderr",
     "output_type": "stream",
     "text": [
      " 81%|████████  | 608/750 [17:57<01:24,  1.68it/s]"
     ]
    },
    {
     "name": "stdout",
     "output_type": "stream",
     "text": [
      "Validation Accuracy: 0.8891843971631205\n"
     ]
    },
    {
     "name": "stderr",
     "output_type": "stream",
     "text": [
      "\r",
      " 81%|████████  | 609/750 [18:10<10:15,  4.37s/it]"
     ]
    },
    {
     "name": "stdout",
     "output_type": "stream",
     "text": [
      "Test Accuracy: 0.8920656028368795\n"
     ]
    },
    {
     "name": "stderr",
     "output_type": "stream",
     "text": [
      " 82%|████████▏ | 616/750 [18:12<01:34,  1.42it/s]"
     ]
    },
    {
     "name": "stdout",
     "output_type": "stream",
     "text": [
      "Validation Accuracy: 0.8614804964539008\n"
     ]
    },
    {
     "name": "stderr",
     "output_type": "stream",
     "text": [
      "\r",
      " 82%|████████▏ | 617/750 [18:24<09:19,  4.21s/it]"
     ]
    },
    {
     "name": "stdout",
     "output_type": "stream",
     "text": [
      "Test Accuracy: 0.8515070921985816\n"
     ]
    },
    {
     "name": "stderr",
     "output_type": "stream",
     "text": [
      " 83%|████████▎ | 624/750 [18:26<01:26,  1.46it/s]"
     ]
    },
    {
     "name": "stdout",
     "output_type": "stream",
     "text": [
      "Validation Accuracy: 0.8936170212765957\n"
     ]
    },
    {
     "name": "stderr",
     "output_type": "stream",
     "text": [
      "\r",
      " 83%|████████▎ | 625/750 [18:39<09:13,  4.43s/it]"
     ]
    },
    {
     "name": "stdout",
     "output_type": "stream",
     "text": [
      "Test Accuracy: 0.9022606382978723\n"
     ]
    },
    {
     "name": "stderr",
     "output_type": "stream",
     "text": [
      " 84%|████████▍ | 632/750 [18:40<01:23,  1.41it/s]"
     ]
    },
    {
     "name": "stdout",
     "output_type": "stream",
     "text": [
      "Validation Accuracy: 0.8909574468085106\n"
     ]
    },
    {
     "name": "stderr",
     "output_type": "stream",
     "text": [
      " 85%|████████▍ | 634/750 [18:54<06:08,  3.18s/it]"
     ]
    },
    {
     "name": "stdout",
     "output_type": "stream",
     "text": [
      "Test Accuracy: 0.8973847517730497\n"
     ]
    },
    {
     "name": "stderr",
     "output_type": "stream",
     "text": [
      " 85%|████████▌ | 640/750 [18:55<01:03,  1.74it/s]"
     ]
    },
    {
     "name": "stdout",
     "output_type": "stream",
     "text": [
      "Validation Accuracy: 0.8927304964539008\n"
     ]
    },
    {
     "name": "stderr",
     "output_type": "stream",
     "text": [
      "\r",
      " 85%|████████▌ | 641/750 [19:08<07:38,  4.20s/it]"
     ]
    },
    {
     "name": "stdout",
     "output_type": "stream",
     "text": [
      "Test Accuracy: 0.894281914893617\n"
     ]
    },
    {
     "name": "stderr",
     "output_type": "stream",
     "text": [
      " 86%|████████▋ | 648/750 [19:09<01:09,  1.46it/s]"
     ]
    },
    {
     "name": "stdout",
     "output_type": "stream",
     "text": [
      "Validation Accuracy: 0.8918439716312057\n"
     ]
    },
    {
     "name": "stderr",
     "output_type": "stream",
     "text": [
      " 87%|████████▋ | 650/750 [19:22<04:57,  2.98s/it]"
     ]
    },
    {
     "name": "stdout",
     "output_type": "stream",
     "text": [
      "Test Accuracy: 0.8947251773049646\n"
     ]
    },
    {
     "name": "stderr",
     "output_type": "stream",
     "text": [
      " 87%|████████▋ | 656/750 [19:23<00:51,  1.84it/s]"
     ]
    },
    {
     "name": "stdout",
     "output_type": "stream",
     "text": [
      "Validation Accuracy: 0.8827570921985816\n"
     ]
    },
    {
     "name": "stderr",
     "output_type": "stream",
     "text": [
      "\r",
      " 88%|████████▊ | 657/750 [19:35<06:25,  4.14s/it]"
     ]
    },
    {
     "name": "stdout",
     "output_type": "stream",
     "text": [
      "Test Accuracy: 0.8878546099290779\n"
     ]
    },
    {
     "name": "stderr",
     "output_type": "stream",
     "text": [
      " 89%|████████▊ | 664/750 [19:37<00:58,  1.48it/s]"
     ]
    },
    {
     "name": "stdout",
     "output_type": "stream",
     "text": [
      "Validation Accuracy: 0.882313829787234\n"
     ]
    },
    {
     "name": "stderr",
     "output_type": "stream",
     "text": [
      " 89%|████████▉ | 666/750 [19:51<04:34,  3.27s/it]"
     ]
    },
    {
     "name": "stdout",
     "output_type": "stream",
     "text": [
      "Test Accuracy: 0.8867464539007093\n"
     ]
    },
    {
     "name": "stderr",
     "output_type": "stream",
     "text": [
      " 90%|████████▉ | 672/750 [19:52<00:46,  1.66it/s]"
     ]
    },
    {
     "name": "stdout",
     "output_type": "stream",
     "text": [
      "Validation Accuracy: 0.8880762411347518\n"
     ]
    },
    {
     "name": "stderr",
     "output_type": "stream",
     "text": [
      "\r",
      " 90%|████████▉ | 673/750 [20:05<05:33,  4.33s/it]"
     ]
    },
    {
     "name": "stdout",
     "output_type": "stream",
     "text": [
      "Test Accuracy: 0.8962765957446809\n"
     ]
    },
    {
     "name": "stderr",
     "output_type": "stream",
     "text": [
      " 91%|█████████ | 680/750 [20:07<00:48,  1.43it/s]"
     ]
    },
    {
     "name": "stdout",
     "output_type": "stream",
     "text": [
      "Validation Accuracy: 0.9002659574468085\n",
      "Test Accuracy: 0.8916223404255319\n",
      "The best model has been saved\n"
     ]
    },
    {
     "name": "stderr",
     "output_type": "stream",
     "text": [
      " 92%|█████████▏| 688/750 [20:23<00:47,  1.30it/s]"
     ]
    },
    {
     "name": "stdout",
     "output_type": "stream",
     "text": [
      "Validation Accuracy: 0.8982712765957447\n"
     ]
    },
    {
     "name": "stderr",
     "output_type": "stream",
     "text": [
      " 92%|█████████▏| 690/750 [20:35<03:00,  3.01s/it]"
     ]
    },
    {
     "name": "stdout",
     "output_type": "stream",
     "text": [
      "Test Accuracy: 0.898936170212766\n"
     ]
    },
    {
     "name": "stderr",
     "output_type": "stream",
     "text": [
      " 93%|█████████▎| 696/750 [20:37<00:30,  1.75it/s]"
     ]
    },
    {
     "name": "stdout",
     "output_type": "stream",
     "text": [
      "Validation Accuracy: 0.8829787234042553\n"
     ]
    },
    {
     "name": "stderr",
     "output_type": "stream",
     "text": [
      "\r",
      " 93%|█████████▎| 697/750 [20:50<03:43,  4.22s/it]"
     ]
    },
    {
     "name": "stdout",
     "output_type": "stream",
     "text": [
      "Test Accuracy: 0.8820921985815603\n"
     ]
    },
    {
     "name": "stderr",
     "output_type": "stream",
     "text": [
      " 94%|█████████▍| 704/750 [20:51<00:31,  1.46it/s]"
     ]
    },
    {
     "name": "stdout",
     "output_type": "stream",
     "text": [
      "Validation Accuracy: 0.8933953900709221\n"
     ]
    },
    {
     "name": "stderr",
     "output_type": "stream",
     "text": [
      "\r",
      " 94%|█████████▍| 705/750 [21:03<03:09,  4.21s/it]"
     ]
    },
    {
     "name": "stdout",
     "output_type": "stream",
     "text": [
      "Test Accuracy: 0.8984929078014184\n"
     ]
    },
    {
     "name": "stderr",
     "output_type": "stream",
     "text": [
      " 95%|█████████▍| 712/750 [21:05<00:26,  1.46it/s]"
     ]
    },
    {
     "name": "stdout",
     "output_type": "stream",
     "text": [
      "Validation Accuracy: 0.8894060283687943\n"
     ]
    },
    {
     "name": "stderr",
     "output_type": "stream",
     "text": [
      "\r",
      " 95%|█████████▌| 713/750 [21:17<02:35,  4.20s/it]"
     ]
    },
    {
     "name": "stdout",
     "output_type": "stream",
     "text": [
      "Test Accuracy: 0.8871897163120567\n"
     ]
    },
    {
     "name": "stderr",
     "output_type": "stream",
     "text": [
      " 96%|█████████▌| 720/750 [21:19<00:20,  1.46it/s]"
     ]
    },
    {
     "name": "stdout",
     "output_type": "stream",
     "text": [
      "Validation Accuracy: 0.8891843971631205\n"
     ]
    },
    {
     "name": "stderr",
     "output_type": "stream",
     "text": [
      "\r",
      " 96%|█████████▌| 721/750 [21:31<02:02,  4.22s/it]"
     ]
    },
    {
     "name": "stdout",
     "output_type": "stream",
     "text": [
      "Test Accuracy: 0.8956117021276596\n"
     ]
    },
    {
     "name": "stderr",
     "output_type": "stream",
     "text": [
      " 97%|█████████▋| 728/750 [21:33<00:15,  1.45it/s]"
     ]
    },
    {
     "name": "stdout",
     "output_type": "stream",
     "text": [
      "Validation Accuracy: 0.8889627659574468\n"
     ]
    },
    {
     "name": "stderr",
     "output_type": "stream",
     "text": [
      " 97%|█████████▋| 730/750 [21:45<00:59,  2.97s/it]"
     ]
    },
    {
     "name": "stdout",
     "output_type": "stream",
     "text": [
      "Test Accuracy: 0.8967198581560284\n"
     ]
    },
    {
     "name": "stderr",
     "output_type": "stream",
     "text": [
      " 98%|█████████▊| 736/750 [21:46<00:07,  1.84it/s]"
     ]
    },
    {
     "name": "stdout",
     "output_type": "stream",
     "text": [
      "Validation Accuracy: 0.8907358156028369\n"
     ]
    },
    {
     "name": "stderr",
     "output_type": "stream",
     "text": [
      "\r",
      " 98%|█████████▊| 737/750 [21:59<00:53,  4.10s/it]"
     ]
    },
    {
     "name": "stdout",
     "output_type": "stream",
     "text": [
      "Test Accuracy: 0.8962765957446809\n"
     ]
    },
    {
     "name": "stderr",
     "output_type": "stream",
     "text": [
      " 99%|█████████▉| 744/750 [22:00<00:04,  1.49it/s]"
     ]
    },
    {
     "name": "stdout",
     "output_type": "stream",
     "text": [
      "Validation Accuracy: 0.8885195035460992\n"
     ]
    },
    {
     "name": "stderr",
     "output_type": "stream",
     "text": [
      "\r",
      " 99%|█████████▉| 745/750 [22:13<00:21,  4.21s/it]"
     ]
    },
    {
     "name": "stdout",
     "output_type": "stream",
     "text": [
      "Test Accuracy: 0.8982712765957447\n"
     ]
    },
    {
     "name": "stderr",
     "output_type": "stream",
     "text": [
      "100%|██████████| 750/750 [22:14<00:00,  1.78s/it]\n",
      "  0%|          | 0/750 [00:00<?, ?it/s]"
     ]
    },
    {
     "name": "stdout",
     "output_type": "stream",
     "text": [
      "Epoch 2\n",
      "Validation Accuracy: 0.8898492907801417\n"
     ]
    },
    {
     "name": "stderr",
     "output_type": "stream",
     "text": [
      "\r",
      "  0%|          | 1/750 [00:12<2:35:38, 12.47s/it]"
     ]
    },
    {
     "name": "stdout",
     "output_type": "stream",
     "text": [
      "Test Accuracy: 0.8920656028368795\n"
     ]
    },
    {
     "name": "stderr",
     "output_type": "stream",
     "text": [
      "  1%|          | 8/750 [00:13<20:30,  1.66s/it]  "
     ]
    },
    {
     "name": "stdout",
     "output_type": "stream",
     "text": [
      "Validation Accuracy: 0.8894060283687943\n"
     ]
    },
    {
     "name": "stderr",
     "output_type": "stream",
     "text": [
      "\r",
      "  1%|          | 9/750 [00:26<1:01:10,  4.95s/it]"
     ]
    },
    {
     "name": "stdout",
     "output_type": "stream",
     "text": [
      "Test Accuracy: 0.8865248226950354\n"
     ]
    },
    {
     "name": "stderr",
     "output_type": "stream",
     "text": [
      "  2%|▏         | 16/750 [00:27<09:27,  1.29it/s] "
     ]
    },
    {
     "name": "stdout",
     "output_type": "stream",
     "text": [
      "Validation Accuracy: 0.8880762411347518\n"
     ]
    },
    {
     "name": "stderr",
     "output_type": "stream",
     "text": [
      "\r",
      "  2%|▏         | 17/750 [00:40<52:23,  4.29s/it]"
     ]
    },
    {
     "name": "stdout",
     "output_type": "stream",
     "text": [
      "Test Accuracy: 0.8911790780141844\n"
     ]
    },
    {
     "name": "stderr",
     "output_type": "stream",
     "text": [
      "  3%|▎         | 24/750 [00:41<08:24,  1.44it/s]"
     ]
    },
    {
     "name": "stdout",
     "output_type": "stream",
     "text": [
      "Validation Accuracy: 0.8905141843971631\n"
     ]
    },
    {
     "name": "stderr",
     "output_type": "stream",
     "text": [
      "\r",
      "  3%|▎         | 25/750 [00:54<51:01,  4.22s/it]"
     ]
    },
    {
     "name": "stdout",
     "output_type": "stream",
     "text": [
      "Test Accuracy: 0.8971631205673758\n"
     ]
    },
    {
     "name": "stderr",
     "output_type": "stream",
     "text": [
      "  4%|▍         | 32/750 [00:55<08:14,  1.45it/s]"
     ]
    },
    {
     "name": "stdout",
     "output_type": "stream",
     "text": [
      "Validation Accuracy: 0.8887411347517731\n"
     ]
    },
    {
     "name": "stderr",
     "output_type": "stream",
     "text": [
      "\r",
      "  4%|▍         | 33/750 [01:08<50:13,  4.20s/it]"
     ]
    },
    {
     "name": "stdout",
     "output_type": "stream",
     "text": [
      "Test Accuracy: 0.8976063829787234\n"
     ]
    },
    {
     "name": "stderr",
     "output_type": "stream",
     "text": [
      "  5%|▌         | 40/750 [01:09<08:10,  1.45it/s]"
     ]
    },
    {
     "name": "stdout",
     "output_type": "stream",
     "text": [
      "Validation Accuracy: 0.8933953900709221\n"
     ]
    },
    {
     "name": "stderr",
     "output_type": "stream",
     "text": [
      "\r",
      "  5%|▌         | 41/750 [01:21<49:40,  4.20s/it]"
     ]
    },
    {
     "name": "stdout",
     "output_type": "stream",
     "text": [
      "Test Accuracy: 0.9002659574468085\n"
     ]
    },
    {
     "name": "stderr",
     "output_type": "stream",
     "text": [
      "  6%|▋         | 48/750 [01:23<08:00,  1.46it/s]"
     ]
    },
    {
     "name": "stdout",
     "output_type": "stream",
     "text": [
      "Validation Accuracy: 0.8967198581560284\n"
     ]
    },
    {
     "name": "stderr",
     "output_type": "stream",
     "text": [
      "\r",
      "  7%|▋         | 49/750 [01:35<49:04,  4.20s/it]"
     ]
    },
    {
     "name": "stdout",
     "output_type": "stream",
     "text": [
      "Test Accuracy: 0.905363475177305\n"
     ]
    },
    {
     "name": "stderr",
     "output_type": "stream",
     "text": [
      "  7%|▋         | 56/750 [01:37<07:55,  1.46it/s]"
     ]
    },
    {
     "name": "stdout",
     "output_type": "stream",
     "text": [
      "Validation Accuracy: 0.9018173758865248\n",
      "Test Accuracy: 0.9060283687943262\n",
      "The best model has been saved\n"
     ]
    },
    {
     "name": "stderr",
     "output_type": "stream",
     "text": [
      "  9%|▊         | 64/750 [01:52<08:32,  1.34it/s]"
     ]
    },
    {
     "name": "stdout",
     "output_type": "stream",
     "text": [
      "Validation Accuracy: 0.9020390070921986\n",
      "Test Accuracy: 0.9040336879432624\n",
      "The best model has been saved\n"
     ]
    },
    {
     "name": "stderr",
     "output_type": "stream",
     "text": [
      " 10%|▉         | 72/750 [02:08<06:41,  1.69it/s]"
     ]
    },
    {
     "name": "stdout",
     "output_type": "stream",
     "text": [
      "Validation Accuracy: 0.9000443262411348\n"
     ]
    },
    {
     "name": "stderr",
     "output_type": "stream",
     "text": [
      "\r",
      " 10%|▉         | 73/750 [02:20<46:36,  4.13s/it]"
     ]
    },
    {
     "name": "stdout",
     "output_type": "stream",
     "text": [
      "Test Accuracy: 0.9055851063829787\n"
     ]
    },
    {
     "name": "stderr",
     "output_type": "stream",
     "text": [
      " 11%|█         | 80/750 [02:22<07:31,  1.48it/s]"
     ]
    },
    {
     "name": "stdout",
     "output_type": "stream",
     "text": [
      "Validation Accuracy: 0.8967198581560284\n"
     ]
    },
    {
     "name": "stderr",
     "output_type": "stream",
     "text": [
      "\r",
      " 11%|█         | 81/750 [02:34<46:42,  4.19s/it]"
     ]
    },
    {
     "name": "stdout",
     "output_type": "stream",
     "text": [
      "Test Accuracy: 0.8982712765957447\n"
     ]
    },
    {
     "name": "stderr",
     "output_type": "stream",
     "text": [
      " 12%|█▏        | 88/750 [02:36<07:31,  1.47it/s]"
     ]
    },
    {
     "name": "stdout",
     "output_type": "stream",
     "text": [
      "Validation Accuracy: 0.894281914893617\n"
     ]
    },
    {
     "name": "stderr",
     "output_type": "stream",
     "text": [
      " 12%|█▏        | 90/750 [02:49<35:00,  3.18s/it]"
     ]
    },
    {
     "name": "stdout",
     "output_type": "stream",
     "text": [
      "Test Accuracy: 0.8956117021276596\n"
     ]
    },
    {
     "name": "stderr",
     "output_type": "stream",
     "text": [
      " 13%|█▎        | 96/750 [02:51<06:29,  1.68it/s]"
     ]
    },
    {
     "name": "stdout",
     "output_type": "stream",
     "text": [
      "Validation Accuracy: 0.9011524822695035\n"
     ]
    },
    {
     "name": "stderr",
     "output_type": "stream",
     "text": [
      "\r",
      " 13%|█▎        | 97/750 [03:03<45:12,  4.15s/it]"
     ]
    },
    {
     "name": "stdout",
     "output_type": "stream",
     "text": [
      "Test Accuracy: 0.9013741134751774\n"
     ]
    },
    {
     "name": "stderr",
     "output_type": "stream",
     "text": [
      " 14%|█▍        | 104/750 [03:04<07:17,  1.48it/s]"
     ]
    },
    {
     "name": "stdout",
     "output_type": "stream",
     "text": [
      "Validation Accuracy: 0.9038120567375886\n",
      "Test Accuracy: 0.9075797872340425\n",
      "The best model has been saved\n"
     ]
    },
    {
     "name": "stderr",
     "output_type": "stream",
     "text": [
      " 15%|█▍        | 112/750 [03:20<06:15,  1.70it/s]"
     ]
    },
    {
     "name": "stdout",
     "output_type": "stream",
     "text": [
      "Validation Accuracy: 0.9049202127659575\n",
      "Test Accuracy: 0.9029255319148937\n",
      "The best model has been saved\n"
     ]
    },
    {
     "name": "stderr",
     "output_type": "stream",
     "text": [
      " 16%|█▌        | 120/750 [03:36<07:48,  1.34it/s]"
     ]
    },
    {
     "name": "stdout",
     "output_type": "stream",
     "text": [
      "Validation Accuracy: 0.9042553191489362\n"
     ]
    },
    {
     "name": "stderr",
     "output_type": "stream",
     "text": [
      "\r",
      " 16%|█▌        | 121/750 [03:49<45:28,  4.34s/it]"
     ]
    },
    {
     "name": "stdout",
     "output_type": "stream",
     "text": [
      "Test Accuracy: 0.9040336879432624\n"
     ]
    },
    {
     "name": "stderr",
     "output_type": "stream",
     "text": [
      " 17%|█▋        | 128/750 [03:50<07:15,  1.43it/s]"
     ]
    },
    {
     "name": "stdout",
     "output_type": "stream",
     "text": [
      "Validation Accuracy: 0.9022606382978723\n"
     ]
    },
    {
     "name": "stderr",
     "output_type": "stream",
     "text": [
      "\r",
      " 17%|█▋        | 129/750 [04:04<47:34,  4.60s/it]"
     ]
    },
    {
     "name": "stdout",
     "output_type": "stream",
     "text": [
      "Test Accuracy: 0.9046985815602837\n"
     ]
    },
    {
     "name": "stderr",
     "output_type": "stream",
     "text": [
      " 18%|█▊        | 136/750 [04:05<07:43,  1.32it/s]"
     ]
    },
    {
     "name": "stdout",
     "output_type": "stream",
     "text": [
      "Validation Accuracy: 0.9004875886524822\n"
     ]
    },
    {
     "name": "stderr",
     "output_type": "stream",
     "text": [
      " 18%|█▊        | 138/750 [04:19<34:00,  3.33s/it]"
     ]
    },
    {
     "name": "stdout",
     "output_type": "stream",
     "text": [
      "Test Accuracy: 0.9042553191489362\n"
     ]
    },
    {
     "name": "stderr",
     "output_type": "stream",
     "text": [
      " 19%|█▉        | 144/750 [04:21<06:09,  1.64it/s]"
     ]
    },
    {
     "name": "stdout",
     "output_type": "stream",
     "text": [
      "Validation Accuracy: 0.8969414893617021\n"
     ]
    },
    {
     "name": "stderr",
     "output_type": "stream",
     "text": [
      "\r",
      " 19%|█▉        | 145/750 [04:34<45:25,  4.50s/it]"
     ]
    },
    {
     "name": "stdout",
     "output_type": "stream",
     "text": [
      "Test Accuracy: 0.8953900709219859\n"
     ]
    },
    {
     "name": "stderr",
     "output_type": "stream",
     "text": [
      " 20%|██        | 152/750 [04:36<07:09,  1.39it/s]"
     ]
    },
    {
     "name": "stdout",
     "output_type": "stream",
     "text": [
      "Validation Accuracy: 0.8973847517730497\n"
     ]
    },
    {
     "name": "stderr",
     "output_type": "stream",
     "text": [
      " 21%|██        | 154/750 [04:48<29:48,  3.00s/it]"
     ]
    },
    {
     "name": "stdout",
     "output_type": "stream",
     "text": [
      "Test Accuracy: 0.8971631205673758\n"
     ]
    },
    {
     "name": "stderr",
     "output_type": "stream",
     "text": [
      " 21%|██▏       | 160/750 [04:50<05:22,  1.83it/s]"
     ]
    },
    {
     "name": "stdout",
     "output_type": "stream",
     "text": [
      "Validation Accuracy: 0.9035904255319149\n"
     ]
    },
    {
     "name": "stderr",
     "output_type": "stream",
     "text": [
      "\r",
      " 21%|██▏       | 161/750 [05:02<41:08,  4.19s/it]"
     ]
    },
    {
     "name": "stdout",
     "output_type": "stream",
     "text": [
      "Test Accuracy: 0.8978280141843971\n"
     ]
    },
    {
     "name": "stderr",
     "output_type": "stream",
     "text": [
      " 22%|██▏       | 168/750 [05:04<06:38,  1.46it/s]"
     ]
    },
    {
     "name": "stdout",
     "output_type": "stream",
     "text": [
      "Validation Accuracy: 0.9027039007092199\n"
     ]
    },
    {
     "name": "stderr",
     "output_type": "stream",
     "text": [
      " 23%|██▎       | 170/750 [05:17<29:57,  3.10s/it]"
     ]
    },
    {
     "name": "stdout",
     "output_type": "stream",
     "text": [
      "Test Accuracy: 0.8953900709219859\n"
     ]
    },
    {
     "name": "stderr",
     "output_type": "stream",
     "text": [
      " 23%|██▎       | 176/750 [05:18<05:26,  1.76it/s]"
     ]
    },
    {
     "name": "stdout",
     "output_type": "stream",
     "text": [
      "Validation Accuracy: 0.8987145390070922\n"
     ]
    },
    {
     "name": "stderr",
     "output_type": "stream",
     "text": [
      "\r",
      " 24%|██▎       | 177/750 [05:31<39:57,  4.18s/it]"
     ]
    },
    {
     "name": "stdout",
     "output_type": "stream",
     "text": [
      "Test Accuracy: 0.895168439716312\n"
     ]
    },
    {
     "name": "stderr",
     "output_type": "stream",
     "text": [
      " 25%|██▍       | 184/750 [05:32<06:25,  1.47it/s]"
     ]
    },
    {
     "name": "stdout",
     "output_type": "stream",
     "text": [
      "Validation Accuracy: 0.8984929078014184\n"
     ]
    },
    {
     "name": "stderr",
     "output_type": "stream",
     "text": [
      "\r",
      " 25%|██▍       | 185/750 [05:45<39:47,  4.23s/it]"
     ]
    },
    {
     "name": "stdout",
     "output_type": "stream",
     "text": [
      "Test Accuracy: 0.8991578014184397\n"
     ]
    },
    {
     "name": "stderr",
     "output_type": "stream",
     "text": [
      " 26%|██▌       | 192/750 [05:46<06:23,  1.45it/s]"
     ]
    },
    {
     "name": "stdout",
     "output_type": "stream",
     "text": [
      "Validation Accuracy: 0.8980496453900709\n"
     ]
    },
    {
     "name": "stderr",
     "output_type": "stream",
     "text": [
      "\r",
      " 26%|██▌       | 193/750 [05:59<39:30,  4.26s/it]"
     ]
    },
    {
     "name": "stdout",
     "output_type": "stream",
     "text": [
      "Test Accuracy: 0.8982712765957447\n"
     ]
    },
    {
     "name": "stderr",
     "output_type": "stream",
     "text": [
      " 27%|██▋       | 200/750 [06:00<06:20,  1.44it/s]"
     ]
    },
    {
     "name": "stdout",
     "output_type": "stream",
     "text": [
      "Validation Accuracy: 0.9013741134751774\n"
     ]
    },
    {
     "name": "stderr",
     "output_type": "stream",
     "text": [
      "\r",
      " 27%|██▋       | 201/750 [06:13<38:33,  4.21s/it]"
     ]
    },
    {
     "name": "stdout",
     "output_type": "stream",
     "text": [
      "Test Accuracy: 0.8874113475177305\n"
     ]
    },
    {
     "name": "stderr",
     "output_type": "stream",
     "text": [
      " 28%|██▊       | 208/750 [06:14<06:11,  1.46it/s]"
     ]
    },
    {
     "name": "stdout",
     "output_type": "stream",
     "text": [
      "Validation Accuracy: 0.9002659574468085\n"
     ]
    },
    {
     "name": "stderr",
     "output_type": "stream",
     "text": [
      "\r",
      " 28%|██▊       | 209/750 [06:27<38:16,  4.24s/it]"
     ]
    },
    {
     "name": "stdout",
     "output_type": "stream",
     "text": [
      "Test Accuracy: 0.886081560283688\n"
     ]
    },
    {
     "name": "stderr",
     "output_type": "stream",
     "text": [
      " 29%|██▉       | 216/750 [06:28<06:09,  1.45it/s]"
     ]
    },
    {
     "name": "stdout",
     "output_type": "stream",
     "text": [
      "Validation Accuracy: 0.899822695035461\n"
     ]
    },
    {
     "name": "stderr",
     "output_type": "stream",
     "text": [
      "\r",
      " 29%|██▉       | 217/750 [06:40<37:36,  4.23s/it]"
     ]
    },
    {
     "name": "stdout",
     "output_type": "stream",
     "text": [
      "Test Accuracy: 0.8889627659574468\n"
     ]
    },
    {
     "name": "stderr",
     "output_type": "stream",
     "text": [
      " 30%|██▉       | 224/750 [06:42<06:01,  1.45it/s]"
     ]
    },
    {
     "name": "stdout",
     "output_type": "stream",
     "text": [
      "Validation Accuracy: 0.8953900709219859\n"
     ]
    },
    {
     "name": "stderr",
     "output_type": "stream",
     "text": [
      "\r",
      " 30%|███       | 225/750 [06:55<37:21,  4.27s/it]"
     ]
    },
    {
     "name": "stdout",
     "output_type": "stream",
     "text": [
      "Test Accuracy: 0.8980496453900709\n"
     ]
    },
    {
     "name": "stderr",
     "output_type": "stream",
     "text": [
      " 31%|███       | 232/750 [06:56<05:58,  1.45it/s]"
     ]
    },
    {
     "name": "stdout",
     "output_type": "stream",
     "text": [
      "Validation Accuracy: 0.8964982269503545\n"
     ]
    },
    {
     "name": "stderr",
     "output_type": "stream",
     "text": [
      "\r",
      " 31%|███       | 233/750 [07:09<36:41,  4.26s/it]"
     ]
    },
    {
     "name": "stdout",
     "output_type": "stream",
     "text": [
      "Test Accuracy: 0.895168439716312\n"
     ]
    },
    {
     "name": "stderr",
     "output_type": "stream",
     "text": [
      " 32%|███▏      | 240/750 [07:10<05:55,  1.43it/s]"
     ]
    },
    {
     "name": "stdout",
     "output_type": "stream",
     "text": [
      "Validation Accuracy: 0.8940602836879433\n"
     ]
    },
    {
     "name": "stderr",
     "output_type": "stream",
     "text": [
      "\r",
      " 32%|███▏      | 241/750 [07:23<36:14,  4.27s/it]"
     ]
    },
    {
     "name": "stdout",
     "output_type": "stream",
     "text": [
      "Test Accuracy: 0.8891843971631205\n"
     ]
    },
    {
     "name": "stderr",
     "output_type": "stream",
     "text": [
      " 33%|███▎      | 248/750 [07:24<05:47,  1.44it/s]"
     ]
    },
    {
     "name": "stdout",
     "output_type": "stream",
     "text": [
      "Validation Accuracy: 0.8922872340425532\n"
     ]
    },
    {
     "name": "stderr",
     "output_type": "stream",
     "text": [
      "\r",
      " 33%|███▎      | 249/750 [07:36<35:15,  4.22s/it]"
     ]
    },
    {
     "name": "stdout",
     "output_type": "stream",
     "text": [
      "Test Accuracy: 0.8858599290780141\n"
     ]
    },
    {
     "name": "stderr",
     "output_type": "stream",
     "text": [
      " 34%|███▍      | 256/750 [07:38<05:39,  1.46it/s]"
     ]
    },
    {
     "name": "stdout",
     "output_type": "stream",
     "text": [
      "Validation Accuracy: 0.8931737588652482\n"
     ]
    },
    {
     "name": "stderr",
     "output_type": "stream",
     "text": [
      "\r",
      " 34%|███▍      | 257/750 [07:50<34:28,  4.19s/it]"
     ]
    },
    {
     "name": "stdout",
     "output_type": "stream",
     "text": [
      "Test Accuracy: 0.8820921985815603\n"
     ]
    },
    {
     "name": "stderr",
     "output_type": "stream",
     "text": [
      " 35%|███▌      | 264/750 [07:52<05:31,  1.46it/s]"
     ]
    },
    {
     "name": "stdout",
     "output_type": "stream",
     "text": [
      "Validation Accuracy: 0.8962765957446809\n"
     ]
    },
    {
     "name": "stderr",
     "output_type": "stream",
     "text": [
      "\r",
      " 35%|███▌      | 265/750 [08:04<33:56,  4.20s/it]"
     ]
    },
    {
     "name": "stdout",
     "output_type": "stream",
     "text": [
      "Test Accuracy: 0.8907358156028369\n"
     ]
    },
    {
     "name": "stderr",
     "output_type": "stream",
     "text": [
      " 36%|███▋      | 272/750 [08:05<05:27,  1.46it/s]"
     ]
    },
    {
     "name": "stdout",
     "output_type": "stream",
     "text": [
      "Validation Accuracy: 0.8914007092198583\n"
     ]
    },
    {
     "name": "stderr",
     "output_type": "stream",
     "text": [
      "\r",
      " 36%|███▋      | 273/750 [08:18<33:27,  4.21s/it]"
     ]
    },
    {
     "name": "stdout",
     "output_type": "stream",
     "text": [
      "Test Accuracy: 0.8940602836879433\n"
     ]
    },
    {
     "name": "stderr",
     "output_type": "stream",
     "text": [
      " 37%|███▋      | 280/750 [08:19<05:21,  1.46it/s]"
     ]
    },
    {
     "name": "stdout",
     "output_type": "stream",
     "text": [
      "Validation Accuracy: 0.8889627659574468\n"
     ]
    },
    {
     "name": "stderr",
     "output_type": "stream",
     "text": [
      "\r",
      " 37%|███▋      | 281/750 [08:32<32:54,  4.21s/it]"
     ]
    },
    {
     "name": "stdout",
     "output_type": "stream",
     "text": [
      "Test Accuracy: 0.8947251773049646\n"
     ]
    },
    {
     "name": "stderr",
     "output_type": "stream",
     "text": [
      " 38%|███▊      | 288/750 [08:33<05:15,  1.46it/s]"
     ]
    },
    {
     "name": "stdout",
     "output_type": "stream",
     "text": [
      "Validation Accuracy: 0.899822695035461\n"
     ]
    },
    {
     "name": "stderr",
     "output_type": "stream",
     "text": [
      "\r",
      " 39%|███▊      | 289/750 [08:46<32:17,  4.20s/it]"
     ]
    },
    {
     "name": "stdout",
     "output_type": "stream",
     "text": [
      "Test Accuracy: 0.8973847517730497\n"
     ]
    },
    {
     "name": "stderr",
     "output_type": "stream",
     "text": [
      " 39%|███▉      | 296/750 [08:47<05:11,  1.46it/s]"
     ]
    },
    {
     "name": "stdout",
     "output_type": "stream",
     "text": [
      "Validation Accuracy: 0.8927304964539008\n"
     ]
    },
    {
     "name": "stderr",
     "output_type": "stream",
     "text": [
      "\r",
      " 40%|███▉      | 297/750 [08:59<31:41,  4.20s/it]"
     ]
    },
    {
     "name": "stdout",
     "output_type": "stream",
     "text": [
      "Test Accuracy: 0.894281914893617\n"
     ]
    },
    {
     "name": "stderr",
     "output_type": "stream",
     "text": [
      " 41%|████      | 304/750 [09:01<05:04,  1.46it/s]"
     ]
    },
    {
     "name": "stdout",
     "output_type": "stream",
     "text": [
      "Validation Accuracy: 0.894281914893617\n"
     ]
    },
    {
     "name": "stderr",
     "output_type": "stream",
     "text": [
      "\r",
      " 41%|████      | 305/750 [09:13<31:16,  4.22s/it]"
     ]
    },
    {
     "name": "stdout",
     "output_type": "stream",
     "text": [
      "Test Accuracy: 0.8918439716312057\n"
     ]
    },
    {
     "name": "stderr",
     "output_type": "stream",
     "text": [
      " 42%|████▏     | 312/750 [09:15<05:00,  1.46it/s]"
     ]
    },
    {
     "name": "stdout",
     "output_type": "stream",
     "text": [
      "Validation Accuracy: 0.8916223404255319\n"
     ]
    },
    {
     "name": "stderr",
     "output_type": "stream",
     "text": [
      "\r",
      " 42%|████▏     | 313/750 [09:27<30:37,  4.20s/it]"
     ]
    },
    {
     "name": "stdout",
     "output_type": "stream",
     "text": [
      "Test Accuracy: 0.8911790780141844\n"
     ]
    },
    {
     "name": "stderr",
     "output_type": "stream",
     "text": [
      " 43%|████▎     | 320/750 [09:28<04:53,  1.46it/s]"
     ]
    },
    {
     "name": "stdout",
     "output_type": "stream",
     "text": [
      "Validation Accuracy: 0.8929521276595744\n"
     ]
    },
    {
     "name": "stderr",
     "output_type": "stream",
     "text": [
      "\r",
      " 43%|████▎     | 321/750 [09:41<30:03,  4.20s/it]"
     ]
    },
    {
     "name": "stdout",
     "output_type": "stream",
     "text": [
      "Test Accuracy: 0.8929521276595744\n"
     ]
    },
    {
     "name": "stderr",
     "output_type": "stream",
     "text": [
      " 44%|████▎     | 328/750 [09:42<04:48,  1.46it/s]"
     ]
    },
    {
     "name": "stdout",
     "output_type": "stream",
     "text": [
      "Validation Accuracy: 0.9000443262411348\n"
     ]
    },
    {
     "name": "stderr",
     "output_type": "stream",
     "text": [
      "\r",
      " 44%|████▍     | 329/750 [09:55<29:28,  4.20s/it]"
     ]
    },
    {
     "name": "stdout",
     "output_type": "stream",
     "text": [
      "Test Accuracy: 0.8993794326241136\n"
     ]
    },
    {
     "name": "stderr",
     "output_type": "stream",
     "text": [
      " 45%|████▍     | 336/750 [09:56<04:44,  1.46it/s]"
     ]
    },
    {
     "name": "stdout",
     "output_type": "stream",
     "text": [
      "Validation Accuracy: 0.8962765957446809\n"
     ]
    },
    {
     "name": "stderr",
     "output_type": "stream",
     "text": [
      "\r",
      " 45%|████▍     | 337/750 [10:09<28:58,  4.21s/it]"
     ]
    },
    {
     "name": "stdout",
     "output_type": "stream",
     "text": [
      "Test Accuracy: 0.895168439716312\n"
     ]
    },
    {
     "name": "stderr",
     "output_type": "stream",
     "text": [
      " 46%|████▌     | 344/750 [10:10<04:37,  1.46it/s]"
     ]
    },
    {
     "name": "stdout",
     "output_type": "stream",
     "text": [
      "Validation Accuracy: 0.8925088652482269\n"
     ]
    },
    {
     "name": "stderr",
     "output_type": "stream",
     "text": [
      "\r",
      " 46%|████▌     | 345/750 [10:22<28:22,  4.20s/it]"
     ]
    },
    {
     "name": "stdout",
     "output_type": "stream",
     "text": [
      "Test Accuracy: 0.8949468085106383\n"
     ]
    },
    {
     "name": "stderr",
     "output_type": "stream",
     "text": [
      " 47%|████▋     | 352/750 [10:24<04:32,  1.46it/s]"
     ]
    },
    {
     "name": "stdout",
     "output_type": "stream",
     "text": [
      "Validation Accuracy: 0.8918439716312057\n"
     ]
    },
    {
     "name": "stderr",
     "output_type": "stream",
     "text": [
      "\r",
      " 47%|████▋     | 353/750 [10:36<27:45,  4.19s/it]"
     ]
    },
    {
     "name": "stdout",
     "output_type": "stream",
     "text": [
      "Test Accuracy: 0.8865248226950354\n"
     ]
    },
    {
     "name": "stderr",
     "output_type": "stream",
     "text": [
      " 48%|████▊     | 360/750 [10:38<04:26,  1.46it/s]"
     ]
    },
    {
     "name": "stdout",
     "output_type": "stream",
     "text": [
      "Validation Accuracy: 0.8916223404255319\n"
     ]
    },
    {
     "name": "stderr",
     "output_type": "stream",
     "text": [
      " 48%|████▊     | 362/750 [10:51<20:07,  3.11s/it]"
     ]
    },
    {
     "name": "stdout",
     "output_type": "stream",
     "text": [
      "Test Accuracy: 0.8933953900709221\n"
     ]
    },
    {
     "name": "stderr",
     "output_type": "stream",
     "text": [
      " 49%|████▉     | 368/750 [10:52<03:43,  1.71it/s]"
     ]
    },
    {
     "name": "stdout",
     "output_type": "stream",
     "text": [
      "Validation Accuracy: 0.8889627659574468\n"
     ]
    },
    {
     "name": "stderr",
     "output_type": "stream",
     "text": [
      "\r",
      " 49%|████▉     | 369/750 [11:05<27:30,  4.33s/it]"
     ]
    },
    {
     "name": "stdout",
     "output_type": "stream",
     "text": [
      "Test Accuracy: 0.8920656028368795\n"
     ]
    },
    {
     "name": "stderr",
     "output_type": "stream",
     "text": [
      " 50%|█████     | 376/750 [11:07<04:21,  1.43it/s]"
     ]
    },
    {
     "name": "stdout",
     "output_type": "stream",
     "text": [
      "Validation Accuracy: 0.8900709219858156\n"
     ]
    },
    {
     "name": "stderr",
     "output_type": "stream",
     "text": [
      "\r",
      " 50%|█████     | 377/750 [11:20<27:12,  4.38s/it]"
     ]
    },
    {
     "name": "stdout",
     "output_type": "stream",
     "text": [
      "Test Accuracy: 0.8836436170212766\n"
     ]
    },
    {
     "name": "stderr",
     "output_type": "stream",
     "text": [
      " 51%|█████     | 384/750 [11:21<04:21,  1.40it/s]"
     ]
    },
    {
     "name": "stdout",
     "output_type": "stream",
     "text": [
      "Validation Accuracy: 0.8980496453900709\n"
     ]
    },
    {
     "name": "stderr",
     "output_type": "stream",
     "text": [
      "\r",
      " 51%|█████▏    | 385/750 [11:34<26:14,  4.31s/it]"
     ]
    },
    {
     "name": "stdout",
     "output_type": "stream",
     "text": [
      "Test Accuracy: 0.8993794326241136\n"
     ]
    },
    {
     "name": "stderr",
     "output_type": "stream",
     "text": [
      " 52%|█████▏    | 392/750 [11:35<04:12,  1.42it/s]"
     ]
    },
    {
     "name": "stdout",
     "output_type": "stream",
     "text": [
      "Validation Accuracy: 0.8854166666666667\n"
     ]
    },
    {
     "name": "stderr",
     "output_type": "stream",
     "text": [
      "\r",
      " 52%|█████▏    | 393/750 [11:48<25:54,  4.36s/it]"
     ]
    },
    {
     "name": "stdout",
     "output_type": "stream",
     "text": [
      "Test Accuracy: 0.8914007092198583\n"
     ]
    },
    {
     "name": "stderr",
     "output_type": "stream",
     "text": [
      " 53%|█████▎    | 400/750 [11:50<04:07,  1.41it/s]"
     ]
    },
    {
     "name": "stdout",
     "output_type": "stream",
     "text": [
      "Validation Accuracy: 0.8940602836879433\n"
     ]
    },
    {
     "name": "stderr",
     "output_type": "stream",
     "text": [
      "\r",
      " 53%|█████▎    | 401/750 [12:02<24:55,  4.29s/it]"
     ]
    },
    {
     "name": "stdout",
     "output_type": "stream",
     "text": [
      "Test Accuracy: 0.8911790780141844\n"
     ]
    },
    {
     "name": "stderr",
     "output_type": "stream",
     "text": [
      " 54%|█████▍    | 408/750 [12:04<03:59,  1.43it/s]"
     ]
    },
    {
     "name": "stdout",
     "output_type": "stream",
     "text": [
      "Validation Accuracy: 0.8980496453900709\n"
     ]
    },
    {
     "name": "stderr",
     "output_type": "stream",
     "text": [
      "\r",
      " 55%|█████▍    | 409/750 [12:16<24:27,  4.30s/it]"
     ]
    },
    {
     "name": "stdout",
     "output_type": "stream",
     "text": [
      "Test Accuracy: 0.8940602836879433\n"
     ]
    },
    {
     "name": "stderr",
     "output_type": "stream",
     "text": [
      " 55%|█████▌    | 416/750 [12:18<03:55,  1.42it/s]"
     ]
    },
    {
     "name": "stdout",
     "output_type": "stream",
     "text": [
      "Validation Accuracy: 0.8969414893617021\n"
     ]
    },
    {
     "name": "stderr",
     "output_type": "stream",
     "text": [
      "\r",
      " 56%|█████▌    | 417/750 [12:30<23:40,  4.26s/it]"
     ]
    },
    {
     "name": "stdout",
     "output_type": "stream",
     "text": [
      "Test Accuracy: 0.8933953900709221\n"
     ]
    },
    {
     "name": "stderr",
     "output_type": "stream",
     "text": [
      " 57%|█████▋    | 424/750 [12:32<03:46,  1.44it/s]"
     ]
    },
    {
     "name": "stdout",
     "output_type": "stream",
     "text": [
      "Validation Accuracy: 0.8940602836879433\n"
     ]
    },
    {
     "name": "stderr",
     "output_type": "stream",
     "text": [
      "\r",
      " 57%|█████▋    | 425/750 [12:44<23:04,  4.26s/it]"
     ]
    },
    {
     "name": "stdout",
     "output_type": "stream",
     "text": [
      "Test Accuracy: 0.8929521276595744\n"
     ]
    },
    {
     "name": "stderr",
     "output_type": "stream",
     "text": [
      " 58%|█████▊    | 432/750 [12:46<03:40,  1.44it/s]"
     ]
    },
    {
     "name": "stdout",
     "output_type": "stream",
     "text": [
      "Validation Accuracy: 0.8967198581560284\n"
     ]
    },
    {
     "name": "stderr",
     "output_type": "stream",
     "text": [
      "\r",
      " 58%|█████▊    | 433/750 [12:59<22:34,  4.27s/it]"
     ]
    },
    {
     "name": "stdout",
     "output_type": "stream",
     "text": [
      "Test Accuracy: 0.8889627659574468\n"
     ]
    },
    {
     "name": "stderr",
     "output_type": "stream",
     "text": [
      " 59%|█████▊    | 440/750 [13:00<03:35,  1.44it/s]"
     ]
    },
    {
     "name": "stdout",
     "output_type": "stream",
     "text": [
      "Validation Accuracy: 0.8914007092198583\n"
     ]
    },
    {
     "name": "stderr",
     "output_type": "stream",
     "text": [
      "\r",
      " 59%|█████▉    | 441/750 [13:13<22:00,  4.27s/it]"
     ]
    },
    {
     "name": "stdout",
     "output_type": "stream",
     "text": [
      "Test Accuracy: 0.8776595744680851\n"
     ]
    },
    {
     "name": "stderr",
     "output_type": "stream",
     "text": [
      " 60%|█████▉    | 448/750 [13:14<03:29,  1.44it/s]"
     ]
    },
    {
     "name": "stdout",
     "output_type": "stream",
     "text": [
      "Validation Accuracy: 0.895168439716312\n"
     ]
    },
    {
     "name": "stderr",
     "output_type": "stream",
     "text": [
      "\r",
      " 60%|█████▉    | 449/750 [13:27<21:31,  4.29s/it]"
     ]
    },
    {
     "name": "stdout",
     "output_type": "stream",
     "text": [
      "Test Accuracy: 0.8940602836879433\n"
     ]
    },
    {
     "name": "stderr",
     "output_type": "stream",
     "text": [
      " 61%|██████    | 456/750 [13:28<03:24,  1.43it/s]"
     ]
    },
    {
     "name": "stdout",
     "output_type": "stream",
     "text": [
      "Validation Accuracy: 0.8945035460992907\n"
     ]
    },
    {
     "name": "stderr",
     "output_type": "stream",
     "text": [
      "\r",
      " 61%|██████    | 457/750 [13:41<20:47,  4.26s/it]"
     ]
    },
    {
     "name": "stdout",
     "output_type": "stream",
     "text": [
      "Test Accuracy: 0.8933953900709221\n"
     ]
    },
    {
     "name": "stderr",
     "output_type": "stream",
     "text": [
      " 62%|██████▏   | 464/750 [13:42<03:17,  1.45it/s]"
     ]
    },
    {
     "name": "stdout",
     "output_type": "stream",
     "text": [
      "Validation Accuracy: 0.8880762411347518\n"
     ]
    },
    {
     "name": "stderr",
     "output_type": "stream",
     "text": [
      "\r",
      " 62%|██████▏   | 465/750 [13:55<20:17,  4.27s/it]"
     ]
    },
    {
     "name": "stdout",
     "output_type": "stream",
     "text": [
      "Test Accuracy: 0.8847517730496455\n"
     ]
    },
    {
     "name": "stderr",
     "output_type": "stream",
     "text": [
      " 63%|██████▎   | 472/750 [13:56<03:13,  1.44it/s]"
     ]
    },
    {
     "name": "stdout",
     "output_type": "stream",
     "text": [
      "Validation Accuracy: 0.8909574468085106\n"
     ]
    },
    {
     "name": "stderr",
     "output_type": "stream",
     "text": [
      "\r",
      " 63%|██████▎   | 473/750 [14:09<19:47,  4.29s/it]"
     ]
    },
    {
     "name": "stdout",
     "output_type": "stream",
     "text": [
      "Test Accuracy: 0.8834219858156029\n"
     ]
    },
    {
     "name": "stderr",
     "output_type": "stream",
     "text": [
      " 64%|██████▍   | 480/750 [14:10<03:08,  1.44it/s]"
     ]
    },
    {
     "name": "stdout",
     "output_type": "stream",
     "text": [
      "Validation Accuracy: 0.8973847517730497\n"
     ]
    },
    {
     "name": "stderr",
     "output_type": "stream",
     "text": [
      "\r",
      " 64%|██████▍   | 481/750 [14:23<19:07,  4.27s/it]"
     ]
    },
    {
     "name": "stdout",
     "output_type": "stream",
     "text": [
      "Test Accuracy: 0.8949468085106383\n"
     ]
    },
    {
     "name": "stderr",
     "output_type": "stream",
     "text": [
      " 65%|██████▌   | 488/750 [14:24<03:01,  1.44it/s]"
     ]
    },
    {
     "name": "stdout",
     "output_type": "stream",
     "text": [
      "Validation Accuracy: 0.8878546099290779\n"
     ]
    },
    {
     "name": "stderr",
     "output_type": "stream",
     "text": [
      "\r",
      " 65%|██████▌   | 489/750 [14:37<18:35,  4.27s/it]"
     ]
    },
    {
     "name": "stdout",
     "output_type": "stream",
     "text": [
      "Test Accuracy: 0.879654255319149\n"
     ]
    },
    {
     "name": "stderr",
     "output_type": "stream",
     "text": [
      " 66%|██████▌   | 496/750 [14:38<02:56,  1.44it/s]"
     ]
    },
    {
     "name": "stdout",
     "output_type": "stream",
     "text": [
      "Validation Accuracy: 0.8916223404255319\n"
     ]
    },
    {
     "name": "stderr",
     "output_type": "stream",
     "text": [
      "\r",
      " 66%|██████▋   | 497/750 [14:51<18:08,  4.30s/it]"
     ]
    },
    {
     "name": "stdout",
     "output_type": "stream",
     "text": [
      "Test Accuracy: 0.8889627659574468\n"
     ]
    },
    {
     "name": "stderr",
     "output_type": "stream",
     "text": [
      " 67%|██████▋   | 504/750 [14:52<02:51,  1.43it/s]"
     ]
    },
    {
     "name": "stdout",
     "output_type": "stream",
     "text": [
      "Validation Accuracy: 0.8902925531914894\n"
     ]
    },
    {
     "name": "stderr",
     "output_type": "stream",
     "text": [
      "\r",
      " 67%|██████▋   | 505/750 [15:05<17:28,  4.28s/it]"
     ]
    },
    {
     "name": "stdout",
     "output_type": "stream",
     "text": [
      "Test Accuracy: 0.8958333333333333\n"
     ]
    },
    {
     "name": "stderr",
     "output_type": "stream",
     "text": [
      " 68%|██████▊   | 512/750 [15:06<02:46,  1.43it/s]"
     ]
    },
    {
     "name": "stdout",
     "output_type": "stream",
     "text": [
      "Validation Accuracy: 0.8940602836879433\n"
     ]
    },
    {
     "name": "stderr",
     "output_type": "stream",
     "text": [
      "\r",
      " 68%|██████▊   | 513/750 [15:19<17:02,  4.31s/it]"
     ]
    },
    {
     "name": "stdout",
     "output_type": "stream",
     "text": [
      "Test Accuracy: 0.8969414893617021\n"
     ]
    },
    {
     "name": "stderr",
     "output_type": "stream",
     "text": [
      " 69%|██████▉   | 520/750 [15:21<02:40,  1.43it/s]"
     ]
    },
    {
     "name": "stdout",
     "output_type": "stream",
     "text": [
      "Validation Accuracy: 0.8969414893617021\n"
     ]
    },
    {
     "name": "stderr",
     "output_type": "stream",
     "text": [
      "\r",
      " 69%|██████▉   | 521/750 [15:34<16:36,  4.35s/it]"
     ]
    },
    {
     "name": "stdout",
     "output_type": "stream",
     "text": [
      "Test Accuracy: 0.8980496453900709\n"
     ]
    },
    {
     "name": "stderr",
     "output_type": "stream",
     "text": [
      " 70%|███████   | 528/750 [15:35<02:36,  1.42it/s]"
     ]
    },
    {
     "name": "stdout",
     "output_type": "stream",
     "text": [
      "Validation Accuracy: 0.8967198581560284\n"
     ]
    },
    {
     "name": "stderr",
     "output_type": "stream",
     "text": [
      "\r",
      " 71%|███████   | 529/750 [15:48<15:45,  4.28s/it]"
     ]
    },
    {
     "name": "stdout",
     "output_type": "stream",
     "text": [
      "Test Accuracy: 0.8949468085106383\n"
     ]
    },
    {
     "name": "stderr",
     "output_type": "stream",
     "text": [
      " 71%|███████▏  | 536/750 [15:49<02:28,  1.44it/s]"
     ]
    },
    {
     "name": "stdout",
     "output_type": "stream",
     "text": [
      "Validation Accuracy: 0.8854166666666667\n"
     ]
    },
    {
     "name": "stderr",
     "output_type": "stream",
     "text": [
      "\r",
      " 72%|███████▏  | 537/750 [16:02<15:14,  4.29s/it]"
     ]
    },
    {
     "name": "stdout",
     "output_type": "stream",
     "text": [
      "Test Accuracy: 0.8876329787234043\n"
     ]
    },
    {
     "name": "stderr",
     "output_type": "stream",
     "text": [
      " 73%|███████▎  | 544/750 [16:03<02:24,  1.43it/s]"
     ]
    },
    {
     "name": "stdout",
     "output_type": "stream",
     "text": [
      "Validation Accuracy: 0.8772163120567376\n"
     ]
    },
    {
     "name": "stderr",
     "output_type": "stream",
     "text": [
      "\r",
      " 73%|███████▎  | 545/750 [16:16<14:43,  4.31s/it]"
     ]
    },
    {
     "name": "stdout",
     "output_type": "stream",
     "text": [
      "Test Accuracy: 0.8827570921985816\n"
     ]
    },
    {
     "name": "stderr",
     "output_type": "stream",
     "text": [
      " 74%|███████▎  | 552/750 [16:17<02:19,  1.42it/s]"
     ]
    },
    {
     "name": "stdout",
     "output_type": "stream",
     "text": [
      "Validation Accuracy: 0.8874113475177305\n"
     ]
    },
    {
     "name": "stderr",
     "output_type": "stream",
     "text": [
      "\r",
      " 74%|███████▎  | 553/750 [16:31<14:37,  4.45s/it]"
     ]
    },
    {
     "name": "stdout",
     "output_type": "stream",
     "text": [
      "Test Accuracy: 0.8956117021276596\n"
     ]
    },
    {
     "name": "stderr",
     "output_type": "stream",
     "text": [
      " 75%|███████▍  | 560/750 [16:32<02:16,  1.39it/s]"
     ]
    },
    {
     "name": "stdout",
     "output_type": "stream",
     "text": [
      "Validation Accuracy: 0.8774379432624114\n"
     ]
    },
    {
     "name": "stderr",
     "output_type": "stream",
     "text": [
      "\r",
      " 75%|███████▍  | 561/750 [16:45<13:46,  4.37s/it]"
     ]
    },
    {
     "name": "stdout",
     "output_type": "stream",
     "text": [
      "Test Accuracy: 0.886081560283688\n"
     ]
    },
    {
     "name": "stderr",
     "output_type": "stream",
     "text": [
      " 76%|███████▌  | 568/750 [16:46<02:06,  1.43it/s]"
     ]
    },
    {
     "name": "stdout",
     "output_type": "stream",
     "text": [
      "Validation Accuracy: 0.8894060283687943\n"
     ]
    },
    {
     "name": "stderr",
     "output_type": "stream",
     "text": [
      "\r",
      " 76%|███████▌  | 569/750 [16:58<12:25,  4.12s/it]"
     ]
    },
    {
     "name": "stdout",
     "output_type": "stream",
     "text": [
      "Test Accuracy: 0.902482269503546\n"
     ]
    },
    {
     "name": "stderr",
     "output_type": "stream",
     "text": [
      " 77%|███████▋  | 576/750 [17:00<01:56,  1.50it/s]"
     ]
    },
    {
     "name": "stdout",
     "output_type": "stream",
     "text": [
      "Validation Accuracy: 0.8976063829787234\n"
     ]
    },
    {
     "name": "stderr",
     "output_type": "stream",
     "text": [
      "\r",
      " 77%|███████▋  | 577/750 [17:12<11:59,  4.16s/it]"
     ]
    },
    {
     "name": "stdout",
     "output_type": "stream",
     "text": [
      "Test Accuracy: 0.902482269503546\n"
     ]
    },
    {
     "name": "stderr",
     "output_type": "stream",
     "text": [
      " 78%|███████▊  | 584/750 [17:13<01:52,  1.48it/s]"
     ]
    },
    {
     "name": "stdout",
     "output_type": "stream",
     "text": [
      "Validation Accuracy: 0.8987145390070922\n"
     ]
    },
    {
     "name": "stderr",
     "output_type": "stream",
     "text": [
      "\r",
      " 78%|███████▊  | 585/750 [17:26<11:16,  4.10s/it]"
     ]
    },
    {
     "name": "stdout",
     "output_type": "stream",
     "text": [
      "Test Accuracy: 0.9040336879432624\n"
     ]
    },
    {
     "name": "stderr",
     "output_type": "stream",
     "text": [
      " 79%|███████▉  | 592/750 [17:27<01:44,  1.50it/s]"
     ]
    },
    {
     "name": "stdout",
     "output_type": "stream",
     "text": [
      "Validation Accuracy: 0.8902925531914894\n"
     ]
    },
    {
     "name": "stderr",
     "output_type": "stream",
     "text": [
      "\r",
      " 79%|███████▉  | 593/750 [17:39<10:35,  4.04s/it]"
     ]
    },
    {
     "name": "stdout",
     "output_type": "stream",
     "text": [
      "Test Accuracy: 0.8958333333333333\n"
     ]
    },
    {
     "name": "stderr",
     "output_type": "stream",
     "text": [
      " 80%|████████  | 600/750 [17:40<01:38,  1.52it/s]"
     ]
    },
    {
     "name": "stdout",
     "output_type": "stream",
     "text": [
      "Validation Accuracy: 0.8953900709219859\n"
     ]
    },
    {
     "name": "stderr",
     "output_type": "stream",
     "text": [
      "\r",
      " 80%|████████  | 601/750 [17:52<10:04,  4.06s/it]"
     ]
    },
    {
     "name": "stdout",
     "output_type": "stream",
     "text": [
      "Test Accuracy: 0.9022606382978723\n"
     ]
    },
    {
     "name": "stderr",
     "output_type": "stream",
     "text": [
      " 81%|████████  | 608/750 [17:54<01:34,  1.51it/s]"
     ]
    },
    {
     "name": "stdout",
     "output_type": "stream",
     "text": [
      "Validation Accuracy: 0.8907358156028369\n"
     ]
    },
    {
     "name": "stderr",
     "output_type": "stream",
     "text": [
      "\r",
      " 81%|████████  | 609/750 [18:06<09:34,  4.07s/it]"
     ]
    },
    {
     "name": "stdout",
     "output_type": "stream",
     "text": [
      "Test Accuracy: 0.8907358156028369\n"
     ]
    },
    {
     "name": "stderr",
     "output_type": "stream",
     "text": [
      " 82%|████████▏ | 616/750 [18:07<01:28,  1.51it/s]"
     ]
    },
    {
     "name": "stdout",
     "output_type": "stream",
     "text": [
      "Validation Accuracy: 0.8956117021276596\n"
     ]
    },
    {
     "name": "stderr",
     "output_type": "stream",
     "text": [
      "\r",
      " 82%|████████▏ | 617/750 [18:19<09:02,  4.08s/it]"
     ]
    },
    {
     "name": "stdout",
     "output_type": "stream",
     "text": [
      "Test Accuracy: 0.8900709219858156\n"
     ]
    },
    {
     "name": "stderr",
     "output_type": "stream",
     "text": [
      " 83%|████████▎ | 624/750 [18:20<01:23,  1.51it/s]"
     ]
    },
    {
     "name": "stdout",
     "output_type": "stream",
     "text": [
      "Validation Accuracy: 0.8976063829787234\n"
     ]
    },
    {
     "name": "stderr",
     "output_type": "stream",
     "text": [
      "\r",
      " 83%|████████▎ | 625/750 [18:32<08:31,  4.09s/it]"
     ]
    },
    {
     "name": "stdout",
     "output_type": "stream",
     "text": [
      "Test Accuracy: 0.8856382978723404\n"
     ]
    },
    {
     "name": "stderr",
     "output_type": "stream",
     "text": [
      " 84%|████████▍ | 632/750 [18:34<01:18,  1.50it/s]"
     ]
    },
    {
     "name": "stdout",
     "output_type": "stream",
     "text": [
      "Validation Accuracy: 0.898936170212766\n"
     ]
    },
    {
     "name": "stderr",
     "output_type": "stream",
     "text": [
      "\r",
      " 84%|████████▍ | 633/750 [18:46<08:05,  4.15s/it]"
     ]
    },
    {
     "name": "stdout",
     "output_type": "stream",
     "text": [
      "Test Accuracy: 0.8902925531914894\n"
     ]
    },
    {
     "name": "stderr",
     "output_type": "stream",
     "text": [
      " 85%|████████▌ | 640/750 [18:47<01:14,  1.47it/s]"
     ]
    },
    {
     "name": "stdout",
     "output_type": "stream",
     "text": [
      "Validation Accuracy: 0.8914007092198583\n"
     ]
    },
    {
     "name": "stderr",
     "output_type": "stream",
     "text": [
      "\r",
      " 85%|████████▌ | 641/750 [19:00<07:30,  4.13s/it]"
     ]
    },
    {
     "name": "stdout",
     "output_type": "stream",
     "text": [
      "Test Accuracy: 0.9069148936170213\n"
     ]
    },
    {
     "name": "stderr",
     "output_type": "stream",
     "text": [
      " 86%|████████▋ | 648/750 [19:01<01:08,  1.49it/s]"
     ]
    },
    {
     "name": "stdout",
     "output_type": "stream",
     "text": [
      "Validation Accuracy: 0.8973847517730497\n"
     ]
    },
    {
     "name": "stderr",
     "output_type": "stream",
     "text": [
      "\r",
      " 87%|████████▋ | 649/750 [19:13<06:59,  4.15s/it]"
     ]
    },
    {
     "name": "stdout",
     "output_type": "stream",
     "text": [
      "Test Accuracy: 0.9128989361702128\n"
     ]
    },
    {
     "name": "stderr",
     "output_type": "stream",
     "text": [
      " 87%|████████▋ | 656/750 [19:15<01:05,  1.44it/s]"
     ]
    },
    {
     "name": "stdout",
     "output_type": "stream",
     "text": [
      "Validation Accuracy: 0.8967198581560284\n"
     ]
    },
    {
     "name": "stderr",
     "output_type": "stream",
     "text": [
      "\r",
      " 88%|████████▊ | 657/750 [19:27<06:24,  4.13s/it]"
     ]
    },
    {
     "name": "stdout",
     "output_type": "stream",
     "text": [
      "Test Accuracy: 0.8847517730496455\n"
     ]
    },
    {
     "name": "stderr",
     "output_type": "stream",
     "text": [
      " 89%|████████▊ | 664/750 [19:28<00:58,  1.48it/s]"
     ]
    },
    {
     "name": "stdout",
     "output_type": "stream",
     "text": [
      "Validation Accuracy: 0.9000443262411348\n"
     ]
    },
    {
     "name": "stderr",
     "output_type": "stream",
     "text": [
      "\r",
      " 89%|████████▊ | 665/750 [19:40<05:48,  4.10s/it]"
     ]
    },
    {
     "name": "stdout",
     "output_type": "stream",
     "text": [
      "Test Accuracy: 0.8956117021276596\n"
     ]
    },
    {
     "name": "stderr",
     "output_type": "stream",
     "text": [
      " 90%|████████▉ | 672/750 [19:42<00:52,  1.50it/s]"
     ]
    },
    {
     "name": "stdout",
     "output_type": "stream",
     "text": [
      "Validation Accuracy: 0.8993794326241136\n"
     ]
    },
    {
     "name": "stderr",
     "output_type": "stream",
     "text": [
      "\r",
      " 90%|████████▉ | 673/750 [19:54<05:12,  4.06s/it]"
     ]
    },
    {
     "name": "stdout",
     "output_type": "stream",
     "text": [
      "Test Accuracy: 0.8933953900709221\n"
     ]
    },
    {
     "name": "stderr",
     "output_type": "stream",
     "text": [
      " 91%|█████████ | 680/750 [19:55<00:46,  1.52it/s]"
     ]
    },
    {
     "name": "stdout",
     "output_type": "stream",
     "text": [
      "Validation Accuracy: 0.8967198581560284\n"
     ]
    },
    {
     "name": "stderr",
     "output_type": "stream",
     "text": [
      "\r",
      " 91%|█████████ | 681/750 [20:07<04:37,  4.03s/it]"
     ]
    },
    {
     "name": "stdout",
     "output_type": "stream",
     "text": [
      "Test Accuracy: 0.8956117021276596\n"
     ]
    },
    {
     "name": "stderr",
     "output_type": "stream",
     "text": [
      " 92%|█████████▏| 688/750 [20:08<00:40,  1.53it/s]"
     ]
    },
    {
     "name": "stdout",
     "output_type": "stream",
     "text": [
      "Validation Accuracy: 0.9009308510638298\n"
     ]
    },
    {
     "name": "stderr",
     "output_type": "stream",
     "text": [
      "\r",
      " 92%|█████████▏| 689/750 [20:20<04:08,  4.08s/it]"
     ]
    },
    {
     "name": "stdout",
     "output_type": "stream",
     "text": [
      "Test Accuracy: 0.899822695035461\n"
     ]
    },
    {
     "name": "stderr",
     "output_type": "stream",
     "text": [
      " 93%|█████████▎| 696/750 [20:22<00:35,  1.50it/s]"
     ]
    },
    {
     "name": "stdout",
     "output_type": "stream",
     "text": [
      "Validation Accuracy: 0.9000443262411348\n"
     ]
    },
    {
     "name": "stderr",
     "output_type": "stream",
     "text": [
      "\r",
      " 93%|█████████▎| 697/750 [20:34<03:36,  4.09s/it]"
     ]
    },
    {
     "name": "stdout",
     "output_type": "stream",
     "text": [
      "Test Accuracy: 0.9007092198581561\n"
     ]
    },
    {
     "name": "stderr",
     "output_type": "stream",
     "text": [
      " 94%|█████████▍| 704/750 [20:35<00:30,  1.51it/s]"
     ]
    },
    {
     "name": "stdout",
     "output_type": "stream",
     "text": [
      "Validation Accuracy: 0.8962765957446809\n"
     ]
    },
    {
     "name": "stderr",
     "output_type": "stream",
     "text": [
      "\r",
      " 94%|█████████▍| 705/750 [20:47<03:03,  4.07s/it]"
     ]
    },
    {
     "name": "stdout",
     "output_type": "stream",
     "text": [
      "Test Accuracy: 0.8993794326241136\n"
     ]
    },
    {
     "name": "stderr",
     "output_type": "stream",
     "text": [
      " 95%|█████████▍| 712/750 [20:49<00:25,  1.51it/s]"
     ]
    },
    {
     "name": "stdout",
     "output_type": "stream",
     "text": [
      "Validation Accuracy: 0.898936170212766\n"
     ]
    },
    {
     "name": "stderr",
     "output_type": "stream",
     "text": [
      "\r",
      " 95%|█████████▌| 713/750 [21:01<02:30,  4.07s/it]"
     ]
    },
    {
     "name": "stdout",
     "output_type": "stream",
     "text": [
      "Test Accuracy: 0.9007092198581561\n"
     ]
    },
    {
     "name": "stderr",
     "output_type": "stream",
     "text": [
      " 96%|█████████▌| 720/750 [21:02<00:20,  1.50it/s]"
     ]
    },
    {
     "name": "stdout",
     "output_type": "stream",
     "text": [
      "Validation Accuracy: 0.8876329787234043\n"
     ]
    },
    {
     "name": "stderr",
     "output_type": "stream",
     "text": [
      "\r",
      " 96%|█████████▌| 721/750 [21:14<01:57,  4.05s/it]"
     ]
    },
    {
     "name": "stdout",
     "output_type": "stream",
     "text": [
      "Test Accuracy: 0.8936170212765957\n"
     ]
    },
    {
     "name": "stderr",
     "output_type": "stream",
     "text": [
      " 97%|█████████▋| 728/750 [21:15<00:14,  1.52it/s]"
     ]
    },
    {
     "name": "stdout",
     "output_type": "stream",
     "text": [
      "Validation Accuracy: 0.8894060283687943\n"
     ]
    },
    {
     "name": "stderr",
     "output_type": "stream",
     "text": [
      "\r",
      " 97%|█████████▋| 729/750 [21:27<01:24,  4.04s/it]"
     ]
    },
    {
     "name": "stdout",
     "output_type": "stream",
     "text": [
      "Test Accuracy: 0.8914007092198583\n"
     ]
    },
    {
     "name": "stderr",
     "output_type": "stream",
     "text": [
      " 98%|█████████▊| 736/750 [21:28<00:09,  1.53it/s]"
     ]
    },
    {
     "name": "stdout",
     "output_type": "stream",
     "text": [
      "Validation Accuracy: 0.8905141843971631\n"
     ]
    },
    {
     "name": "stderr",
     "output_type": "stream",
     "text": [
      "\r",
      " 98%|█████████▊| 737/750 [21:40<00:52,  4.04s/it]"
     ]
    },
    {
     "name": "stdout",
     "output_type": "stream",
     "text": [
      "Test Accuracy: 0.8914007092198583\n"
     ]
    },
    {
     "name": "stderr",
     "output_type": "stream",
     "text": [
      " 99%|█████████▉| 744/750 [21:42<00:03,  1.52it/s]"
     ]
    },
    {
     "name": "stdout",
     "output_type": "stream",
     "text": [
      "Validation Accuracy: 0.8909574468085106\n"
     ]
    },
    {
     "name": "stderr",
     "output_type": "stream",
     "text": [
      "\r",
      " 99%|█████████▉| 745/750 [21:54<00:20,  4.08s/it]"
     ]
    },
    {
     "name": "stdout",
     "output_type": "stream",
     "text": [
      "Test Accuracy: 0.8949468085106383\n"
     ]
    },
    {
     "name": "stderr",
     "output_type": "stream",
     "text": [
      "100%|██████████| 750/750 [21:55<00:00,  1.75s/it]\n",
      "  2%|▏         | 2/94 [00:00<00:06, 14.64it/s]"
     ]
    },
    {
     "name": "stdout",
     "output_type": "stream",
     "text": [
      "-----Testing-----\n"
     ]
    },
    {
     "name": "stderr",
     "output_type": "stream",
     "text": [
      "100%|██████████| 94/94 [00:05<00:00, 16.08it/s]\n"
     ]
    },
    {
     "name": "stdout",
     "output_type": "stream",
     "text": [
      "Classify Completed\n"
     ]
    },
    {
     "data": {
      "image/png": "[encoded data removed]",
      "text/plain": [
       "<Figure size 1440x360 with 1 Axes>"
      ]
     },
     "metadata": {
      "needs_background": "light"
     },
     "output_type": "display_data"
    },
    {
     "data": {
      "image/png": "[encoded data removed]",
      "text/plain": [
       "<Figure size 2160x360 with 1 Axes>"
      ]
     },
     "metadata": {
      "needs_background": "light"
     },
     "output_type": "display_data"
    }
   ],
   "source": [
    "#train the bert classify model\n",
    "if __name__ == '__main__':\n",
    "    set_seed(0)  # Set all seeds to make results reproducible\n",
    "\n",
    "    data_df = process_data(r'data\\train.csv', classes2idx, True)\n",
    "\n",
    "    train_df, val_df, test_df = train_test_split(data_df,valid_size=0.1, test_size=0.1, shuffle=True, random_state=1)\n",
    "    #train_df, val_df, test_df = train_test_split(data_df,valid_size=0.2, test_size=0.2, shuffle=True)\n",
    "    test_df.to_csv(r\"data\\test.csv\", index=False, encoding='utf-8-sig')\n",
    "    Loss_list = []\n",
    "    times = []\n",
    "    Accuracy_list = []\n",
    "    Train_list = []\n",
    "    Test_list = []\n",
    "    print(\"Reading training data...\")\n",
    "    train_set = CustomDataset(train_df, maxlen=30, model_name=model_name)\n",
    "    train_loader = Data.DataLoader(train_set, batch_size=batch_size, num_workers=0, shuffle=True)\n",
    "\n",
    "    print(\"Reading validation data...\")\n",
    "    val_set = CustomDataset(val_df, maxlen=30, model_name=model_name)\n",
    "    val_loader = Data.DataLoader(val_set, batch_size=batch_size, num_workers=0, shuffle=True)\n",
    "    \n",
    "    print(\"Reading test data...\")\n",
    "    test_set = CustomDataset(test_df, maxlen=30, model_name=model_name)\n",
    "    test_loader = Data.DataLoader(test_set, batch_size=batch_size, num_workers=0, shuffle=True)\n",
    "\n",
    "\n",
    "    \n",
    "    model = MyModel(freeze_bert=False, model_name=model_name, hidden_size=768, num_classes=len(classes2idx))\n",
    "    criterion = nn.CrossEntropyLoss()\n",
    "    optimizer = AdamW(model.parameters(), lr=1e-5, weight_decay=5e-2)\n",
    "    torch.save({\n",
    "        'model_state_dict': model.state_dict(),\n",
    "        'optimizer_state_dict': optimizer.state_dict()\n",
    "    }, output_model)\n",
    "    print(\"save the first model\")\n",
    "    train_eval(model, criterion, optimizer, train_loader, val_loader, test_loader, epochs=3)\n",
    "    test_data = r'data\\test.csv'\n",
    "    test_df = process_data(test_data, classes2idx, False)\n",
    "    test_set = CustomDataset(test_df, maxlen=30, with_labels=False, model_name=model_name)\n",
    "    classify_loader = Data.DataLoader(test_set, batch_size=batch_size, num_workers=0, shuffle=False)\n",
    "    test(model, classify_loader, with_labels=False)\n",
    "    \n",
    "    \n",
    "    plt.figure(figsize=(20, 5))\n",
    "    plt.grid(linestyle=\"--\")\n",
    "    plt.plot(Accuracy_list,\"r\")\n",
    "    plt.plot(Test_list,\"blue\")\n",
    "    plt.show()\n",
    "    plt.figure(figsize=(30, 5))\n",
    "    plt.plot(Loss_list)\n",
    "    plt.show()\n",
    "    \n",
    "    #classify the stock comments\n",
    "    #classify_data = r'data\\2021stockcomment.csv'\n",
    "    #classify_df = process_data(classify_data, classes2idx, False)\n",
    "    #classify_set = CustomDataset(classify_df, maxlen=30, with_labels=False, model_name=model_name)\n",
    "    #classify_loader = Data.DataLoader(classify_set, batch_size=batch_size, num_workers=0, shuffle=False)\n",
    "    #classify(model, classify_loader, with_labels=False)\n",
    "    #print('classify the stock comments')\n",
    "\n",
    "    \n",
    "    #countdata()"
   ]
  },
  {
   "cell_type": "code",
   "execution_count": 18,
   "metadata": {},
   "outputs": [
    {
     "data": {
      "text/plain": [
       "[0.31183510638297873,\n",
       " 0.504654255319149,\n",
       " 0.5139627659574468,\n",
       " 0.5070921985815603,\n",
       " 0.5356826241134751,\n",
       " 0.6128102836879432,\n",
       " 0.6110372340425532,\n",
       " 0.6265514184397163,\n",
       " 0.6300975177304964,\n",
       " 0.6376329787234043,\n",
       " 0.699468085106383,\n",
       " 0.7169769503546098,\n",
       " 0.7005762411347518,\n",
       " 0.742686170212766,\n",
       " 0.7369237588652482,\n",
       " 0.7506648936170213,\n",
       " 0.7393617021276596,\n",
       " 0.7728280141843971,\n",
       " 0.7865691489361702,\n",
       " 0.7918882978723404,\n",
       " 0.8027482269503545,\n",
       " 0.785904255319149,\n",
       " 0.8209219858156029,\n",
       " 0.819813829787234,\n",
       " 0.807845744680851,\n",
       " 0.8151595744680851,\n",
       " 0.8246897163120567,\n",
       " 0.8266843971631205,\n",
       " 0.8246897163120567,\n",
       " 0.8337765957446809,\n",
       " 0.8293439716312057,\n",
       " 0.8255762411347518,\n",
       " 0.8421985815602837,\n",
       " 0.8262411347517731,\n",
       " 0.851063829787234,\n",
       " 0.8506205673758864,\n",
       " 0.832668439716312,\n",
       " 0.839982269503546,\n",
       " 0.8479609929078014,\n",
       " 0.8537234042553191,\n",
       " 0.8526152482269503,\n",
       " 0.8563829787234043,\n",
       " 0.8535017730496455,\n",
       " 0.8537234042553191,\n",
       " 0.870345744680851,\n",
       " 0.8714539007092199,\n",
       " 0.8732269503546098,\n",
       " 0.8654698581560284,\n",
       " 0.8772163120567376,\n",
       " 0.8707890070921986,\n",
       " 0.875,\n",
       " 0.874113475177305,\n",
       " 0.8730053191489362,\n",
       " 0.8696808510638298,\n",
       " 0.8643617021276596,\n",
       " 0.8807624113475178,\n",
       " 0.847517730496454,\n",
       " 0.875,\n",
       " 0.868572695035461,\n",
       " 0.8805407801418439,\n",
       " 0.8820921985815603,\n",
       " 0.8845301418439716,\n",
       " 0.8856382978723404,\n",
       " 0.8579343971631205,\n",
       " 0.8794326241134752,\n",
       " 0.8803191489361702,\n",
       " 0.881427304964539,\n",
       " 0.8896276595744681,\n",
       " 0.875,\n",
       " 0.8721187943262412,\n",
       " 0.8807624113475178,\n",
       " 0.8800975177304965,\n",
       " 0.8623670212765957,\n",
       " 0.8785460992907801,\n",
       " 0.8845301418439716,\n",
       " 0.8871897163120567,\n",
       " 0.8772163120567376,\n",
       " 0.8772163120567376,\n",
       " 0.863918439716312,\n",
       " 0.8836436170212766,\n",
       " 0.8754432624113476,\n",
       " 0.8812056737588652,\n",
       " 0.8687943262411348,\n",
       " 0.8854166666666667,\n",
       " 0.8832003546099291,\n",
       " 0.8882978723404256,\n",
       " 0.8898492907801417,\n",
       " 0.8867464539007093,\n",
       " 0.8880762411347518,\n",
       " 0.8812056737588652,\n",
       " 0.8871897163120567,\n",
       " 0.8732269503546098,\n",
       " 0.8914007092198583,\n",
       " 0.8730053191489362,\n",
       " 0.8623670212765957,\n",
       " 0.8880762411347518,\n",
       " 0.8694592198581561,\n",
       " 0.8909574468085106,\n",
       " 0.8882978723404256,\n",
       " 0.8818705673758864,\n",
       " 0.8867464539007093,\n",
       " 0.8911790780141844,\n",
       " 0.886081560283688,\n",
       " 0.8840868794326242,\n",
       " 0.8867464539007093,\n",
       " 0.8827570921985816,\n",
       " 0.8874113475177305,\n",
       " 0.8854166666666667,\n",
       " 0.8794326241134752,\n",
       " 0.8785460992907801,\n",
       " 0.8803191489361702,\n",
       " 0.8863031914893617,\n",
       " 0.8909574468085106,\n",
       " 0.8800975177304965,\n",
       " 0.8829787234042553,\n",
       " 0.8809840425531915,\n",
       " 0.8876329787234043,\n",
       " 0.894281914893617,\n",
       " 0.8918439716312057,\n",
       " 0.8891843971631205,\n",
       " 0.8927304964539008,\n",
       " 0.8927304964539008,\n",
       " 0.8936170212765957,\n",
       " 0.8871897163120567,\n",
       " 0.8878546099290779,\n",
       " 0.8900709219858156,\n",
       " 0.8847517730496455,\n",
       " 0.8840868794326242,\n",
       " 0.8905141843971631,\n",
       " 0.8825354609929078,\n",
       " 0.8718971631205673,\n",
       " 0.8851950354609929,\n",
       " 0.8832003546099291,\n",
       " 0.8871897163120567,\n",
       " 0.8940602836879433,\n",
       " 0.8889627659574468,\n",
       " 0.8851950354609929,\n",
       " 0.8659131205673758,\n",
       " 0.8902925531914894,\n",
       " 0.8880762411347518,\n",
       " 0.882313829787234,\n",
       " 0.8820921985815603,\n",
       " 0.8927304964539008,\n",
       " 0.8845301418439716,\n",
       " 0.8947251773049646,\n",
       " 0.899822695035461,\n",
       " 0.8710106382978723,\n",
       " 0.8947251773049646,\n",
       " 0.8925088652482269,\n",
       " 0.8840868794326242,\n",
       " 0.8805407801418439,\n",
       " 0.879654255319149,\n",
       " 0.8867464539007093,\n",
       " 0.8840868794326242,\n",
       " 0.8925088652482269,\n",
       " 0.8776595744680851,\n",
       " 0.8865248226950354,\n",
       " 0.8898492907801417,\n",
       " 0.8882978723404256,\n",
       " 0.8856382978723404,\n",
       " 0.8918439716312057,\n",
       " 0.8889627659574468,\n",
       " 0.8909574468085106,\n",
       " 0.8987145390070922,\n",
       " 0.894281914893617,\n",
       " 0.8945035460992907,\n",
       " 0.8874113475177305,\n",
       " 0.8905141843971631,\n",
       " 0.8907358156028369,\n",
       " 0.8849734042553191,\n",
       " 0.8891843971631205,\n",
       " 0.8614804964539008,\n",
       " 0.8936170212765957,\n",
       " 0.8909574468085106,\n",
       " 0.8927304964539008,\n",
       " 0.8918439716312057,\n",
       " 0.8827570921985816,\n",
       " 0.882313829787234,\n",
       " 0.8880762411347518,\n",
       " 0.9002659574468085,\n",
       " 0.8982712765957447,\n",
       " 0.8829787234042553,\n",
       " 0.8933953900709221,\n",
       " 0.8894060283687943,\n",
       " 0.8891843971631205,\n",
       " 0.8889627659574468,\n",
       " 0.8907358156028369,\n",
       " 0.8885195035460992,\n",
       " 0.8898492907801417,\n",
       " 0.8894060283687943,\n",
       " 0.8880762411347518,\n",
       " 0.8905141843971631,\n",
       " 0.8887411347517731,\n",
       " 0.8933953900709221,\n",
       " 0.8967198581560284,\n",
       " 0.9018173758865248,\n",
       " 0.9020390070921986,\n",
       " 0.9000443262411348,\n",
       " 0.8967198581560284,\n",
       " 0.894281914893617,\n",
       " 0.9011524822695035,\n",
       " 0.9038120567375886,\n",
       " 0.9049202127659575,\n",
       " 0.9042553191489362,\n",
       " 0.9022606382978723,\n",
       " 0.9004875886524822,\n",
       " 0.8969414893617021,\n",
       " 0.8973847517730497,\n",
       " 0.9035904255319149,\n",
       " 0.9027039007092199,\n",
       " 0.8987145390070922,\n",
       " 0.8984929078014184,\n",
       " 0.8980496453900709,\n",
       " 0.9013741134751774,\n",
       " 0.9002659574468085,\n",
       " 0.899822695035461,\n",
       " 0.8953900709219859,\n",
       " 0.8964982269503545,\n",
       " 0.8940602836879433,\n",
       " 0.8922872340425532,\n",
       " 0.8931737588652482,\n",
       " 0.8962765957446809,\n",
       " 0.8914007092198583,\n",
       " 0.8889627659574468,\n",
       " 0.899822695035461,\n",
       " 0.8927304964539008,\n",
       " 0.894281914893617,\n",
       " 0.8916223404255319,\n",
       " 0.8929521276595744,\n",
       " 0.9000443262411348,\n",
       " 0.8962765957446809,\n",
       " 0.8925088652482269,\n",
       " 0.8918439716312057,\n",
       " 0.8916223404255319,\n",
       " 0.8889627659574468,\n",
       " 0.8900709219858156,\n",
       " 0.8980496453900709,\n",
       " 0.8854166666666667,\n",
       " 0.8940602836879433,\n",
       " 0.8980496453900709,\n",
       " 0.8969414893617021,\n",
       " 0.8940602836879433,\n",
       " 0.8967198581560284,\n",
       " 0.8914007092198583,\n",
       " 0.895168439716312,\n",
       " 0.8945035460992907,\n",
       " 0.8880762411347518,\n",
       " 0.8909574468085106,\n",
       " 0.8973847517730497,\n",
       " 0.8878546099290779,\n",
       " 0.8916223404255319,\n",
       " 0.8902925531914894,\n",
       " 0.8940602836879433,\n",
       " 0.8969414893617021,\n",
       " 0.8967198581560284,\n",
       " 0.8854166666666667,\n",
       " 0.8772163120567376,\n",
       " 0.8874113475177305,\n",
       " 0.8774379432624114,\n",
       " 0.8894060283687943,\n",
       " 0.8976063829787234,\n",
       " 0.8987145390070922,\n",
       " 0.8902925531914894,\n",
       " 0.8953900709219859,\n",
       " 0.8907358156028369,\n",
       " 0.8956117021276596,\n",
       " 0.8976063829787234,\n",
       " 0.898936170212766,\n",
       " 0.8914007092198583,\n",
       " 0.8973847517730497,\n",
       " 0.8967198581560284,\n",
       " 0.9000443262411348,\n",
       " 0.8993794326241136,\n",
       " 0.8967198581560284,\n",
       " 0.9009308510638298,\n",
       " 0.9000443262411348,\n",
       " 0.8962765957446809,\n",
       " 0.898936170212766,\n",
       " 0.8876329787234043,\n",
       " 0.8894060283687943,\n",
       " 0.8905141843971631,\n",
       " 0.8909574468085106]"
      ]
     },
     "execution_count": 18,
     "metadata": {},
     "output_type": "execute_result"
    }
   ],
   "source": [
    "Accuracy_list"
   ]
  },
  {
   "cell_type": "code",
   "execution_count": 17,
   "metadata": {},
   "outputs": [
    {
     "name": "stdout",
     "output_type": "stream",
     "text": [
      "-----count data-----\n"
     ]
    },
    {
     "name": "stderr",
     "output_type": "stream",
     "text": [
      "100%|██████████| 13920/13920 [02:26<00:00, 95.03it/s]\n"
     ]
    }
   ],
   "source": [
    "countdata()"
   ]
  },
  {
   "cell_type": "code",
   "execution_count": 19,
   "metadata": {},
   "outputs": [
    {
     "data": {
      "text/plain": [
       "[0.3184840425531915,\n",
       " 0.46232269503546103,\n",
       " 0.47052304964539005,\n",
       " 0.46165780141843976,\n",
       " 0.49357269503546103,\n",
       " 0.5822251773049645,\n",
       " 0.5859929078014184,\n",
       " 0.599290780141844,\n",
       " 0.6136968085106383,\n",
       " 0.6256648936170213,\n",
       " 0.6839539007092199,\n",
       " 0.7005762411347518,\n",
       " 0.6819592198581561,\n",
       " 0.7287234042553191,\n",
       " 0.7136524822695035,\n",
       " 0.7229609929078014,\n",
       " 0.7156471631205673,\n",
       " 0.749113475177305,\n",
       " 0.7579787234042553,\n",
       " 0.7845744680851063,\n",
       " 0.7819148936170213,\n",
       " 0.7688386524822695,\n",
       " 0.7983156028368795,\n",
       " 0.7972074468085106,\n",
       " 0.7998670212765957,\n",
       " 0.7914450354609929,\n",
       " 0.8102836879432624,\n",
       " 0.8036347517730497,\n",
       " 0.8058510638297872,\n",
       " 0.8011968085106383,\n",
       " 0.8093971631205673,\n",
       " 0.7972074468085106,\n",
       " 0.8076241134751774,\n",
       " 0.8160460992907801,\n",
       " 0.8207003546099291,\n",
       " 0.8280141843971631,\n",
       " 0.8169326241134752,\n",
       " 0.8164893617021277,\n",
       " 0.8295656028368795,\n",
       " 0.8355496453900709,\n",
       " 0.8386524822695035,\n",
       " 0.8419769503546098,\n",
       " 0.8481826241134752,\n",
       " 0.8466312056737588,\n",
       " 0.8583776595744681,\n",
       " 0.8439716312056738,\n",
       " 0.8530585106382979,\n",
       " 0.8528368794326242,\n",
       " 0.8581560283687943,\n",
       " 0.8599290780141844,\n",
       " 0.8601507092198583,\n",
       " 0.8648049645390071,\n",
       " 0.8663563829787234,\n",
       " 0.8535017730496455,\n",
       " 0.8543882978723404,\n",
       " 0.8672429078014184,\n",
       " 0.8359929078014184,\n",
       " 0.8654698581560284,\n",
       " 0.8623670212765957,\n",
       " 0.8636968085106383,\n",
       " 0.8663563829787234,\n",
       " 0.868572695035461,\n",
       " 0.8727836879432624,\n",
       " 0.8495124113475178,\n",
       " 0.8641400709219859,\n",
       " 0.8597074468085106,\n",
       " 0.863918439716312,\n",
       " 0.8652482269503545,\n",
       " 0.8690159574468085,\n",
       " 0.863031914893617,\n",
       " 0.8756648936170213,\n",
       " 0.8714539007092199,\n",
       " 0.8470744680851063,\n",
       " 0.8707890070921986,\n",
       " 0.8807624113475178,\n",
       " 0.8694592198581561,\n",
       " 0.8574911347517731,\n",
       " 0.8781028368794327,\n",
       " 0.8643617021276596,\n",
       " 0.8718971631205673,\n",
       " 0.8648049645390071,\n",
       " 0.8699024822695035,\n",
       " 0.8732269503546098,\n",
       " 0.867686170212766,\n",
       " 0.867686170212766,\n",
       " 0.878767730496454,\n",
       " 0.8845301418439716,\n",
       " 0.8834219858156029,\n",
       " 0.8851950354609929,\n",
       " 0.8772163120567376,\n",
       " 0.881427304964539,\n",
       " 0.8656914893617021,\n",
       " 0.8900709219858156,\n",
       " 0.8667996453900709,\n",
       " 0.8521719858156029,\n",
       " 0.8947251773049646,\n",
       " 0.8845301418439716,\n",
       " 0.8922872340425532,\n",
       " 0.8896276595744681,\n",
       " 0.881427304964539,\n",
       " 0.8865248226950354,\n",
       " 0.8874113475177305,\n",
       " 0.8887411347517731,\n",
       " 0.8887411347517731,\n",
       " 0.8898492907801417,\n",
       " 0.8900709219858156,\n",
       " 0.8812056737588652,\n",
       " 0.8754432624113476,\n",
       " 0.8692375886524822,\n",
       " 0.875,\n",
       " 0.8832003546099291,\n",
       " 0.886081560283688,\n",
       " 0.8854166666666667,\n",
       " 0.8851950354609929,\n",
       " 0.8854166666666667,\n",
       " 0.870345744680851,\n",
       " 0.8838652482269503,\n",
       " 0.8914007092198583,\n",
       " 0.8898492907801417,\n",
       " 0.8836436170212766,\n",
       " 0.8945035460992907,\n",
       " 0.8907358156028369,\n",
       " 0.8940602836879433,\n",
       " 0.8887411347517731,\n",
       " 0.8838652482269503,\n",
       " 0.8854166666666667,\n",
       " 0.8887411347517731,\n",
       " 0.8882978723404256,\n",
       " 0.8916223404255319,\n",
       " 0.8916223404255319,\n",
       " 0.8710106382978723,\n",
       " 0.8843085106382979,\n",
       " 0.8871897163120567,\n",
       " 0.8927304964539008,\n",
       " 0.8918439716312057,\n",
       " 0.8809840425531915,\n",
       " 0.8774379432624114,\n",
       " 0.8818705673758864,\n",
       " 0.8885195035460992,\n",
       " 0.8805407801418439,\n",
       " 0.8894060283687943,\n",
       " 0.8909574468085106,\n",
       " 0.8894060283687943,\n",
       " 0.8794326241134752,\n",
       " 0.8871897163120567,\n",
       " 0.9007092198581561,\n",
       " 0.8723404255319149,\n",
       " 0.8996010638297872,\n",
       " 0.8973847517730497,\n",
       " 0.8964982269503545,\n",
       " 0.8914007092198583,\n",
       " 0.8854166666666667,\n",
       " 0.8929521276595744,\n",
       " 0.8920656028368795,\n",
       " 0.8900709219858156,\n",
       " 0.8683510638297872,\n",
       " 0.8789893617021277,\n",
       " 0.8820921985815603,\n",
       " 0.8805407801418439,\n",
       " 0.8847517730496455,\n",
       " 0.8827570921985816,\n",
       " 0.8778812056737588,\n",
       " 0.8902925531914894,\n",
       " 0.8947251773049646,\n",
       " 0.8902925531914894,\n",
       " 0.902482269503546,\n",
       " 0.8949468085106383,\n",
       " 0.8969414893617021,\n",
       " 0.9007092198581561,\n",
       " 0.8940602836879433,\n",
       " 0.8920656028368795,\n",
       " 0.8515070921985816,\n",
       " 0.9022606382978723,\n",
       " 0.8973847517730497,\n",
       " 0.894281914893617,\n",
       " 0.8947251773049646,\n",
       " 0.8878546099290779,\n",
       " 0.8867464539007093,\n",
       " 0.8962765957446809,\n",
       " 0.8916223404255319,\n",
       " 0.898936170212766,\n",
       " 0.8820921985815603,\n",
       " 0.8984929078014184,\n",
       " 0.8871897163120567,\n",
       " 0.8956117021276596,\n",
       " 0.8967198581560284,\n",
       " 0.8962765957446809,\n",
       " 0.8982712765957447,\n",
       " 0.8920656028368795,\n",
       " 0.8865248226950354,\n",
       " 0.8911790780141844,\n",
       " 0.8971631205673758,\n",
       " 0.8976063829787234,\n",
       " 0.9002659574468085,\n",
       " 0.905363475177305,\n",
       " 0.9060283687943262,\n",
       " 0.9040336879432624,\n",
       " 0.9055851063829787,\n",
       " 0.8982712765957447,\n",
       " 0.8956117021276596,\n",
       " 0.9013741134751774,\n",
       " 0.9075797872340425,\n",
       " 0.9029255319148937,\n",
       " 0.9040336879432624,\n",
       " 0.9046985815602837,\n",
       " 0.9042553191489362,\n",
       " 0.8953900709219859,\n",
       " 0.8971631205673758,\n",
       " 0.8978280141843971,\n",
       " 0.8953900709219859,\n",
       " 0.895168439716312,\n",
       " 0.8991578014184397,\n",
       " 0.8982712765957447,\n",
       " 0.8874113475177305,\n",
       " 0.886081560283688,\n",
       " 0.8889627659574468,\n",
       " 0.8980496453900709,\n",
       " 0.895168439716312,\n",
       " 0.8891843971631205,\n",
       " 0.8858599290780141,\n",
       " 0.8820921985815603,\n",
       " 0.8907358156028369,\n",
       " 0.8940602836879433,\n",
       " 0.8947251773049646,\n",
       " 0.8973847517730497,\n",
       " 0.894281914893617,\n",
       " 0.8918439716312057,\n",
       " 0.8911790780141844,\n",
       " 0.8929521276595744,\n",
       " 0.8993794326241136,\n",
       " 0.895168439716312,\n",
       " 0.8949468085106383,\n",
       " 0.8865248226950354,\n",
       " 0.8933953900709221,\n",
       " 0.8920656028368795,\n",
       " 0.8836436170212766,\n",
       " 0.8993794326241136,\n",
       " 0.8914007092198583,\n",
       " 0.8911790780141844,\n",
       " 0.8940602836879433,\n",
       " 0.8933953900709221,\n",
       " 0.8929521276595744,\n",
       " 0.8889627659574468,\n",
       " 0.8776595744680851,\n",
       " 0.8940602836879433,\n",
       " 0.8933953900709221,\n",
       " 0.8847517730496455,\n",
       " 0.8834219858156029,\n",
       " 0.8949468085106383,\n",
       " 0.879654255319149,\n",
       " 0.8889627659574468,\n",
       " 0.8958333333333333,\n",
       " 0.8969414893617021,\n",
       " 0.8980496453900709,\n",
       " 0.8949468085106383,\n",
       " 0.8876329787234043,\n",
       " 0.8827570921985816,\n",
       " 0.8956117021276596,\n",
       " 0.886081560283688,\n",
       " 0.902482269503546,\n",
       " 0.902482269503546,\n",
       " 0.9040336879432624,\n",
       " 0.8958333333333333,\n",
       " 0.9022606382978723,\n",
       " 0.8907358156028369,\n",
       " 0.8900709219858156,\n",
       " 0.8856382978723404,\n",
       " 0.8902925531914894,\n",
       " 0.9069148936170213,\n",
       " 0.9128989361702128,\n",
       " 0.8847517730496455,\n",
       " 0.8956117021276596,\n",
       " 0.8933953900709221,\n",
       " 0.8956117021276596,\n",
       " 0.899822695035461,\n",
       " 0.9007092198581561,\n",
       " 0.8993794326241136,\n",
       " 0.9007092198581561,\n",
       " 0.8936170212765957,\n",
       " 0.8914007092198583,\n",
       " 0.8914007092198583,\n",
       " 0.8949468085106383]"
      ]
     },
     "execution_count": 19,
     "metadata": {},
     "output_type": "execute_result"
    }
   ],
   "source": [
    "Test_list"
   ]
  },
  {
   "cell_type": "code",
   "execution_count": 20,
   "metadata": {},
   "outputs": [
    {
     "data": {
      "text/plain": [
       "[1.0636203289031982,\n",
       " 1.0317996740341187,\n",
       " 1.1703537702560425,\n",
       " 0.8714137673377991,\n",
       " 1.1506073474884033,\n",
       " 0.9923242330551147,\n",
       " 1.2135628461837769,\n",
       " 1.009335994720459,\n",
       " 1.0084776878356934,\n",
       " 1.2291784286499023,\n",
       " 1.1330312490463257,\n",
       " 1.016371726989746,\n",
       " 0.9869775772094727,\n",
       " 0.9525896310806274,\n",
       " 0.9395262002944946,\n",
       " 1.0840728282928467,\n",
       " 0.9641577005386353,\n",
       " 0.975031852722168,\n",
       " 0.9958768486976624,\n",
       " 0.8449284434318542,\n",
       " 1.0052484273910522,\n",
       " 1.1813251972198486,\n",
       " 0.9241194725036621,\n",
       " 0.8002673983573914,\n",
       " 0.9232612252235413,\n",
       " 1.1005926132202148,\n",
       " 0.8299338817596436,\n",
       " 1.1579121351242065,\n",
       " 0.8384549617767334,\n",
       " 1.063533067703247,\n",
       " 0.8635593056678772,\n",
       " 0.9271209836006165,\n",
       " 1.0546566247940063,\n",
       " 0.9326359629631042,\n",
       " 0.8616847395896912,\n",
       " 1.1750091314315796,\n",
       " 0.8540257215499878,\n",
       " 0.975138783454895,\n",
       " 0.9384380578994751,\n",
       " 1.005293369293213,\n",
       " 0.8825446963310242,\n",
       " 0.8834365606307983,\n",
       " 0.8652404546737671,\n",
       " 0.8542978763580322,\n",
       " 0.9265952706336975,\n",
       " 0.8223171830177307,\n",
       " 0.9529538750648499,\n",
       " 1.001109004020691,\n",
       " 0.8744044303894043,\n",
       " 0.792815089225769,\n",
       " 0.8361326456069946,\n",
       " 0.783257246017456,\n",
       " 0.8164380192756653,\n",
       " 0.8811902403831482,\n",
       " 0.8974993228912354,\n",
       " 1.2106963396072388,\n",
       " 0.7759130001068115,\n",
       " 0.9174642562866211,\n",
       " 0.7697224617004395,\n",
       " 0.8350598216056824,\n",
       " 0.8185509443283081,\n",
       " 0.817862868309021,\n",
       " 0.7614530920982361,\n",
       " 0.8516805768013,\n",
       " 0.884037971496582,\n",
       " 0.8750941753387451,\n",
       " 0.880358874797821,\n",
       " 0.6441594958305359,\n",
       " 0.6177675127983093,\n",
       " 0.6555376052856445,\n",
       " 0.5452315211296082,\n",
       " 0.7692010402679443,\n",
       " 0.6967503428459167,\n",
       " 1.0946946144104004,\n",
       " 0.7994692921638489,\n",
       " 0.8129192590713501,\n",
       " 0.6774271130561829,\n",
       " 0.6268967986106873,\n",
       " 0.6940362453460693,\n",
       " 0.8062126040458679,\n",
       " 0.8405669331550598,\n",
       " 0.9124820232391357,\n",
       " 1.1187806129455566,\n",
       " 0.7924070358276367,\n",
       " 0.8389186859130859,\n",
       " 0.8723117113113403,\n",
       " 1.001895785331726,\n",
       " 0.7610529661178589,\n",
       " 0.5582852363586426,\n",
       " 0.5815863609313965,\n",
       " 0.6860529780387878,\n",
       " 0.6945854425430298,\n",
       " 0.5096279978752136,\n",
       " 0.6146847605705261,\n",
       " 0.9463963508605957,\n",
       " 0.6824690103530884,\n",
       " 0.5472973585128784,\n",
       " 0.8124983906745911,\n",
       " 0.5659537315368652,\n",
       " 0.7702518701553345,\n",
       " 0.7502155303955078,\n",
       " 0.5177375078201294,\n",
       " 0.6545500159263611,\n",
       " 0.9631852507591248,\n",
       " 0.47640475630760193,\n",
       " 0.5706016421318054,\n",
       " 0.6549947261810303,\n",
       " 0.681399405002594,\n",
       " 0.7245133519172668,\n",
       " 0.6791959404945374,\n",
       " 0.42025867104530334,\n",
       " 0.47806882858276367,\n",
       " 0.9136624336242676,\n",
       " 0.4958893060684204,\n",
       " 0.49147099256515503,\n",
       " 0.5862009525299072,\n",
       " 0.5113224983215332,\n",
       " 0.6278787851333618,\n",
       " 0.7061648368835449,\n",
       " 0.5776718854904175,\n",
       " 0.6229144334793091,\n",
       " 0.6803334355354309,\n",
       " 0.6742844581604004,\n",
       " 0.6269758939743042,\n",
       " 0.4148985743522644,\n",
       " 0.5500510931015015,\n",
       " 0.636986255645752,\n",
       " 0.7592342495918274,\n",
       " 0.6588168144226074,\n",
       " 0.6459410786628723,\n",
       " 0.6544333696365356,\n",
       " 0.5384473204612732,\n",
       " 0.30135104060173035,\n",
       " 0.6084042191505432,\n",
       " 0.5760165452957153,\n",
       " 0.8143908977508545,\n",
       " 0.5314816832542419,\n",
       " 0.359138160943985,\n",
       " 0.30255794525146484,\n",
       " 0.5532532930374146,\n",
       " 0.8810439705848694,\n",
       " 0.4886742830276489,\n",
       " 0.563226044178009,\n",
       " 0.5853628516197205,\n",
       " 0.7696917057037354,\n",
       " 0.6124542355537415,\n",
       " 0.6262101531028748,\n",
       " 0.696162223815918,\n",
       " 0.544498085975647,\n",
       " 0.6170061826705933,\n",
       " 0.7181418538093567,\n",
       " 0.7881995439529419,\n",
       " 0.6996591687202454,\n",
       " 0.40241771936416626,\n",
       " 0.3973941206932068,\n",
       " 0.36365440487861633,\n",
       " 0.7737293839454651,\n",
       " 0.4515576660633087,\n",
       " 0.8820863962173462,\n",
       " 0.6500729918479919,\n",
       " 0.7054944038391113,\n",
       " 0.4551071524620056,\n",
       " 0.4210226535797119,\n",
       " 0.6369166374206543,\n",
       " 0.28862088918685913,\n",
       " 0.3850424587726593,\n",
       " 0.42894718050956726,\n",
       " 0.40264102816581726,\n",
       " 0.36656707525253296,\n",
       " 0.36610147356987,\n",
       " 0.6861110925674438,\n",
       " 0.5232926607131958,\n",
       " 0.5599295496940613,\n",
       " 0.8864055275917053,\n",
       " 0.3704915940761566,\n",
       " 0.38748887181282043,\n",
       " 0.4475269913673401,\n",
       " 0.404611736536026,\n",
       " 0.47336485981941223,\n",
       " 0.4407922625541687,\n",
       " 0.8208236694335938,\n",
       " 0.7586958408355713,\n",
       " 0.8846228718757629,\n",
       " 0.36995434761047363,\n",
       " 0.23688717186450958,\n",
       " 0.6692100167274475,\n",
       " 0.39457982778549194,\n",
       " 0.4101236164569855,\n",
       " 0.5507906079292297,\n",
       " 0.7237013578414917,\n",
       " 0.5958832502365112,\n",
       " 0.8330773711204529,\n",
       " 0.6666521430015564,\n",
       " 0.7538294792175293,\n",
       " 0.49319300055503845,\n",
       " 0.6954802870750427,\n",
       " 0.3871185779571533,\n",
       " 0.3011319637298584,\n",
       " 0.3194813132286072,\n",
       " 0.6396123766899109,\n",
       " 0.6543375849723816,\n",
       " 0.38631120324134827,\n",
       " 0.3576040267944336,\n",
       " 0.6633821129798889,\n",
       " 0.3553819954395294,\n",
       " 0.23986390233039856,\n",
       " 0.49446016550064087,\n",
       " 0.39261114597320557,\n",
       " 0.25339892506599426,\n",
       " 0.5027990341186523,\n",
       " 0.43569216132164,\n",
       " 0.7013447880744934,\n",
       " 0.4209553301334381,\n",
       " 0.5142495036125183,\n",
       " 0.1115155965089798,\n",
       " 0.47267886996269226,\n",
       " 0.3586674630641937,\n",
       " 0.4924044609069824,\n",
       " 0.23410460352897644,\n",
       " 0.7488179206848145,\n",
       " 0.5979308485984802,\n",
       " 0.4637722074985504,\n",
       " 0.8210815191268921,\n",
       " 0.4597296714782715,\n",
       " 0.22715143859386444,\n",
       " 0.4328553378582001,\n",
       " 0.4510197043418884,\n",
       " 0.5240681767463684,\n",
       " 0.4390859007835388,\n",
       " 0.579066812992096,\n",
       " 0.37801051139831543,\n",
       " 0.4148593842983246,\n",
       " 0.7128351926803589,\n",
       " 0.3672371506690979,\n",
       " 0.4414498507976532,\n",
       " 0.2719869315624237,\n",
       " 0.41507676243782043,\n",
       " 0.5102373361587524,\n",
       " 0.5142865777015686,\n",
       " 0.43470311164855957,\n",
       " 0.4374500811100006,\n",
       " 0.4319345951080322,\n",
       " 0.3780370354652405,\n",
       " 0.4821736812591553,\n",
       " 0.605728268623352,\n",
       " 0.3791893422603607,\n",
       " 0.4255175292491913,\n",
       " 0.2802866995334625,\n",
       " 0.14088074862957,\n",
       " 0.6867998838424683,\n",
       " 0.3702014982700348,\n",
       " 0.1683003008365631,\n",
       " 0.4945082664489746,\n",
       " 0.30366599559783936,\n",
       " 0.4599370062351227,\n",
       " 0.6413391828536987,\n",
       " 0.49458780884742737,\n",
       " 0.4108062982559204,\n",
       " 0.6203489899635315,\n",
       " 0.3004562556743622,\n",
       " 0.4936782419681549,\n",
       " 0.2553509473800659,\n",
       " 0.514445960521698,\n",
       " 0.7363311648368835,\n",
       " 0.47264719009399414,\n",
       " 0.6886551976203918,\n",
       " 0.11457473039627075,\n",
       " 0.3417997360229492,\n",
       " 0.3164445757865906,\n",
       " 0.30295848846435547,\n",
       " 0.28558656573295593,\n",
       " 0.201333150267601,\n",
       " 0.36680567264556885,\n",
       " 0.3121444582939148,\n",
       " 0.2745402753353119,\n",
       " 0.38041868805885315,\n",
       " 0.6957932114601135,\n",
       " 0.13112910091876984,\n",
       " 0.5907180309295654,\n",
       " 0.41656363010406494,\n",
       " 0.27000436186790466,\n",
       " 0.5956502556800842,\n",
       " 0.23358666896820068,\n",
       " 0.38419079780578613,\n",
       " 0.15597331523895264,\n",
       " 0.33388981223106384,\n",
       " 0.41836947202682495,\n",
       " 0.44031065702438354,\n",
       " 0.27474457025527954,\n",
       " 0.45168858766555786,\n",
       " 0.6832219958305359,\n",
       " 0.4337038993835449,\n",
       " 0.24812191724777222,\n",
       " 0.48015016317367554,\n",
       " 0.14208869636058807,\n",
       " 0.39471644163131714,\n",
       " 0.7395424246788025,\n",
       " 0.3858253061771393,\n",
       " 0.4929121136665344,\n",
       " 0.25583457946777344,\n",
       " 0.3286691904067993,\n",
       " 0.4485361576080322,\n",
       " 0.32052716612815857,\n",
       " 0.13946844637393951,\n",
       " 0.41614842414855957,\n",
       " 0.36627012491226196,\n",
       " 0.13833996653556824,\n",
       " 0.6512125730514526,\n",
       " 0.3811800479888916,\n",
       " 0.6225454211235046,\n",
       " 0.2966119945049286,\n",
       " 0.46416646242141724,\n",
       " 0.8515640497207642,\n",
       " 0.7959957122802734,\n",
       " 0.5606508851051331,\n",
       " 0.31285664439201355,\n",
       " 0.27962493896484375,\n",
       " 0.6353065967559814,\n",
       " 0.344926118850708,\n",
       " 0.39403456449508667,\n",
       " 0.6112135648727417,\n",
       " 0.4737972319126129,\n",
       " 0.26554304361343384,\n",
       " 0.39794573187828064,\n",
       " 0.5124385952949524,\n",
       " 0.44458088278770447,\n",
       " 0.2323857843875885,\n",
       " 0.38155198097229004,\n",
       " 0.23546291887760162,\n",
       " 0.3347927927970886,\n",
       " 0.4788376986980438,\n",
       " 0.4421815872192383,\n",
       " 0.21995511651039124,\n",
       " 0.5856727361679077,\n",
       " 0.6337932348251343,\n",
       " 0.3623085021972656,\n",
       " 0.48191338777542114,\n",
       " 0.40342238545417786,\n",
       " 0.3372197449207306,\n",
       " 0.4806165397167206,\n",
       " 0.3680398464202881,\n",
       " 0.3470558822154999,\n",
       " 0.22734448313713074,\n",
       " 0.24458742141723633,\n",
       " 0.4161226451396942,\n",
       " 0.3275569677352905,\n",
       " 0.458925724029541,\n",
       " 0.14710921049118042,\n",
       " 0.3312068581581116,\n",
       " 0.10404318571090698,\n",
       " 0.23697726428508759,\n",
       " 0.6482307314872742,\n",
       " 0.26583606004714966,\n",
       " 0.3547687232494354,\n",
       " 0.3061467111110687,\n",
       " 0.2709982693195343,\n",
       " 0.5918365120887756,\n",
       " 0.1761874109506607,\n",
       " 0.43943437933921814,\n",
       " 0.48111188411712646,\n",
       " 0.3320496082305908,\n",
       " 0.1889808475971222,\n",
       " 0.38433173298835754,\n",
       " 0.16922308504581451,\n",
       " 0.5581138134002686,\n",
       " 0.2168220728635788,\n",
       " 0.44145095348358154,\n",
       " 0.36836978793144226,\n",
       " 0.2388237863779068,\n",
       " 0.11899600923061371,\n",
       " 0.27595606446266174,\n",
       " 0.6670415997505188,\n",
       " 0.3521559536457062,\n",
       " 0.3182820677757263,\n",
       " 0.22876998782157898,\n",
       " 0.1504049152135849,\n",
       " 0.3158862590789795,\n",
       " 0.4851154088973999,\n",
       " 0.21121476590633392,\n",
       " 0.30293184518814087,\n",
       " 0.31781652569770813,\n",
       " 0.2995132803916931,\n",
       " 0.2579413652420044,\n",
       " 0.3252983093261719,\n",
       " 0.3912603259086609,\n",
       " 0.2418540120124817,\n",
       " 0.28407034277915955,\n",
       " 0.14108599722385406,\n",
       " 0.233799546957016,\n",
       " 0.23425407707691193,\n",
       " 0.5916174650192261,\n",
       " 0.1822345107793808,\n",
       " 0.3579241633415222,\n",
       " 0.7665364742279053,\n",
       " 0.5190666913986206,\n",
       " 0.611413300037384,\n",
       " 0.2238112986087799,\n",
       " 0.31799304485321045,\n",
       " 0.3515736758708954,\n",
       " 0.30995699763298035,\n",
       " 0.22071118652820587,\n",
       " 0.14056584239006042,\n",
       " 0.2587336003780365,\n",
       " 0.10489298403263092,\n",
       " 0.2904181480407715,\n",
       " 0.6080597043037415,\n",
       " 0.06408096104860306,\n",
       " 0.23928259313106537,\n",
       " 0.6412152051925659,\n",
       " 0.43121612071990967,\n",
       " 0.2812616527080536,\n",
       " 0.33531004190444946,\n",
       " 0.5205554962158203,\n",
       " 0.5364539623260498,\n",
       " 0.8059771656990051,\n",
       " 0.10762237012386322,\n",
       " 0.31857335567474365,\n",
       " 0.45443472266197205,\n",
       " 0.5395327210426331,\n",
       " 0.5024503469467163,\n",
       " 0.15902456641197205,\n",
       " 0.5070961713790894,\n",
       " 0.4347226023674011,\n",
       " 0.2859748899936676,\n",
       " 0.5018793940544128,\n",
       " 0.42463839054107666,\n",
       " 0.14268377423286438,\n",
       " 0.5133488178253174,\n",
       " 0.2546009123325348,\n",
       " 0.26845765113830566,\n",
       " 0.4577715992927551,\n",
       " 0.3941050171852112,\n",
       " 0.3133482336997986,\n",
       " 0.3415643274784088,\n",
       " 0.11279278248548508,\n",
       " 0.6659678220748901,\n",
       " 0.1427425891160965,\n",
       " 0.4201180636882782,\n",
       " 0.6676157712936401,\n",
       " 0.20289424061775208,\n",
       " 0.09365452826023102,\n",
       " 0.5295981764793396,\n",
       " 0.3781062960624695,\n",
       " 0.6025882959365845,\n",
       " 0.08643845468759537,\n",
       " 0.09015976637601852,\n",
       " 0.4510262608528137,\n",
       " 0.3356797695159912,\n",
       " 0.3303915560245514,\n",
       " 0.40396469831466675,\n",
       " 0.07429856061935425,\n",
       " 0.7502737641334534,\n",
       " 0.43310248851776123,\n",
       " 0.4742910861968994,\n",
       " 0.35010769963264465,\n",
       " 0.20452292263507843,\n",
       " 0.4219043254852295,\n",
       " 0.22058503329753876,\n",
       " 0.1856517791748047,\n",
       " 0.3711378276348114,\n",
       " 0.28378909826278687,\n",
       " 0.15472151339054108,\n",
       " 0.10576266795396805,\n",
       " 0.22510190308094025,\n",
       " 0.08676960319280624,\n",
       " 0.5202184319496155,\n",
       " 0.13591137528419495,\n",
       " 0.2945575714111328,\n",
       " 0.18387551605701447,\n",
       " 0.21089738607406616,\n",
       " 0.25180864334106445,\n",
       " 0.2765524983406067,\n",
       " 0.2784145176410675,\n",
       " 0.38050323724746704,\n",
       " 0.07247264683246613,\n",
       " 0.34440863132476807,\n",
       " 0.17127126455307007,\n",
       " 0.09725937992334366,\n",
       " 0.4191782772541046,\n",
       " 0.058470986783504486,\n",
       " 0.3136082589626312,\n",
       " 0.15400834381580353,\n",
       " 0.28708547353744507,\n",
       " 0.08395234495401382,\n",
       " 0.18112649023532867,\n",
       " 0.13543832302093506,\n",
       " 0.4807048738002777,\n",
       " 0.1404731124639511,\n",
       " 0.5124168992042542,\n",
       " 0.5048743486404419,\n",
       " 0.04713977128267288,\n",
       " 0.5034635663032532,\n",
       " 0.4943254888057709,\n",
       " 0.40787649154663086,\n",
       " 0.4445994794368744,\n",
       " 0.33846360445022583,\n",
       " 0.5329625010490417,\n",
       " 0.24683348834514618,\n",
       " 0.16365551948547363,\n",
       " 0.6283476948738098,\n",
       " 0.38848933577537537,\n",
       " 0.11827629804611206,\n",
       " 0.37116968631744385,\n",
       " 0.3246072232723236,\n",
       " 0.43040868639945984,\n",
       " 0.43996942043304443,\n",
       " 0.6862499117851257,\n",
       " 0.11184310168027878,\n",
       " 0.4380815923213959,\n",
       " 0.09653018414974213,\n",
       " 0.11308752000331879,\n",
       " 0.5396851897239685,\n",
       " 0.09306693077087402,\n",
       " 0.24677211046218872,\n",
       " 0.3933923840522766,\n",
       " 0.44125527143478394,\n",
       " 0.27716365456581116,\n",
       " 0.21800737082958221,\n",
       " 0.15432503819465637,\n",
       " 0.12643425166606903,\n",
       " 0.2304607778787613,\n",
       " 0.08536402881145477,\n",
       " 0.35356539487838745,\n",
       " 0.18659226596355438,\n",
       " 0.4975144863128662,\n",
       " 0.07936742156744003,\n",
       " 0.24957133829593658,\n",
       " 0.5657607913017273,\n",
       " 0.3480463922023773,\n",
       " 0.32953473925590515,\n",
       " 0.17271257936954498,\n",
       " 0.15811456739902496,\n",
       " 0.3967176675796509,\n",
       " 0.3955416977405548,\n",
       " 0.42598116397857666,\n",
       " 0.7808945178985596,\n",
       " 0.15963388979434967,\n",
       " 0.4187069237232208,\n",
       " 0.25614604353904724,\n",
       " 0.40527424216270447,\n",
       " 0.3646663427352905,\n",
       " 0.44058555364608765,\n",
       " 0.3343079686164856,\n",
       " 0.2698501646518707,\n",
       " 0.13871237635612488,\n",
       " 0.4576569199562073,\n",
       " 0.2946152985095978,\n",
       " 0.28652727603912354,\n",
       " 0.5067210793495178,\n",
       " 0.16856494545936584,\n",
       " 0.1791713982820511,\n",
       " 0.3356908857822418,\n",
       " 0.6880527138710022,\n",
       " 0.1015453115105629,\n",
       " 0.3744592070579529,\n",
       " 0.2918829321861267,\n",
       " 0.08105476200580597,\n",
       " 0.4514910578727722,\n",
       " 0.36030313372612,\n",
       " 0.2302839457988739,\n",
       " 0.6068512797355652,\n",
       " 0.512614905834198,\n",
       " 0.1603417694568634,\n",
       " 0.42652419209480286,\n",
       " 0.3936235010623932,\n",
       " 0.215287446975708,\n",
       " 0.460852712392807,\n",
       " 0.08834187686443329,\n",
       " 0.43697088956832886,\n",
       " 0.4429991841316223,\n",
       " 0.2584659159183502,\n",
       " 0.3727847933769226,\n",
       " 0.22031033039093018,\n",
       " 0.2729667127132416,\n",
       " 0.2157682329416275,\n",
       " 0.22326548397541046,\n",
       " 0.18933653831481934,\n",
       " 0.5793836712837219,\n",
       " 0.2640116810798645,\n",
       " 0.5841895341873169,\n",
       " 0.3977590799331665,\n",
       " 0.31827375292778015,\n",
       " 0.5320059061050415,\n",
       " 0.6594266891479492,\n",
       " 0.2833208441734314,\n",
       " 0.3343658149242401,\n",
       " 0.129930317401886,\n",
       " 0.17178209125995636,\n",
       " 0.1247878447175026,\n",
       " 0.33413761854171753,\n",
       " 0.3972819745540619,\n",
       " 0.3704201877117157,\n",
       " 0.6221308708190918,\n",
       " 0.2294096052646637,\n",
       " 0.3920239508152008,\n",
       " 0.37754276394844055,\n",
       " 0.49363502860069275,\n",
       " 0.47207674384117126,\n",
       " 0.1398714780807495,\n",
       " 0.27112844586372375,\n",
       " 0.23817019164562225,\n",
       " 0.29333600401878357,\n",
       " 0.2302861213684082,\n",
       " 0.40404796600341797,\n",
       " 0.19815628230571747,\n",
       " 0.16090691089630127,\n",
       " 0.3177846670150757,\n",
       " 0.07798293977975845,\n",
       " 0.34829238057136536,\n",
       " 0.30667293071746826,\n",
       " 0.3980742394924164,\n",
       " 0.29237884283065796,\n",
       " 0.28318148851394653,\n",
       " 0.09890308231115341,\n",
       " 0.11257732659578323,\n",
       " 0.17969413101673126,\n",
       " 0.6225438117980957,\n",
       " 0.5076735019683838,\n",
       " 0.18952670693397522,\n",
       " 0.16888201236724854,\n",
       " 0.1647953987121582,\n",
       " 0.2772415578365326,\n",
       " 0.1789480745792389,\n",
       " 0.36569860577583313,\n",
       " 0.6418607831001282,\n",
       " 0.5339094400405884,\n",
       " 0.1277499943971634,\n",
       " 0.24206817150115967,\n",
       " 0.6540101170539856,\n",
       " 0.26274237036705017,\n",
       " 0.18368712067604065,\n",
       " 0.31715038418769836,\n",
       " 0.6164098978042603,\n",
       " 0.22093403339385986,\n",
       " 0.37695661187171936,\n",
       " 0.15503539144992828,\n",
       " 0.2312578558921814,\n",
       " 0.29758191108703613,\n",
       " 0.08498534560203552,\n",
       " 0.5146698951721191,\n",
       " 0.35678941011428833,\n",
       " 0.40737685561180115,\n",
       " 0.7793678045272827,\n",
       " 0.41791144013404846,\n",
       " 0.08729450404644012,\n",
       " 0.5658026933670044,\n",
       " 0.08051145821809769,\n",
       " 0.5829810500144958,\n",
       " 0.356518417596817,\n",
       " 0.44242602586746216,\n",
       " 0.519812822341919,\n",
       " 0.16208472847938538,\n",
       " 0.3829885721206665,\n",
       " 0.2690701484680176,\n",
       " 0.2772296667098999,\n",
       " 0.2773969769477844,\n",
       " 0.2464238405227661,\n",
       " 0.37118858098983765,\n",
       " 0.34063720703125,\n",
       " 0.37321361899375916,\n",
       " 0.19704869389533997,\n",
       " 0.3140653073787689,\n",
       " 0.18051689863204956,\n",
       " 0.22839076817035675,\n",
       " 0.34424179792404175,\n",
       " 0.2791697084903717,\n",
       " 0.21296928822994232,\n",
       " 0.22454579174518585,\n",
       " 0.5340038537979126,\n",
       " 0.16799387335777283,\n",
       " 0.47649452090263367,\n",
       " 0.17903321981430054,\n",
       " 0.5875251889228821,\n",
       " 0.2210955023765564,\n",
       " 0.30926674604415894,\n",
       " 0.294418603181839,\n",
       " 0.38776034116744995,\n",
       " 0.22246763110160828,\n",
       " 0.5473660230636597,\n",
       " 0.276301771402359,\n",
       " 0.4926380217075348,\n",
       " 0.5173315405845642,\n",
       " 0.30129292607307434,\n",
       " 0.2016216665506363,\n",
       " 0.13012973964214325,\n",
       " 0.24828974902629852,\n",
       " 0.23520204424858093,\n",
       " 0.1703922003507614,\n",
       " 0.099246546626091,\n",
       " 0.07647106051445007,\n",
       " 0.047104787081480026,\n",
       " 0.2940337359905243,\n",
       " 0.39425283670425415,\n",
       " 0.4110083281993866,\n",
       " 0.31110382080078125,\n",
       " 0.1568971574306488,\n",
       " 0.1548141986131668,\n",
       " 0.22143593430519104,\n",
       " 0.2618905007839203,\n",
       " 0.15520283579826355,\n",
       " 0.12778756022453308,\n",
       " 0.12611497938632965,\n",
       " 0.19103729724884033,\n",
       " 0.4908736050128937,\n",
       " 0.49762940406799316,\n",
       " 0.417066365480423,\n",
       " 0.3925139605998993,\n",
       " 0.2599732279777527,\n",
       " 0.2490498125553131,\n",
       " 0.20370569825172424,\n",
       " 0.3014891743659973,\n",
       " 0.4452032446861267,\n",
       " 0.10145781189203262,\n",
       " 0.07760016620159149,\n",
       " 0.2571936249732971,\n",
       " 0.6624399423599243,\n",
       " 0.6166829466819763,\n",
       " 0.06892475485801697,\n",
       " 0.4170641601085663,\n",
       " 0.17435406148433685,\n",
       " 0.040764011442661285,\n",
       " 0.3074302673339844,\n",
       " 0.14969679713249207,\n",
       " 0.22244331240653992,\n",
       " 0.4494665265083313,\n",
       " 0.1576833724975586,\n",
       " 0.24097755551338196,\n",
       " 0.4371277391910553,\n",
       " 0.26059478521347046,\n",
       " 0.07886239886283875,\n",
       " 0.5034950971603394,\n",
       " 0.3071705996990204,\n",
       " 0.4581329822540283,\n",
       " 0.1485002487897873,\n",
       " 0.365579217672348,\n",
       " 0.10976862907409668,\n",
       " 0.5494672060012817,\n",
       " 0.1823846697807312,\n",
       " 0.4926932454109192,\n",
       " 0.43787017464637756,\n",
       " 0.14712479710578918,\n",
       " 0.13954980671405792,\n",
       " 0.1631869226694107,\n",
       " 0.33930858969688416,\n",
       " 0.20119324326515198,\n",
       " 0.4722154140472412,\n",
       " 0.36636868119239807,\n",
       " 0.41445380449295044,\n",
       " 0.6439017653465271,\n",
       " 0.2637215554714203,\n",
       " 0.25543704628944397,\n",
       " 0.04798645153641701,\n",
       " 0.25519105792045593,\n",
       " 0.39526885747909546,\n",
       " 0.3515418767929077,\n",
       " 0.07140445709228516,\n",
       " 0.21272650361061096,\n",
       " 0.29918789863586426,\n",
       " 0.21936507523059845,\n",
       " 0.19121281802654266,\n",
       " 0.0778239294886589,\n",
       " 0.05425150692462921,\n",
       " 0.13813836872577667,\n",
       " 0.2000967413187027,\n",
       " 0.2177235335111618,\n",
       " 0.3717966079711914,\n",
       " 0.13808810710906982,\n",
       " 0.1842215210199356,\n",
       " 0.12506172060966492,\n",
       " 0.13436633348464966,\n",
       " 0.22254613041877747,\n",
       " 0.206481471657753,\n",
       " 0.07137349992990494,\n",
       " 0.028928687795996666,\n",
       " 0.3207100033760071,\n",
       " 0.054657626897096634,\n",
       " 0.15515035390853882,\n",
       " 0.13683219254016876,\n",
       " 0.06236851215362549,\n",
       " 0.11249909549951553,\n",
       " 0.1048346534371376,\n",
       " 0.0541551448404789,\n",
       " 0.23285715281963348,\n",
       " 0.048157237470149994,\n",
       " 0.09667528420686722,\n",
       " 0.039579663425683975,\n",
       " 0.23746971786022186,\n",
       " 0.06610792130231857,\n",
       " 0.05956314504146576,\n",
       " 0.3978550136089325,\n",
       " 0.15699641406536102,\n",
       " 0.041448093950748444,\n",
       " 0.2802946865558624,\n",
       " 0.10429930686950684,\n",
       " 0.08390268683433533,\n",
       " 0.2115786224603653,\n",
       " 0.028411656618118286,\n",
       " 0.16736222803592682,\n",
       " 0.13386406004428864,\n",
       " 0.0795174166560173,\n",
       " 0.04653436690568924,\n",
       " 0.08227436989545822,\n",
       " 0.0663989931344986,\n",
       " 0.15792326629161835,\n",
       " 0.06265787780284882,\n",
       " 0.07047013193368912,\n",
       " 0.06956391781568527,\n",
       " 0.04494958370923996,\n",
       " 0.1489783674478531,\n",
       " 0.025670181959867477,\n",
       " 0.06306558102369308,\n",
       " 0.4047921299934387,\n",
       " 0.07503648102283478,\n",
       " 0.14887991547584534,\n",
       " 0.2210221141576767,\n",
       " 0.04153832048177719,\n",
       " 0.0597350187599659,\n",
       " 0.17721883952617645,\n",
       " 0.10769429057836533,\n",
       " 0.07018890976905823,\n",
       " 0.24182981252670288,\n",
       " 0.07441256195306778,\n",
       " 0.07314423471689224,\n",
       " 0.04545888304710388,\n",
       " 0.031003005802631378,\n",
       " 0.07305571436882019,\n",
       " 0.04826389625668526,\n",
       " 0.19936582446098328,\n",
       " 0.1448247730731964,\n",
       " 0.11914914846420288,\n",
       " 0.06108573451638222,\n",
       " 0.027395887300372124,\n",
       " 0.10877188295125961,\n",
       " 0.21402734518051147,\n",
       " 0.1252061128616333,\n",
       " 0.22914476692676544,\n",
       " 0.15383563935756683,\n",
       " 0.07737661898136139,\n",
       " 0.36365559697151184,\n",
       " 0.06624209135770798,\n",
       " 0.2854035496711731,\n",
       " 0.021645385771989822,\n",
       " 0.07160978019237518,\n",
       " 0.16863363981246948,\n",
       " 0.04004089534282684,\n",
       " 0.06590251624584198,\n",
       " 0.03332577273249626,\n",
       " 0.1998889446258545,\n",
       " 0.02735556848347187,\n",
       " 0.3744262158870697,\n",
       " 0.08225983381271362,\n",
       " 0.16687047481536865,\n",
       " 0.39367902278900146,\n",
       " 0.052215952426195145,\n",
       " 0.022566836327314377,\n",
       " 0.2531226575374603,\n",
       " 0.3572210967540741,\n",
       " 0.07604841887950897,\n",
       " 0.48880526423454285,\n",
       " 0.19137249886989594,\n",
       " 0.019323313608765602,\n",
       " 0.07863128185272217,\n",
       " 0.04064269736409187,\n",
       " 0.5014752149581909,\n",
       " 0.03867868706583977,\n",
       " 0.04251454770565033,\n",
       " 0.053550563752651215,\n",
       " 0.14902269840240479,\n",
       " 0.03839195892214775,\n",
       " 0.04050637409090996,\n",
       " 0.08059906214475632,\n",
       " 0.1659877598285675,\n",
       " 0.23279255628585815,\n",
       " 0.5769634246826172,\n",
       " 0.02422921359539032,\n",
       " 0.2112729400396347,\n",
       " 0.12051815539598465,\n",
       " 0.054601896554231644,\n",
       " 0.08348456025123596,\n",
       " 0.06263376027345657,\n",
       " 0.22151388227939606,\n",
       " 0.02950882725417614,\n",
       " 0.2845373749732971,\n",
       " 0.11358486115932465,\n",
       " 0.1063932329416275,\n",
       " 0.08936989307403564,\n",
       " 0.043350234627723694,\n",
       " 0.15951375663280487,\n",
       " 0.44438982009887695,\n",
       " 0.05532795190811157,\n",
       " 0.035504039376974106,\n",
       " 0.026563726365566254,\n",
       " 0.1430615335702896,\n",
       " 0.07014049589633942,\n",
       " 0.14086446166038513,\n",
       " 0.1335097849369049,\n",
       " 0.14926813542842865,\n",
       " 0.06717126816511154,\n",
       " 0.17650437355041504,\n",
       " 0.1201133280992508,\n",
       " 0.08501496911048889,\n",
       " 0.14586734771728516,\n",
       " 0.0760427787899971,\n",
       " 0.07717017829418182,\n",
       " 0.14223334193229675,\n",
       " 0.1905655413866043,\n",
       " 0.14066997170448303,\n",
       " 0.02782193385064602,\n",
       " 0.11218277364969254,\n",
       " 0.12227722257375717,\n",
       " 0.021803708747029305,\n",
       " 0.029491905122995377,\n",
       " 0.09311968088150024,\n",
       " 0.14777131378650665,\n",
       " 0.16589193046092987,\n",
       " 0.03547623008489609,\n",
       " 0.42738983035087585,\n",
       " 0.04138105362653732,\n",
       " 0.4221399426460266,\n",
       " 0.10943922400474548,\n",
       " 0.11508765816688538,\n",
       " 0.03959203138947487,\n",
       " 0.03912188485264778,\n",
       " 0.02725270576775074,\n",
       " 0.34854856133461,\n",
       " 0.041203320026397705,\n",
       " 0.045247841626405716,\n",
       " 0.27239790558815,\n",
       " 0.2226790338754654,\n",
       " 0.032078035175800323,\n",
       " 0.04078536108136177,\n",
       " 0.024346210062503815,\n",
       " 0.013256297446787357,\n",
       " 0.15013578534126282,\n",
       " 0.10430215299129486,\n",
       " 0.048210520297288895,\n",
       " 0.04491403326392174,\n",
       " 0.03926488384604454,\n",
       " 0.08909463882446289,\n",
       " 0.019032394513487816,\n",
       " 0.1876101940870285,\n",
       " 0.0798943042755127,\n",
       " 0.10025839507579803,\n",
       " 0.0222358088940382,\n",
       " 0.03279750049114227,\n",
       " 0.03983696550130844,\n",
       " 0.25349855422973633,\n",
       " 0.14584308862686157,\n",
       " 0.12679271399974823,\n",
       " 0.0768975168466568,\n",
       " 0.3215276300907135,\n",
       " 0.15447989106178284,\n",
       " 0.040196772664785385,\n",
       " 0.07895852625370026,\n",
       " 0.23094575107097626,\n",
       " 0.28954562544822693,\n",
       " 0.018721535801887512,\n",
       " 0.054797135293483734,\n",
       " 0.07055699080228806,\n",
       " 0.127900168299675,\n",
       " 0.02890143170952797,\n",
       " 0.05366136506199837,\n",
       " 0.0715581551194191,\n",
       " 0.022073328495025635,\n",
       " 0.014862287789583206,\n",
       " 0.031095482409000397,\n",
       " 0.011610415764153004,\n",
       " 0.1045023500919342,\n",
       " 0.20691026747226715,\n",
       " 0.543667733669281,\n",
       " 0.2985234558582306,\n",
       " 0.15681034326553345,\n",
       " 0.07966988533735275,\n",
       " 0.046362146735191345,\n",
       " 0.1276158094406128,\n",
       " 0.239342600107193,\n",
       " 0.08588052541017532,\n",
       " 0.0744202733039856,\n",
       " 0.22707653045654297,\n",
       " 0.05792227387428284,\n",
       " 0.023269053548574448,\n",
       " 0.10531946271657944,\n",
       " 0.015745431184768677,\n",
       " 0.2802906036376953,\n",
       " 0.050380315631628036,\n",
       " 0.24450266361236572,\n",
       " 0.09666513651609421,\n",
       " 0.07899017632007599,\n",
       " 0.07014057040214539,\n",
       " 0.0663486197590828,\n",
       " 0.052518829703330994,\n",
       " 0.02108743228018284,\n",
       " 0.09994499385356903,\n",
       " 0.03345663473010063,\n",
       " 0.036851365119218826,\n",
       " 0.04107145220041275,\n",
       " 0.05713745579123497,\n",
       " 0.07791312038898468,\n",
       " 0.04368514567613602,\n",
       " 0.14569969475269318,\n",
       " ...]"
      ]
     },
     "execution_count": 20,
     "metadata": {},
     "output_type": "execute_result"
    }
   ],
   "source": [
    "Loss_list"
   ]
  }
 ],
 "metadata": {
  "kernelspec": {
   "display_name": "Python 3",
   "language": "python",
   "name": "python3"
  },
  "language_info": {
   "codemirror_mode": {
    "name": "ipython",
    "version": 3
   },
   "file_extension": ".py",
   "mimetype": "text/x-python",
   "name": "python",
   "nbconvert_exporter": "python",
   "pygments_lexer": "ipython3",
   "version": "3.8.5"
  }
 },
 "nbformat": 4,
 "nbformat_minor": 5
}
